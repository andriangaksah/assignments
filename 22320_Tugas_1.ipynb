{
  "nbformat": 4,
  "nbformat_minor": 0,
  "metadata": {
    "colab": {
      "provenance": []
    },
    "kernelspec": {
      "name": "ir",
      "display_name": "R"
    },
    "language_info": {
      "name": "R"
    }
  },
  "cells": [
    {
      "cell_type": "markdown",
      "source": [
        "# **Tugas 1 Praktikum Metode Peramalan**\n",
        "- **Nama Lengkap:** Andriansah\n",
        "- **NIF:** 22320\n",
        "- **Program Studi:** Statistika"
      ],
      "metadata": {
        "id": "pT7Z56wiKPdM"
      }
    },
    {
      "cell_type": "markdown",
      "source": [
        "## **Import Semua Packages/Library yang Digunakan**"
      ],
      "metadata": {
        "id": "ucc5fhl3K80t"
      }
    },
    {
      "cell_type": "code",
      "source": [
        "install.packages(\"openxlsx\")\n",
        "install.packages(\"dplyr\")\n",
        "install.packages(\"forecast\")\n",
        "install.packages(\"tseries\")\n",
        "install.packages(\"ggplot2\")\n",
        "install.packages(\"TTR\")\n",
        "install.packages(\"xts\")\n",
        "install.packages(\"ggfortify\")"
      ],
      "metadata": {
        "colab": {
          "base_uri": "https://localhost:8080/"
        },
        "id": "ezOmNnilXaqJ",
        "outputId": "112e866b-b72b-48b3-bf91-d2a72ca9a946"
      },
      "execution_count": 1,
      "outputs": [
        {
          "output_type": "stream",
          "name": "stderr",
          "text": [
            "Installing package into ‘/usr/local/lib/R/site-library’\n",
            "(as ‘lib’ is unspecified)\n",
            "\n",
            "Installing package into ‘/usr/local/lib/R/site-library’\n",
            "(as ‘lib’ is unspecified)\n",
            "\n",
            "Installing package into ‘/usr/local/lib/R/site-library’\n",
            "(as ‘lib’ is unspecified)\n",
            "\n",
            "also installing the dependencies ‘xts’, ‘TTR’, ‘quadprog’, ‘quantmod’, ‘fracdiff’, ‘lmtest’, ‘timeDate’, ‘tseries’, ‘urca’, ‘zoo’, ‘RcppArmadillo’\n",
            "\n",
            "\n",
            "Installing package into ‘/usr/local/lib/R/site-library’\n",
            "(as ‘lib’ is unspecified)\n",
            "\n",
            "Installing package into ‘/usr/local/lib/R/site-library’\n",
            "(as ‘lib’ is unspecified)\n",
            "\n",
            "Installing package into ‘/usr/local/lib/R/site-library’\n",
            "(as ‘lib’ is unspecified)\n",
            "\n",
            "Installing package into ‘/usr/local/lib/R/site-library’\n",
            "(as ‘lib’ is unspecified)\n",
            "\n",
            "Installing package into ‘/usr/local/lib/R/site-library’\n",
            "(as ‘lib’ is unspecified)\n",
            "\n",
            "also installing the dependency ‘gridExtra’\n",
            "\n",
            "\n"
          ]
        }
      ]
    },
    {
      "cell_type": "code",
      "execution_count": 2,
      "metadata": {
        "id": "c8FTDslgi56H",
        "colab": {
          "base_uri": "https://localhost:8080/"
        },
        "outputId": "80da0010-4e6e-43c2-eedd-a87957a9f051"
      },
      "outputs": [
        {
          "output_type": "stream",
          "name": "stderr",
          "text": [
            "\n",
            "Attaching package: ‘dplyr’\n",
            "\n",
            "\n",
            "The following objects are masked from ‘package:stats’:\n",
            "\n",
            "    filter, lag\n",
            "\n",
            "\n",
            "The following objects are masked from ‘package:base’:\n",
            "\n",
            "    intersect, setdiff, setequal, union\n",
            "\n",
            "\n",
            "Registered S3 method overwritten by 'quantmod':\n",
            "  method            from\n",
            "  as.zoo.data.frame zoo \n",
            "\n",
            "\n",
            "Attaching package: ‘zoo’\n",
            "\n",
            "\n",
            "The following objects are masked from ‘package:base’:\n",
            "\n",
            "    as.Date, as.Date.numeric\n",
            "\n",
            "\n",
            "\n",
            "######################### Warning from 'xts' package ##########################\n",
            "#                                                                             #\n",
            "# The dplyr lag() function breaks how base R's lag() function is supposed to  #\n",
            "# work, which breaks lag(my_xts). Calls to lag(my_xts) that you type or       #\n",
            "# source() into this session won't work correctly.                            #\n",
            "#                                                                             #\n",
            "# Use stats::lag() to make sure you're not using dplyr::lag(), or you can add #\n",
            "# conflictRules('dplyr', exclude = 'lag') to your .Rprofile to stop           #\n",
            "# dplyr from breaking base R's lag() function.                                #\n",
            "#                                                                             #\n",
            "# Code in packages is not affected. It's protected by R's namespace mechanism #\n",
            "# Set `options(xts.warn_dplyr_breaks_lag = FALSE)` to suppress this warning.  #\n",
            "#                                                                             #\n",
            "###############################################################################\n",
            "\n",
            "\n",
            "Attaching package: ‘xts’\n",
            "\n",
            "\n",
            "The following objects are masked from ‘package:dplyr’:\n",
            "\n",
            "    first, last\n",
            "\n",
            "\n",
            "Loading required package: ggplot2\n",
            "\n",
            "Registered S3 methods overwritten by 'ggfortify':\n",
            "  method                 from    \n",
            "  autoplot.Arima         forecast\n",
            "  autoplot.acf           forecast\n",
            "  autoplot.ar            forecast\n",
            "  autoplot.bats          forecast\n",
            "  autoplot.decomposed.ts forecast\n",
            "  autoplot.ets           forecast\n",
            "  autoplot.forecast      forecast\n",
            "  autoplot.stl           forecast\n",
            "  autoplot.ts            forecast\n",
            "  fitted.ar              forecast\n",
            "  fortify.ts             forecast\n",
            "  residuals.ar           forecast\n",
            "\n"
          ]
        }
      ],
      "source": [
        "library(openxlsx)\n",
        "library(dplyr)\n",
        "library(forecast)\n",
        "library(tseries)\n",
        "library(zoo)\n",
        "library(TTR)\n",
        "library(xts)\n",
        "library(ggfortify)"
      ]
    },
    {
      "cell_type": "markdown",
      "source": [
        "## **Jawaban Nomor 1**"
      ],
      "metadata": {
        "id": "Fzk-HGubLbn4"
      }
    },
    {
      "cell_type": "markdown",
      "source": [
        "### **1. Prinsip Kerja Metode Peramalam**\n",
        "\n",
        "#### **Metode Naive**\n",
        "Prinsip kerja metode Naive adalah dengan mengambil nilai observasi terakhir sebagai perkiraan untuk periode selanjutnya tanpa melakukan perhitungan tambahan atau mempertimbangkan tren dan pola musiman.\n",
        "\n",
        "#### **Simple Moving Average**\n",
        "Prinsip kerja Simple Moving Average (SMA) adalah dengan mengambil rata-rata dari N data terakhir dalam suatu deret waktu untuk menghasilkan nilai estimasi pada periode berikutnya. Setiap kali data baru masuk, data yang paling lama akan dihapus, sehingga perhitungan selalu diperbarui dan bergerak seiring waktu.\n",
        "\n",
        "### **Double Moving Average**\n",
        "Prinsip kerja Double Moving Average (DMA) terdiri dari dua langkah perataan bertahap untuk mengidentifikasi tren dalam data deret waktu. Pertama, dilakukan perhitungan Simple Moving Average (SMA) dengan periode tertentu M, yang menghasilkan serangkaian nilai rata-rata pertama. Kedua, hasil dari SMA pertama kemudian digunakan untuk menghitung SMA kedua dengan periode N, yang menghasilkan rata-rata yang lebih halus. Proses ini membantu mengurangi fluktuasi acak dan menyoroti pola tren yang lebih jelas. Setelah kedua perhitungan ini selesai dapat dilakukan penyesuaian untuk memperkirakan kecenderungan data ke periode mendatang berdasarkan perbedaan antara SMA pertama dan kedua.\n",
        "\n",
        "### **Single Exponential Smoothing**\n",
        "Prinsip kerja Single Exponential Smoothing (SES) adalah memberikan bobot lebih besar pada data terbaru dalam peramalan, sementara data lama memiliki pengaruh yang semakin kecil secara eksponensial. Metode ini bekerja dengan memperbarui prediksi setiap periode menggunakan rata-rata tertimbang dari nilai aktual sebelumnya dan prediksi sebelumnya.\n",
        "\n",
        "### **Double Exponential Smoothing**\n",
        "Double Exponential Smoothing (DES) adalah metode peramalan yang digunakan untuk data dengan tren dengan cara memperbarui dua komponen utama yaitu level (rata-rata yang diperhalus) dan tren (kecepatan perubahan) di mana metode DES ini memberikan bobot lebih besar pada data terbaru untuk menangkap tren dengan lebih baik dibandingkan Single Exponential Smoothing.\n",
        "\n",
        "## **2. Metode Peramalan untuk Data dengan Fluktuasi Acak**\n",
        "Simple Moving Average paling cocok digunakan jika terdapat pola data yang menunjukkan fluktuasi acak tanpa tren yang jelas karena metode ini bekerja dengan cara mengambil rata-rata sejumlah periode sebelumnya yang dapat mengurangi dampak dari lonjakan atau penurunan nilai yang bersifat acak.\n",
        "\n",
        "## **3. Metode Peramalan untuk Data dengan Tren Penjualan Meningkat**\n",
        "Double Exponential Smoothing (DES) cocok untuk data dengan tren meningkat karena tidak hanya memperhitungkan nilai historis tetapi juga mengakomodasi pola tren dalam data di mana ini menggunakan dua tingkat perataan eksponensial yaitu untuk level dasar dan tren sehingga dapat menangkap perubahan arah pertumbuhan secara lebih akurat dibandingkan metode sederhana seperti Simple Moving Average atau Single Exponential Smoothing.\n",
        "\n",
        "## **4. Menentukan Parameter pada Single Exponential Smoothing**\n",
        "Jika ingin menggunakan metode Single Eksponensial Smoothing untuk\n",
        "menentukan parameter terbaiknya yaitu sebagai berikut.\n",
        "- Terlebih dahulu menentukan nilai awal pada data\n",
        "- Menghitung nilai peramalan dengan metode simulasi atau trial and error menggunakan nilai 𝛼 antara 0 sampai 1 untuk mengetahui berapa nilai 𝛼 yang paling optimum\n",
        "- Mentukan selisih antara nilai aktual dan nilai peramalan kemudian menggunakan RMSE (Root Mean Squared Error) sebagai metrik evaluasi\n",
        "- Memilih  nilai 𝛼 yang menghasilkan error paling kecil (optimum) seperti berdasarkan RMSE paling kecil nilai 𝛼 dianggap sebagai parameter optimal\n",
        "- Melakukan peramalan data metode SES dengan nilai 𝛼 nilai dipilih untuk meramal data selanjutnya\n",
        "\n",
        "## **5. Pengaruh Pemilihan Nilai Parameter Smoothing (α, β) dalam Double Exponential Smoothing**\n",
        "Dalam Double Exponential Smoothing (DES) pemilihan nilai parameter smoothing α (level smoothing) dan β (trend smoothing) sangat mempengaruhi hasil peramalan yang dijelaskan sebagai berikut.  \n",
        "- Nilai α mendekati  0 akan lebih mengandalkan data historis sehingga lebih stabil tetapi lebih lambat dalam menyesuaikan perubahan tren lebih cocok untuk data yang lebih konstan.\n",
        "- Nilai α mendekati 1 akan lebih sensitif terhadap perubahan data terbaru, tetapi juga lebih rentan terhadap fluktuasi acak (kurang stabil) lebih cocok untuk data yang mengalami perubahan cepat.  \n",
        "- Nilai β mendekati mendekati 0 tren akan diperbarui dengan lebih lambat, membuat model lebih stabil tetapi kurang mampu menangkap perubahan tren secara dinamis.  \n",
        "- Nilai β mendekati mendekati 1 tren akan diperbarui dengan cepat sehingga model lebih responsif terhadap perubahan tren yang baru muncul tetapi bisa menghasilkan prediksi yang lebih berfluktuasi.\n",
        "\n",
        "Pemilihan kombinasi optimal α dan β dilakukan dengan mencoba berbagai nilai dan memilih yang menghasilkan error peramalan paling kecil seperti berdasarkan RMSE agar model tetap akurat dan adaptif terhadap pola data."
      ],
      "metadata": {
        "id": "Z5ahBUm5MLW9"
      }
    },
    {
      "cell_type": "markdown",
      "source": [
        "## **Jawaban Nomor 2**"
      ],
      "metadata": {
        "id": "GACEr_-WjHSr"
      }
    },
    {
      "cell_type": "code",
      "source": [
        "# Import Data Nomor 2\n",
        "data2 = read.xlsx(\"/content/Data Tugas 1.xlsx\", sheet = 1)\n",
        "head(data2)"
      ],
      "metadata": {
        "id": "VQmKQ0knjJTr",
        "colab": {
          "base_uri": "https://localhost:8080/",
          "height": 286
        },
        "outputId": "b9bb473a-b663-4cd5-ff27-30b027b6c4df"
      },
      "execution_count": 4,
      "outputs": [
        {
          "output_type": "display_data",
          "data": {
            "text/html": [
              "<table class=\"dataframe\">\n",
              "<caption>A data.frame: 6 × 3</caption>\n",
              "<thead>\n",
              "\t<tr><th></th><th scope=col>Date</th><th scope=col>Junction</th><th scope=col>Vehicles</th></tr>\n",
              "\t<tr><th></th><th scope=col>&lt;chr&gt;</th><th scope=col>&lt;dbl&gt;</th><th scope=col>&lt;dbl&gt;</th></tr>\n",
              "</thead>\n",
              "<tbody>\n",
              "\t<tr><th scope=row>1</th><td>2015-11-01</td><td>1</td><td>327</td></tr>\n",
              "\t<tr><th scope=row>2</th><td>2015-11-01</td><td>2</td><td>133</td></tr>\n",
              "\t<tr><th scope=row>3</th><td>2015-11-02</td><td>1</td><td>546</td></tr>\n",
              "\t<tr><th scope=row>4</th><td>2015-11-02</td><td>2</td><td>197</td></tr>\n",
              "\t<tr><th scope=row>5</th><td>2015-11-03</td><td>1</td><td>544</td></tr>\n",
              "\t<tr><th scope=row>6</th><td>2015-11-03</td><td>2</td><td>217</td></tr>\n",
              "</tbody>\n",
              "</table>\n"
            ],
            "text/markdown": "\nA data.frame: 6 × 3\n\n| <!--/--> | Date &lt;chr&gt; | Junction &lt;dbl&gt; | Vehicles &lt;dbl&gt; |\n|---|---|---|---|\n| 1 | 2015-11-01 | 1 | 327 |\n| 2 | 2015-11-01 | 2 | 133 |\n| 3 | 2015-11-02 | 1 | 546 |\n| 4 | 2015-11-02 | 2 | 197 |\n| 5 | 2015-11-03 | 1 | 544 |\n| 6 | 2015-11-03 | 2 | 217 |\n\n",
            "text/latex": "A data.frame: 6 × 3\n\\begin{tabular}{r|lll}\n  & Date & Junction & Vehicles\\\\\n  & <chr> & <dbl> & <dbl>\\\\\n\\hline\n\t1 & 2015-11-01 & 1 & 327\\\\\n\t2 & 2015-11-01 & 2 & 133\\\\\n\t3 & 2015-11-02 & 1 & 546\\\\\n\t4 & 2015-11-02 & 2 & 197\\\\\n\t5 & 2015-11-03 & 1 & 544\\\\\n\t6 & 2015-11-03 & 2 & 217\\\\\n\\end{tabular}\n",
            "text/plain": [
              "  Date       Junction Vehicles\n",
              "1 2015-11-01 1        327     \n",
              "2 2015-11-01 2        133     \n",
              "3 2015-11-02 1        546     \n",
              "4 2015-11-02 2        197     \n",
              "5 2015-11-03 1        544     \n",
              "6 2015-11-03 2        217     "
            ]
          },
          "metadata": {}
        }
      ]
    },
    {
      "cell_type": "code",
      "source": [
        "# Memisahkan data berdasarkan Junction\n",
        "wayne_tower <- data2 %>% filter(Junction == 1)\n",
        "wayne_tower <- wayne_tower[,-2]\n",
        "head(wayne_tower)\n",
        "\n",
        "arkham_bridge <- data2 %>% filter(Junction == 2)\n",
        "arkham_bridge <- arkham_bridge[,-2]\n",
        "head(arkham_bridge)\n",
        "\n",
        "# Mengubah tipe data menjadi time series\n",
        "ts_wayne_tower <- ts(wayne_tower$Vehicles, start = c(2015, 11), frequency = 365)\n",
        "ts_arkham_bridge <- ts(arkham_bridge$Vehicles, start = c(2015, 11), frequency = 365)"
      ],
      "metadata": {
        "id": "9iCsdQQ9bwJ9",
        "colab": {
          "base_uri": "https://localhost:8080/",
          "height": 555
        },
        "outputId": "66cb9be6-9c0e-448e-ce7b-d9f01daa5652"
      },
      "execution_count": 5,
      "outputs": [
        {
          "output_type": "display_data",
          "data": {
            "text/html": [
              "<table class=\"dataframe\">\n",
              "<caption>A data.frame: 6 × 2</caption>\n",
              "<thead>\n",
              "\t<tr><th></th><th scope=col>Date</th><th scope=col>Vehicles</th></tr>\n",
              "\t<tr><th></th><th scope=col>&lt;chr&gt;</th><th scope=col>&lt;dbl&gt;</th></tr>\n",
              "</thead>\n",
              "<tbody>\n",
              "\t<tr><th scope=row>1</th><td>2015-11-01</td><td>327</td></tr>\n",
              "\t<tr><th scope=row>2</th><td>2015-11-02</td><td>546</td></tr>\n",
              "\t<tr><th scope=row>3</th><td>2015-11-03</td><td>544</td></tr>\n",
              "\t<tr><th scope=row>4</th><td>2015-11-04</td><td>498</td></tr>\n",
              "\t<tr><th scope=row>5</th><td>2015-11-05</td><td>464</td></tr>\n",
              "\t<tr><th scope=row>6</th><td>2015-11-06</td><td>446</td></tr>\n",
              "</tbody>\n",
              "</table>\n"
            ],
            "text/markdown": "\nA data.frame: 6 × 2\n\n| <!--/--> | Date &lt;chr&gt; | Vehicles &lt;dbl&gt; |\n|---|---|---|\n| 1 | 2015-11-01 | 327 |\n| 2 | 2015-11-02 | 546 |\n| 3 | 2015-11-03 | 544 |\n| 4 | 2015-11-04 | 498 |\n| 5 | 2015-11-05 | 464 |\n| 6 | 2015-11-06 | 446 |\n\n",
            "text/latex": "A data.frame: 6 × 2\n\\begin{tabular}{r|ll}\n  & Date & Vehicles\\\\\n  & <chr> & <dbl>\\\\\n\\hline\n\t1 & 2015-11-01 & 327\\\\\n\t2 & 2015-11-02 & 546\\\\\n\t3 & 2015-11-03 & 544\\\\\n\t4 & 2015-11-04 & 498\\\\\n\t5 & 2015-11-05 & 464\\\\\n\t6 & 2015-11-06 & 446\\\\\n\\end{tabular}\n",
            "text/plain": [
              "  Date       Vehicles\n",
              "1 2015-11-01 327     \n",
              "2 2015-11-02 546     \n",
              "3 2015-11-03 544     \n",
              "4 2015-11-04 498     \n",
              "5 2015-11-05 464     \n",
              "6 2015-11-06 446     "
            ]
          },
          "metadata": {}
        },
        {
          "output_type": "display_data",
          "data": {
            "text/html": [
              "<table class=\"dataframe\">\n",
              "<caption>A data.frame: 6 × 2</caption>\n",
              "<thead>\n",
              "\t<tr><th></th><th scope=col>Date</th><th scope=col>Vehicles</th></tr>\n",
              "\t<tr><th></th><th scope=col>&lt;chr&gt;</th><th scope=col>&lt;dbl&gt;</th></tr>\n",
              "</thead>\n",
              "<tbody>\n",
              "\t<tr><th scope=row>1</th><td>2015-11-01</td><td>133</td></tr>\n",
              "\t<tr><th scope=row>2</th><td>2015-11-02</td><td>197</td></tr>\n",
              "\t<tr><th scope=row>3</th><td>2015-11-03</td><td>217</td></tr>\n",
              "\t<tr><th scope=row>4</th><td>2015-11-04</td><td>199</td></tr>\n",
              "\t<tr><th scope=row>5</th><td>2015-11-05</td><td>200</td></tr>\n",
              "\t<tr><th scope=row>6</th><td>2015-11-06</td><td>199</td></tr>\n",
              "</tbody>\n",
              "</table>\n"
            ],
            "text/markdown": "\nA data.frame: 6 × 2\n\n| <!--/--> | Date &lt;chr&gt; | Vehicles &lt;dbl&gt; |\n|---|---|---|\n| 1 | 2015-11-01 | 133 |\n| 2 | 2015-11-02 | 197 |\n| 3 | 2015-11-03 | 217 |\n| 4 | 2015-11-04 | 199 |\n| 5 | 2015-11-05 | 200 |\n| 6 | 2015-11-06 | 199 |\n\n",
            "text/latex": "A data.frame: 6 × 2\n\\begin{tabular}{r|ll}\n  & Date & Vehicles\\\\\n  & <chr> & <dbl>\\\\\n\\hline\n\t1 & 2015-11-01 & 133\\\\\n\t2 & 2015-11-02 & 197\\\\\n\t3 & 2015-11-03 & 217\\\\\n\t4 & 2015-11-04 & 199\\\\\n\t5 & 2015-11-05 & 200\\\\\n\t6 & 2015-11-06 & 199\\\\\n\\end{tabular}\n",
            "text/plain": [
              "  Date       Vehicles\n",
              "1 2015-11-01 133     \n",
              "2 2015-11-02 197     \n",
              "3 2015-11-03 217     \n",
              "4 2015-11-04 199     \n",
              "5 2015-11-05 200     \n",
              "6 2015-11-06 199     "
            ]
          },
          "metadata": {}
        }
      ]
    },
    {
      "cell_type": "markdown",
      "source": [
        "### **a. Periksa Stasioneritas Data**\n",
        "Menggunakan Augmented Dickey-Fuller (ADF) Test untuk menentukan apakah data jumlah\n",
        "kendaraan pada Wayne Tower dan Arkham Bridge bersifat stasioner atau tidak.\n"
      ],
      "metadata": {
        "id": "yFJRCe10mPO5"
      }
    },
    {
      "cell_type": "code",
      "source": [
        "# Augmented Dickey-Fuller (ADF) Test Wayne Tower\n",
        "adf_wayne_tower <- adf.test(ts_wayne_tower)\n",
        "print(adf_wayne_tower)"
      ],
      "metadata": {
        "id": "yfAR9hZNkgg5",
        "colab": {
          "base_uri": "https://localhost:8080/"
        },
        "outputId": "a9c955db-33e9-4316-be64-9d2948b074a7"
      },
      "execution_count": 6,
      "outputs": [
        {
          "output_type": "stream",
          "name": "stderr",
          "text": [
            "Warning message in adf.test(ts_wayne_tower):\n",
            "“p-value smaller than printed p-value”\n"
          ]
        },
        {
          "output_type": "stream",
          "name": "stdout",
          "text": [
            "\n",
            "\tAugmented Dickey-Fuller Test\n",
            "\n",
            "data:  ts_wayne_tower\n",
            "Dickey-Fuller = -6.1069, Lag order = 8, p-value = 0.01\n",
            "alternative hypothesis: stationary\n",
            "\n"
          ]
        }
      ]
    },
    {
      "cell_type": "markdown",
      "source": [
        "### **Uji Stasioner Data Jumlah Kendaraan pada Wayne Tower**\n",
        "*   **Hipotesis**\\\n",
        "$H_0:$ Data jumlah kendaraan pada Wayne Tower bersifat tidak stasioner\\\n",
        "$H_1:$ Data jumlah kendaraan pada Wayne Tower bersifat stasioner\n",
        "\n",
        "*   **Tingkat Signifikansi**\\\n",
        "$\\alpha = 5\\%$\n",
        "\n",
        "*   **Statistik Uji**\\\n",
        "P-Value = $0.01$\n",
        "\n",
        "*   **Daerah Kritik**\\\n",
        "$H_0$ ditolak jika P-Value $< \\alpha$\n",
        "\n",
        "*   **Kesimpulan**\\\n",
        "Karena P-Value = $0.01 < 5\\%$, maka $H_0$ akan ditolak. Sehingga dapat disimpulkan bahwa data jumlah kendaraan pada Wayne Tower bersifat stasioner."
      ],
      "metadata": {
        "id": "OOJNphDCNE9S"
      }
    },
    {
      "cell_type": "code",
      "source": [
        "# Augmented Dickey-Fuller (ADF) Test Arkham Bridge\n",
        "adf_arkham_bridge <- adf.test(ts_arkham_bridge)\n",
        "print(adf_arkham_bridge)"
      ],
      "metadata": {
        "id": "xY9whNqvoZa_",
        "colab": {
          "base_uri": "https://localhost:8080/"
        },
        "outputId": "ee0d314f-9df3-4529-dd9c-857e13e84a87"
      },
      "execution_count": 7,
      "outputs": [
        {
          "output_type": "stream",
          "name": "stdout",
          "text": [
            "\n",
            "\tAugmented Dickey-Fuller Test\n",
            "\n",
            "data:  ts_arkham_bridge\n",
            "Dickey-Fuller = -2.2001, Lag order = 8, p-value = 0.4936\n",
            "alternative hypothesis: stationary\n",
            "\n"
          ]
        }
      ]
    },
    {
      "cell_type": "markdown",
      "source": [
        "### **Uji Stasioner Data Jumlah Kendaraan pada Arkham Bridge**\n",
        "*   **Hipotesis**\\\n",
        "$H_0:$ Data jumlah kendaraan pada Arkham Bridge bersifat tidak stasioner\\\n",
        "$H_1:$ Data jumlah kendaraan pada Arkham Bridge bersifat stasioner\n",
        "\n",
        "*   **Tingkat Signifikansi**\\\n",
        "$\\alpha = 5\\%$\n",
        "\n",
        "*   **Statistik Uji**\\\n",
        "P-Value = $0.4936$\n",
        "\n",
        "*   **Daerah Kritik**\\\n",
        "$H_0$ ditolak jika P-Value $< \\alpha$\n",
        "\n",
        "*   **Kesimpulan**\\\n",
        "Karena P-Value = $0.4936 > 5\\%$, maka $H_0$ tidak ditolak. Sehingga dapat disimpulkan bahwa data jumlah kendaraan pada Arkham Bridge bersifat tidak stasioner."
      ],
      "metadata": {
        "id": "mmRo1MfpnZcI"
      }
    },
    {
      "cell_type": "markdown",
      "source": [
        "## **b. Prediksi Lalu Lintas dengan metode Moving Average**\n",
        "\n"
      ],
      "metadata": {
        "id": "80Dk6rLdpOv8"
      }
    },
    {
      "cell_type": "markdown",
      "source": [
        "Berdasarkan hasil uji ADF sebelumnya dapat digunakan untuk menentukan metode yang paling sesuai dalam meramalkan data jumlah kendaraan pada Wayne Tower adalah Simple Moving Average karena data menunjukkan sifat stasioner. Sementara itu, metode yang paling sesuai untuk meramalkan data jumlah kendaraan pada Arkham Bridge metode Double Moving Average karena memiliki karakteristik data yang bersifat tidak stasioner."
      ],
      "metadata": {
        "id": "ekcpNmSbcanD"
      }
    },
    {
      "cell_type": "markdown",
      "source": [
        "### **Simple Moving Average Wayne Tower**"
      ],
      "metadata": {
        "id": "p86dPkaxc3KT"
      }
    },
    {
      "cell_type": "code",
      "source": [
        "# Simple Moving Average dengan Orde 3\n",
        "ma_model <- ma(ts_wayne_tower, order=3)\n",
        "\n",
        "# Meramalkan data jumlah kendaraan pada Wayne Tower 1 periode ke depan\n",
        "forecast_sma <- forecast(ma_model, h=1)\n",
        "forecast_sma\n",
        "autoplot(forecast_sma)\n",
        "\n",
        "# RMSE\n",
        "residuals_sma <- ts_wayne_tower - ma_model\n",
        "rmse_sma <- sqrt(mean(residuals_sma^2, na.rm = TRUE))\n",
        "cat(\"\\nRMSE:\", rmse_sma)"
      ],
      "metadata": {
        "id": "QO_mzyz5sQeQ",
        "colab": {
          "base_uri": "https://localhost:8080/",
          "height": 546
        },
        "outputId": "6a3e7561-749a-4897-ae94-c0fd93ab5159"
      },
      "execution_count": 8,
      "outputs": [
        {
          "output_type": "stream",
          "name": "stderr",
          "text": [
            "Warning message in ets(object, model = \"ZZN\", lambda = lambda, biasadj = biasadj, :\n",
            "“Missing values encountered. Using longest contiguous portion of time series”\n"
          ]
        },
        {
          "output_type": "display_data",
          "data": {
            "text/plain": [
              "          Point Forecast    Lo 80    Hi 80   Lo 95    Hi 95\n",
              "2016.6904       2023.191 1744.827 2301.556 1597.47 2448.913"
            ]
          },
          "metadata": {}
        },
        {
          "output_type": "stream",
          "name": "stdout",
          "text": [
            "\n",
            "RMSE: 103.2099"
          ]
        },
        {
          "output_type": "display_data",
          "data": {
            "text/plain": [
              "plot without title"
            ],
            "image/png": "[encoded data removed]"
          },
          "metadata": {
            "image/png": {
              "width": 420,
              "height": 420
            }
          }
        }
      ]
    },
    {
      "cell_type": "markdown",
      "source": [
        "### **Interpretasi**\n",
        "Diperoleh output di atas nilai forecast dengan metode Simple Moving Average dengan order 3 yaitu sebesar 2023.191 ≈ 2023 dan RMSE sebesar 103.2099 ≈ 103 yang menunjukkan bahwa data ramalan jumlah kendaraan pada Wayne Tower pada 1 Juli 2017 yaitu sekitar 2023 kendaraan dengan error 103 kendaraan."
      ],
      "metadata": {
        "id": "XRvptI0CdjWL"
      }
    },
    {
      "cell_type": "markdown",
      "source": [
        "### **Double Moving Average Arkham Bridge**"
      ],
      "metadata": {
        "id": "HAL56nsPeNps"
      }
    },
    {
      "cell_type": "code",
      "source": [
        "# Double Moving Average Arkham Bridge dengan Orde 3×5\n",
        "ma_3 <- SMA(ts_arkham_bridge, n = 3)\n",
        "dma_3x5 <- SMA(ma_3, n = 5)\n",
        "\n",
        "at <- 2 * ma_3 - dma_3x5\n",
        "bt <- (2 / (5 - 1)) * (ma_3 - dma_3x5)\n",
        "\n",
        "# Meramalkan data jumlah kendaraan pada Arkham Bridge 1 periode ke depan\n",
        "m <- 1\n",
        "dma <- at[length(at)] + bt[length(bt)] * m\n",
        "cat(\"Forecast:\", dma)\n",
        "\n",
        "# RMSE\n",
        "residuals_dma <- ts_arkham_bridge - dma_3x5\n",
        "rmse_dma <- sqrt(mean(residuals_dma^2, na.rm = TRUE))\n",
        "cat(\"\\nRMSE:\", rmse_dma)"
      ],
      "metadata": {
        "id": "vR2L8EumeWEM",
        "colab": {
          "base_uri": "https://localhost:8080/"
        },
        "outputId": "13af9e2e-b66d-4634-e052-6ad21683c007"
      },
      "execution_count": 9,
      "outputs": [
        {
          "output_type": "stream",
          "name": "stdout",
          "text": [
            "Forecast: 797.0333\n",
            "RMSE: 86.91956"
          ]
        }
      ]
    },
    {
      "cell_type": "markdown",
      "source": [
        "### **Interpretasi**\n",
        "Diperoleh output di atas nilai forecast dengan metode Double Moving Average dengan order 3x5 yaitu sebesar 797.0333 ≈ 797 dan RMSE sebesar 86.91956 ≈ 87 yang menunjukkan bahwa data ramalan jumlah kendaraan pada Arkham Bridge pada 1 Juli 2017 yaitu sekitar 797 kendaraan dengan error 87 kendaraan."
      ],
      "metadata": {
        "id": "qH2vYH9Oh5GV"
      }
    },
    {
      "cell_type": "markdown",
      "source": [
        "## **c. Rute Terbaik yang Dipilih Batman untuk Mengejar Joker**\n",
        "\n",
        "Berdasarkan forecast data jumlah kendaraan pada 1 Juli 2017 diperoleh hasil ramalan menggunakan Simple Moving Average pada Wayne Tower yaitu sebanyak 2023 kendaraan. Sedangkan, hasil ramalan menggunakan Double Moving Average pada Arkham Bridge yaitu sebanyak 797 kendaraan. Oleh karena itu, dapat disimpulkan bahwa Batman sebaiknya melewati rute Arkham Bridge karena jumlah kendaraan yang lebih sedikit dibandingkan rute Wayne Tower sehingga memungkinkan Batman lebih cepat dan efisien untuk mengejar Joker."
      ],
      "metadata": {
        "id": "KbONXv3-i9DK"
      }
    },
    {
      "cell_type": "markdown",
      "source": [
        "## **Jawaban Nomor 3**"
      ],
      "metadata": {
        "id": "RbdBmn2RXVPY"
      }
    },
    {
      "cell_type": "code",
      "source": [
        "# Import Data Nomor 3\n",
        "data3 = read.xlsx(\"/content/Data Tugas 1.xlsx\", sheet = 2)\n",
        "head(data3)"
      ],
      "metadata": {
        "id": "FS07FtDwXXTo",
        "colab": {
          "base_uri": "https://localhost:8080/",
          "height": 286
        },
        "outputId": "f0b47ca0-d5d8-4cd6-ba33-57aa812bd6d7"
      },
      "execution_count": 10,
      "outputs": [
        {
          "output_type": "display_data",
          "data": {
            "text/html": [
              "<table class=\"dataframe\">\n",
              "<caption>A data.frame: 6 × 2</caption>\n",
              "<thead>\n",
              "\t<tr><th></th><th scope=col>Date</th><th scope=col>Close</th></tr>\n",
              "\t<tr><th></th><th scope=col>&lt;chr&gt;</th><th scope=col>&lt;dbl&gt;</th></tr>\n",
              "</thead>\n",
              "<tbody>\n",
              "\t<tr><th scope=row>1</th><td>03/14/25</td><td>2420</td></tr>\n",
              "\t<tr><th scope=row>2</th><td>03/13/25</td><td>2430</td></tr>\n",
              "\t<tr><th scope=row>3</th><td>03/12/25</td><td>2450</td></tr>\n",
              "\t<tr><th scope=row>4</th><td>03/11/25</td><td>2370</td></tr>\n",
              "\t<tr><th scope=row>5</th><td>03/10/25</td><td>2390</td></tr>\n",
              "\t<tr><th scope=row>6</th><td>03/07/25</td><td>2410</td></tr>\n",
              "</tbody>\n",
              "</table>\n"
            ],
            "text/markdown": "\nA data.frame: 6 × 2\n\n| <!--/--> | Date &lt;chr&gt; | Close &lt;dbl&gt; |\n|---|---|---|\n| 1 | 03/14/25 | 2420 |\n| 2 | 03/13/25 | 2430 |\n| 3 | 03/12/25 | 2450 |\n| 4 | 03/11/25 | 2370 |\n| 5 | 03/10/25 | 2390 |\n| 6 | 03/07/25 | 2410 |\n\n",
            "text/latex": "A data.frame: 6 × 2\n\\begin{tabular}{r|ll}\n  & Date & Close\\\\\n  & <chr> & <dbl>\\\\\n\\hline\n\t1 & 03/14/25 & 2420\\\\\n\t2 & 03/13/25 & 2430\\\\\n\t3 & 03/12/25 & 2450\\\\\n\t4 & 03/11/25 & 2370\\\\\n\t5 & 03/10/25 & 2390\\\\\n\t6 & 03/07/25 & 2410\\\\\n\\end{tabular}\n",
            "text/plain": [
              "  Date     Close\n",
              "1 03/14/25 2420 \n",
              "2 03/13/25 2430 \n",
              "3 03/12/25 2450 \n",
              "4 03/11/25 2370 \n",
              "5 03/10/25 2390 \n",
              "6 03/07/25 2410 "
            ]
          },
          "metadata": {}
        }
      ]
    },
    {
      "cell_type": "markdown",
      "source": [
        "Terlihat bahwa data saham TLKM di atas mulai dari data terbaru ke data lebih lama, maka perlu diurutkan datanya menjadi data paling lama ke terbaru."
      ],
      "metadata": {
        "id": "eY360yBCmSKB"
      }
    },
    {
      "cell_type": "code",
      "source": [
        "# Mengurutkan data dari paling lama ke terbaru\n",
        "data3$Date <- as.Date(data3$Date, format=\"%m/%d/%y\")\n",
        "data3 <- data3 %>% arrange(Date)\n",
        "\n",
        "head(data3)"
      ],
      "metadata": {
        "id": "jV5mO1UMlLsp",
        "colab": {
          "base_uri": "https://localhost:8080/",
          "height": 286
        },
        "outputId": "07c0a0ce-605c-45ff-8166-785824339e2a"
      },
      "execution_count": 11,
      "outputs": [
        {
          "output_type": "display_data",
          "data": {
            "text/html": [
              "<table class=\"dataframe\">\n",
              "<caption>A data.frame: 6 × 2</caption>\n",
              "<thead>\n",
              "\t<tr><th></th><th scope=col>Date</th><th scope=col>Close</th></tr>\n",
              "\t<tr><th></th><th scope=col>&lt;date&gt;</th><th scope=col>&lt;dbl&gt;</th></tr>\n",
              "</thead>\n",
              "<tbody>\n",
              "\t<tr><th scope=row>1</th><td>2024-03-01</td><td>3920</td></tr>\n",
              "\t<tr><th scope=row>2</th><td>2024-03-04</td><td>3940</td></tr>\n",
              "\t<tr><th scope=row>3</th><td>2024-03-05</td><td>3870</td></tr>\n",
              "\t<tr><th scope=row>4</th><td>2024-03-06</td><td>3900</td></tr>\n",
              "\t<tr><th scope=row>5</th><td>2024-03-07</td><td>3900</td></tr>\n",
              "\t<tr><th scope=row>6</th><td>2024-03-08</td><td>3860</td></tr>\n",
              "</tbody>\n",
              "</table>\n"
            ],
            "text/markdown": "\nA data.frame: 6 × 2\n\n| <!--/--> | Date &lt;date&gt; | Close &lt;dbl&gt; |\n|---|---|---|\n| 1 | 2024-03-01 | 3920 |\n| 2 | 2024-03-04 | 3940 |\n| 3 | 2024-03-05 | 3870 |\n| 4 | 2024-03-06 | 3900 |\n| 5 | 2024-03-07 | 3900 |\n| 6 | 2024-03-08 | 3860 |\n\n",
            "text/latex": "A data.frame: 6 × 2\n\\begin{tabular}{r|ll}\n  & Date & Close\\\\\n  & <date> & <dbl>\\\\\n\\hline\n\t1 & 2024-03-01 & 3920\\\\\n\t2 & 2024-03-04 & 3940\\\\\n\t3 & 2024-03-05 & 3870\\\\\n\t4 & 2024-03-06 & 3900\\\\\n\t5 & 2024-03-07 & 3900\\\\\n\t6 & 2024-03-08 & 3860\\\\\n\\end{tabular}\n",
            "text/plain": [
              "  Date       Close\n",
              "1 2024-03-01 3920 \n",
              "2 2024-03-04 3940 \n",
              "3 2024-03-05 3870 \n",
              "4 2024-03-06 3900 \n",
              "5 2024-03-07 3900 \n",
              "6 2024-03-08 3860 "
            ]
          },
          "metadata": {}
        }
      ]
    },
    {
      "cell_type": "code",
      "source": [
        "# Mengubah tipe data saham TLKM menjadi time series\n",
        "ts_data3 <- xts(data3$Close, order.by = data3$Date)\n",
        "\n",
        "head(ts_data3)"
      ],
      "metadata": {
        "id": "E6ui9j8VnpTU",
        "colab": {
          "base_uri": "https://localhost:8080/",
          "height": 144
        },
        "outputId": "4dceba57-48ef-4550-a3c2-559df65eb8e9"
      },
      "execution_count": 12,
      "outputs": [
        {
          "output_type": "display_data",
          "data": {
            "text/plain": [
              "           [,1]\n",
              "2024-03-01 3920\n",
              "2024-03-04 3940\n",
              "2024-03-05 3870\n",
              "2024-03-06 3900\n",
              "2024-03-07 3900\n",
              "2024-03-08 3860"
            ]
          },
          "metadata": {}
        }
      ]
    },
    {
      "cell_type": "markdown",
      "source": [
        "## **a. Apakah data historis harga penutupan saham TLKM bersifat stasioner?**"
      ],
      "metadata": {
        "id": "keu9A_6PoOvM"
      }
    },
    {
      "cell_type": "code",
      "source": [
        "autoplot(ts_data3) +\n",
        "  ggtitle(\"Harga Saham TLKM (Maret 2024 - Maret 2025)\") +\n",
        "  xlab(\"Tanggal\") + ylab(\"Harga Saham\") +\n",
        "  theme_minimal()"
      ],
      "metadata": {
        "id": "zOX2M-UfqhUA",
        "colab": {
          "base_uri": "https://localhost:8080/",
          "height": 437
        },
        "outputId": "2c10014f-eea6-492a-c254-cc4a70971f07"
      },
      "execution_count": 13,
      "outputs": [
        {
          "output_type": "display_data",
          "data": {
            "text/plain": [
              "plot without title"
            ],
            "image/png": "[encoded data removed]"
          },
          "metadata": {
            "image/png": {
              "width": 420,
              "height": 420
            }
          }
        }
      ]
    },
    {
      "cell_type": "markdown",
      "source": [
        "### **Interpretasi**\n",
        "Diperoleh output di atas plot data harga saham TLKM periode Maret 2024 sampai Maret 2025 terlihat bahwa harga saham cenderung mengalami tren penurunan meskipun terdapat beberapa kondisi fluktuasi dan kenaikan kecil di pertengahan periode tren keseluruhannya tetap menunjukkan pola turun."
      ],
      "metadata": {
        "id": "YeSV0Lbvqy89"
      }
    },
    {
      "cell_type": "code",
      "source": [
        "# Augmented Dickey-Fuller (ADF) Test Data Saham TLKM\n",
        "adf_saham_TLKM <- adf.test(ts_data3)\n",
        "print(adf_saham_TLKM)"
      ],
      "metadata": {
        "id": "HgLOKbMynyGx",
        "colab": {
          "base_uri": "https://localhost:8080/"
        },
        "outputId": "16096448-0b43-4b5a-92fe-db17cbc653c0"
      },
      "execution_count": 14,
      "outputs": [
        {
          "output_type": "stream",
          "name": "stdout",
          "text": [
            "\n",
            "\tAugmented Dickey-Fuller Test\n",
            "\n",
            "data:  ts_data3\n",
            "Dickey-Fuller = -3.3329, Lag order = 6, p-value = 0.06629\n",
            "alternative hypothesis: stationary\n",
            "\n"
          ]
        }
      ]
    },
    {
      "cell_type": "markdown",
      "source": [
        "### **Uji Stasioner Data Saham TLKM**\n",
        "*   **Hipotesis**\\\n",
        "$H_0:$ Data saham TLKM bersifat tidak stasioner\\\n",
        "$H_1:$ Data saham TLKM bersifat stasioner\n",
        "\n",
        "*   **Tingkat Signifikansi**\\\n",
        "$\\alpha = 5\\%$\n",
        "\n",
        "*   **Statistik Uji**\\\n",
        "P-Value = $0.06629$\n",
        "\n",
        "*   **Daerah Kritik**\\\n",
        "$H_0$ ditolak jika P-Value $< \\alpha$\n",
        "\n",
        "*   **Kesimpulan**\\\n",
        "Karena P-Value = $0.06629 > 5\\%$, maka $H_0$ tidak ditolak. Sehingga dapat disimpulkan bahwa data saham TLKM bersifat tidak stasioner."
      ],
      "metadata": {
        "id": "_JXLjQlkodyG"
      }
    },
    {
      "cell_type": "markdown",
      "source": [
        "Berdasarkan uji stasioner data saham TLKM diperoleh hasil bahwa data historis harga penutupan saham TLKM bersifat tidak stasioner."
      ],
      "metadata": {
        "id": "QdNHhmAJpuat"
      }
    },
    {
      "cell_type": "markdown",
      "source": [
        "## **b. Peramalan Harga Saham TLKM**"
      ],
      "metadata": {
        "id": "Y544mfmbpQQe"
      }
    },
    {
      "cell_type": "code",
      "source": [
        "# Double Moving Average\n",
        "ma_3 <- SMA(ts_data3, n = 3)\n",
        "dma_3x5 <- SMA(ma_3, n = 5)\n",
        "\n",
        "# Komponen level (at) dan tren (bt)\n",
        "at <- 2 * ma_3 - dma_3x5\n",
        "bt <- (2 / (5 - 1)) * (ma_3 - dma_3x5)\n",
        "\n",
        "# Meramalkan harga saham TLKM 3 periode ke depan\n",
        "n <- length(at)\n",
        "m_values <- 1:3\n",
        "forecast_dma3x5 <- matrix(NA, nrow = n, ncol = length(m_values))\n",
        "for (i in 1:n) {\n",
        "  if (!is.na(at[i]) && !is.na(bt[i])) {\n",
        "    forecast_dma3x5[i, ] <- sapply(m_values, function(m) at[i] + bt[i] * m)\n",
        "  }\n",
        "}\n",
        "final_forecast <- forecast_dma3x5[n, ]\n",
        "print(data.frame(Periode = m_values, Prediksi = final_forecast))"
      ],
      "metadata": {
        "colab": {
          "base_uri": "https://localhost:8080/"
        },
        "id": "Y1Xt20rmWWR5",
        "outputId": "8b378127-84d2-48c1-c063-ec3ea428610c"
      },
      "execution_count": 18,
      "outputs": [
        {
          "output_type": "stream",
          "name": "stdout",
          "text": [
            "  Periode Prediksi\n",
            "1       1 2470.333\n",
            "2       2 2482.667\n",
            "3       3 2495.000\n"
          ]
        }
      ]
    },
    {
      "cell_type": "markdown",
      "source": [
        "### **Interpretasi**\n",
        "Diperoleh output di atas hasil ramalan harga saham TLKM menggunakan Double Moving Average dengan order 3x5 untuk 3 periode ke depan berturut-turut adalah 2470.333, 2482.667, dan 2495."
      ],
      "metadata": {
        "id": "V4Hylz-AtZ0W"
      }
    },
    {
      "cell_type": "code",
      "source": [
        "# Holt’s Linear Trend\n",
        "model_holt <- holt(ts_data3, h = 3)\n",
        "\n",
        "print(model_holt)\n",
        "autoplot(model_holt)"
      ],
      "metadata": {
        "id": "tPnFtkZbo9yo",
        "colab": {
          "base_uri": "https://localhost:8080/",
          "height": 509
        },
        "outputId": "69baf4f3-b4da-4750-db62-b8d9ae8d0a69"
      },
      "execution_count": 19,
      "outputs": [
        {
          "output_type": "stream",
          "name": "stdout",
          "text": [
            "    Point Forecast    Lo 80    Hi 80    Lo 95    Hi 95\n",
            "247       2413.792 2334.702 2492.883 2292.834 2534.751\n",
            "248       2407.535 2296.383 2518.687 2237.543 2577.527\n",
            "249       2401.278 2265.427 2537.128 2193.512 2609.043\n"
          ]
        },
        {
          "output_type": "display_data",
          "data": {
            "text/plain": [
              "plot without title"
            ],
            "image/png": "[encoded data removed]"
          },
          "metadata": {
            "image/png": {
              "width": 420,
              "height": 420
            }
          }
        }
      ]
    },
    {
      "cell_type": "markdown",
      "source": [
        "### **Interpretasi**\n",
        "Diperoleh output di atas hasil ramalan harga saham TLKM menggunakan Holt’s Linear Trend untuk 3 periode ke depan berturut-turut adalah 2413.792, 2407.535, dan 2401.278."
      ],
      "metadata": {
        "id": "MybKdiQtuT8b"
      }
    },
    {
      "cell_type": "markdown",
      "source": [
        "## **c. Perbandingan Metode Peramalan yang Paling Baik dalam Meramalkan Harga Saham TLKM**"
      ],
      "metadata": {
        "id": "k2JViSsgutj_"
      }
    },
    {
      "cell_type": "code",
      "source": [
        "# Evalusasi metode Double Moving Average\n",
        "actual_values_dma3x5 <- tail(ts_data3, nrow(forecast_dma3x5))\n",
        "valid_idx <- complete.cases(forecast_dma3x5) & complete.cases(actual_values_dma3x5)\n",
        "\n",
        "# Hitung error metrics\n",
        "mse_dma3x5 <- mean((actual_values_dma3x5[valid_idx] - forecast_dma3x5[valid_idx, 1])^2, na.rm = TRUE)\n",
        "rmse_dma3x5 <- sqrt(mse_dma3x5)\n",
        "mae_dma3x5 <- mean(abs(actual_values_dma3x5[valid_idx] - forecast_dma3x5[valid_idx, 1]), na.rm = TRUE)\n",
        "\n",
        "results_dma3x5 <- data.frame(\n",
        "  Metode = \"Double Moving Average orde 3x5\",\n",
        "  MSE = mse_dma3x5,\n",
        "  RMSE = rmse_dma3x5,\n",
        "  MAE = mae_dma3x5\n",
        ")\n",
        "\n",
        "# Evalusasi metode Holt’s Linear Trend\n",
        "accuracy_holt <- accuracy(model_holt)\n",
        "\n",
        "rmse_holt <- accuracy_holt[\"Training set\", \"RMSE\"]\n",
        "mse_holt <- rmse_holt^2\n",
        "mae_holt <- accuracy_holt[\"Training set\", \"MAE\"]\n",
        "\n",
        "results_holt <- data.frame(\n",
        "  Metode = \"Holt’s Linear Trend\",\n",
        "  MSE = mse_holt,\n",
        "  RMSE = rmse_holt,\n",
        "  MAE = mae_holt\n",
        ")\n",
        "\n",
        "compare_result <- rbind(results_dma3x5,results_holt)\n",
        "print(compare_result)"
      ],
      "metadata": {
        "id": "xoJKv0IivR75",
        "colab": {
          "base_uri": "https://localhost:8080/"
        },
        "outputId": "12c80391-b94d-46d0-cdb6-b254aa7494de"
      },
      "execution_count": 27,
      "outputs": [
        {
          "output_type": "stream",
          "name": "stdout",
          "text": [
            "                          Metode      MSE     RMSE      MAE\n",
            "1 Double Moving Average orde 3x5 5805.851 76.19613 60.38333\n",
            "2            Holt’s Linear Trend 3746.760 61.21079 46.47463\n"
          ]
        }
      ]
    },
    {
      "cell_type": "markdown",
      "source": [
        "### **Interpretasi**\n",
        "Diperoleh output di atas terlihat bahwa secara keseluruhan nilai MSE, RMSE, dan MAE metode Holt’s Linear Trend lebih kecil dibandingkan metode Double Moving Average orde 3x5 dalam meramalkan harga saham TLKM. Oleh karena itu, metode yang paling baik digunakan adalah Holt’s Linear Trend."
      ],
      "metadata": {
        "id": "3dh7gn3FY8Fz"
      }
    },
    {
      "cell_type": "markdown",
      "source": [
        "## **d. Return yang Didapatkan**"
      ],
      "metadata": {
        "id": "PGFK4vXASsK7"
      }
    },
    {
      "cell_type": "markdown",
      "source": [
        "Return dapat dihitung menggunakan perhitungan Capital Gain\n",
        "\n",
        "$Capital \\ Gain = P_t - P_0 \\times \\frac{Modal \\ Awal}{P_0}$\n",
        "\n",
        "Keterangan:\n",
        "\n",
        "* $P_0$: harga saham TLKM pada 10 Oktober 2024 (harga beli)\n",
        "* $P_t$: harga saham TLKM pada 18 Maret 2025 (harga jual)\n",
        "* $Modal \\ Awal = Rp200.000$"
      ],
      "metadata": {
        "id": "UsDcdeRTTr0z"
      }
    },
    {
      "cell_type": "markdown",
      "source": [
        "### **Nilai $P_0$**"
      ],
      "metadata": {
        "id": "mJKN6bdOT860"
      }
    },
    {
      "cell_type": "code",
      "source": [
        "data3[data3$Date == as.Date(\"2024-10-10\"), ]"
      ],
      "metadata": {
        "id": "YBUXY4DYSvaD",
        "colab": {
          "base_uri": "https://localhost:8080/",
          "height": 129
        },
        "outputId": "1681a85a-19d6-4723-c018-5b8d23fd94d1"
      },
      "execution_count": 28,
      "outputs": [
        {
          "output_type": "display_data",
          "data": {
            "text/html": [
              "<table class=\"dataframe\">\n",
              "<caption>A data.frame: 1 × 2</caption>\n",
              "<thead>\n",
              "\t<tr><th></th><th scope=col>Date</th><th scope=col>Close</th></tr>\n",
              "\t<tr><th></th><th scope=col>&lt;date&gt;</th><th scope=col>&lt;dbl&gt;</th></tr>\n",
              "</thead>\n",
              "<tbody>\n",
              "\t<tr><th scope=row>143</th><td>2024-10-10</td><td>2950</td></tr>\n",
              "</tbody>\n",
              "</table>\n"
            ],
            "text/markdown": "\nA data.frame: 1 × 2\n\n| <!--/--> | Date &lt;date&gt; | Close &lt;dbl&gt; |\n|---|---|---|\n| 143 | 2024-10-10 | 2950 |\n\n",
            "text/latex": "A data.frame: 1 × 2\n\\begin{tabular}{r|ll}\n  & Date & Close\\\\\n  & <date> & <dbl>\\\\\n\\hline\n\t143 & 2024-10-10 & 2950\\\\\n\\end{tabular}\n",
            "text/plain": [
              "    Date       Close\n",
              "143 2024-10-10 2950 "
            ]
          },
          "metadata": {}
        }
      ]
    },
    {
      "cell_type": "markdown",
      "source": [
        "Diperoleh nilai $P_0$ sebesar 2950"
      ],
      "metadata": {
        "id": "WDhzeZINUDD9"
      }
    },
    {
      "cell_type": "markdown",
      "source": [
        "Diketahui bahwa pada dataset yang tersedia, harga saham ada sampai tanggal 14 Maret 2025 (hari Jumat). Karena pasar saham tidak beroperasi di hari Sabtu, Minggu, dan libur nasional, maka harga saham pada 18 Maret 2025 (hari Selasa) diambil dari peramalan atau forecast periode 2."
      ],
      "metadata": {
        "id": "aivUKOzkUQNC"
      }
    },
    {
      "cell_type": "markdown",
      "source": [
        "### **Nilai $P_t$**"
      ],
      "metadata": {
        "id": "t-12O1RFUTpn"
      }
    },
    {
      "cell_type": "code",
      "source": [
        "model_holt"
      ],
      "metadata": {
        "colab": {
          "base_uri": "https://localhost:8080/",
          "height": 89
        },
        "id": "7QgrgaXbUS2O",
        "outputId": "00cbe621-1569-4ad5-85d0-197c0ae47ba0"
      },
      "execution_count": 30,
      "outputs": [
        {
          "output_type": "display_data",
          "data": {
            "text/plain": [
              "    Point Forecast    Lo 80    Hi 80    Lo 95    Hi 95\n",
              "247       2413.792 2334.702 2492.883 2292.834 2534.751\n",
              "248       2407.535 2296.383 2518.687 2237.543 2577.527\n",
              "249       2401.278 2265.427 2537.128 2193.512 2609.043"
            ]
          },
          "metadata": {}
        }
      ]
    },
    {
      "cell_type": "markdown",
      "source": [
        "Diperoleh nilai $P_t$ sebesar 2407.535"
      ],
      "metadata": {
        "id": "YLFOcerqUBJ3"
      }
    },
    {
      "cell_type": "code",
      "source": [
        "p0 <- 2950\n",
        "pt <- 2407.535\n",
        "modal <- 200000\n",
        "\n",
        "capital_gain <- (pt-p0)*(modal/p0)\n",
        "cat(\"Capital Gain:\",capital_gain)"
      ],
      "metadata": {
        "colab": {
          "base_uri": "https://localhost:8080/"
        },
        "id": "6KDjZm8JUjLP",
        "outputId": "30965ef4-d2a6-4b34-c356-7a369b889740"
      },
      "execution_count": 35,
      "outputs": [
        {
          "output_type": "stream",
          "name": "stdout",
          "text": [
            "Capital Gain: -36777.29"
          ]
        }
      ]
    },
    {
      "cell_type": "markdown",
      "source": [
        "Diperoleh nilai Capital Gain sebesar -36777.29 di mana bernilai negatif yang menunjukkan bahwa Salman akan mengalami kerugian dari investasi saham TLKM-nya. Hal ini berarti bahwa jika Salman menjual sahamnya pada 18 Maret 2025 harganya lebih rendah dibandingkan harga beli saham TLKM pada tanggal 10 Oktober 2024."
      ],
      "metadata": {
        "id": "yuYkCn2OUtGS"
      }
    },
    {
      "cell_type": "markdown",
      "source": [
        "### **Return**\n",
        "\n",
        "$R = \\frac{P_t - P_0}{P_0} \\times 100\\%$"
      ],
      "metadata": {
        "id": "1iOvucWkU8qd"
      }
    },
    {
      "cell_type": "code",
      "source": [
        "R <- ((pt-p0)/p0)*100\n",
        "cat(\"Persentase Return:\", R,\"%\\n\")\n",
        "\n",
        "nominal_R <- R*modal/100\n",
        "cat(\"Nominal Return:\", nominal_R)"
      ],
      "metadata": {
        "colab": {
          "base_uri": "https://localhost:8080/"
        },
        "id": "VltN3hdfU6_r",
        "outputId": "a3aed2f4-c83d-46a7-fd3c-733e1fecc2e5"
      },
      "execution_count": 36,
      "outputs": [
        {
          "output_type": "stream",
          "name": "stdout",
          "text": [
            "Persentase Return: -18.38864 %\n",
            "Nominal Return: -36777.29"
          ]
        }
      ]
    },
    {
      "cell_type": "markdown",
      "source": [
        "Diperoleh nilai persentase Return sebesar $-18.39%$ yang menunjukkan bahwa Salman akan mengalami kerugian sebesar 18.39% dari modal investasinya yaitu sekitar Rp36777.29."
      ],
      "metadata": {
        "id": "JlcyY-noVGws"
      }
    }
  ]
}