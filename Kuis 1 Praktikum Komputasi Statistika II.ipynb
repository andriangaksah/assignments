{
  "cells": [
    {
      "cell_type": "markdown",
      "metadata": {
        "id": "EyQ85-FRdwii"
      },
      "source": [
        "# Kuis Praktikum Komputasi Statistika II\n",
        "---"
      ]
    },
    {
      "cell_type": "markdown",
      "metadata": {
        "id": "k7SOt60Ddwik"
      },
      "source": [
        "Nama : Andriansah\n",
        "\n",
        "NIM  : 23/519915/PA/22320\n",
        "\n",
        "Kelas: A"
      ]
    },
    {
      "cell_type": "markdown",
      "metadata": {
        "id": "iSbJ3XRldwil"
      },
      "source": [
        "> Baca dan pahami instruksi soal untuk setiap bagian dengan baik!"
      ]
    },
    {
      "cell_type": "markdown",
      "metadata": {
        "id": "zg_XPvX4dwil"
      },
      "source": [
        "## Bagian I : **Algoritma K-Means Clustering**"
      ]
    },
    {
      "cell_type": "markdown",
      "metadata": {
        "id": "KepN3X14eJoV"
      },
      "source": [
        "### **1. Rumus & Formula**\n",
        "K-Means adalah algoritma clustering yang digunakan untuk mengelompokkan data ke dalam $ K $ cluster berdasarkan kedekatan titik data dengan pusat cluster (centroid).\n",
        "\n",
        "#### **1.1 Jarak Euclidean**\n",
        "Untuk menentukan titik data ke centroid terdekat, kita menggunakan **jarak Euclidean**, yang didefinisikan sebagai:\n",
        "\n",
        "$$\n",
        "d(x, c) = \\sqrt{\\sum_{i=1}^{n} (x_i - c_i)^2}\n",
        "$$\n",
        "\n",
        "di mana:\n",
        "- $ d(x, c) $ adalah jarak antara titik data $ x $ dan centroid $ c $.\n",
        "- $ x_i $ dan $ c_i $ adalah koordinat dari titik data dan centroid pada dimensi ke-$ i $.\n",
        "- $ n $ adalah jumlah dimensi fitur.\n",
        "\n",
        "#### **1.2 Rata-rata Centroid Baru**\n",
        "Setelah mengelompokkan titik data ke cluster masing-masing, kita memperbarui posisi centroid dengan rata-rata titik dalam cluster:\n",
        "\n",
        "$$\n",
        "c_j = \\frac{1}{N_j} \\sum_{i=1}^{N_j} x_i\n",
        "$$\n",
        "\n",
        "di mana:\n",
        "- $ c_j $ adalah centroid baru untuk cluster $ j $.\n",
        "- $ N_j $ adalah jumlah titik dalam cluster $ j $.\n",
        "- $ x_i $ adalah titik dalam cluster $ j $.\n",
        "\n",
        "---\n",
        "\n",
        "#### **2. Langkah-langkah Algoritma K-Means**\n",
        "1. **Inisialisasi**\n",
        "   - Tentukan jumlah cluster **$ K $**.\n",
        "   - Pilih $ K $ titik acak dari dataset sebagai **centroid awal**.\n",
        "\n",
        "2. **Assignment Step (Menentukan Cluster)**\n",
        "   - Untuk setiap titik data $ x_i $, hitung jarak ke setiap centroid $ c_j $ menggunakan **jarak Euclidean**.\n",
        "   - Tetapkan titik data $ x_i $ ke cluster dengan **centroid terdekat**.\n",
        "\n",
        "3. **Update Step (Menghitung Centroid Baru)**\n",
        "   - Untuk setiap cluster, hitung **centroid baru** sebagai **rata-rata** dari semua titik data dalam cluster.\n",
        "\n",
        "4. **Cek Konvergensi**\n",
        "   - Jika centroid tidak berubah dari iterasi sebelumnya, maka **algoritma berhenti**.\n",
        "   - Jika centroid masih berubah, ulangi langkah **Assignment Step** dan **Update Step**.\n",
        "\n",
        "5. **Hasil Akhir**\n",
        "   - Setiap titik data telah **berada di cluster tertentu**.\n",
        "   - **Centroid final** adalah pusat dari masing-masing cluster.\n",
        "\n",
        "---\n",
        "\n",
        "### **3. Ilustrasi Perhitungan Manual**\n",
        "Misalkan kita memiliki dataset berikut dengan 6 titik dalam ruang 2D:\n",
        "\n",
        "| ID | $ x_1 $ | $ x_2 $ |\n",
        "|----|----|----|\n",
        "| 1  | 1  | 2  |\n",
        "| 2  | 1  | 4  |\n",
        "| 3  | 1  | 0  |\n",
        "| 4  | 4  | 2  |\n",
        "| 5  | 4  | 4  |\n",
        "| 6  | 4  | 0  |\n",
        "\n",
        "#### **3.1 Iterasi 1: Inisialisasi Centroid**\n",
        "Misalkan kita memilih secara acak dua centroid awal:\n",
        "\n",
        "$$\n",
        "C_1 = (1, 2), \\quad C_2 = (4, 4)\n",
        "$$\n",
        "\n",
        "#### **3.2 Iterasi 2: Assignment Step**\n",
        "Hitung jarak Euclidean setiap titik ke kedua centroid:\n",
        "\n",
        "| ID | $ (x_1, x_2) $ | $ d(x, C_1) $ | $ d(x, C_2) $ | Cluster |\n",
        "|----|----|----|----|----|\n",
        "| 1  | (1,2) | $ \\sqrt{(1-1)^2 + (2-2)^2} = 0 $ | $ \\sqrt{(1-4)^2 + (2-4)^2} = 3.61 $ | 1 |\n",
        "| 2  | (1,4) | $ \\sqrt{(1-1)^2 + (4-2)^2} = 2 $ | $ \\sqrt{(1-4)^2 + (4-4)^2} = 3 $ | 1 |\n",
        "| 3  | (1,0) | $ \\sqrt{(1-1)^2 + (0-2)^2} = 2 $ | $ \\sqrt{(1-4)^2 + (0-4)^2} = 5 $ | 1 |\n",
        "| 4  | (4,2) | $ \\sqrt{(4-1)^2 + (2-2)^2} = 3 $ | $ \\sqrt{(4-4)^2 + (2-4)^2} = 2 $ | 2 |\n",
        "| 5  | (4,4) | $ \\sqrt{(4-1)^2 + (4-2)^2} = 3.61 $ | $ \\sqrt{(4-4)^2 + (4-4)^2} = 0 $ | 2 |\n",
        "| 6  | (4,0) | $ \\sqrt{(4-1)^2 + (0-2)^2} = 3.61 $ | $ \\sqrt{(4-4)^2 + (0-4)^2} = 4 $ | 1 |\n",
        "\n",
        "#### **3.3 Iterasi 3: Update Centroid**\n",
        "- **Cluster 1**: $ (1,2), (1,4), (1,0), (4,0) $\n",
        "  $$\n",
        "  C_1 = \\left( \\frac{1+1+1+4}{4}, \\frac{2+4+0+0}{4} \\right) = (1.75, 1.5)\n",
        "  $$\n",
        "\n",
        "- **Cluster 2**: $ (4,2), (4,4) $\n",
        "  $$\n",
        "  C_2 = \\left( \\frac{4+4}{2}, \\frac{2+4}{2} \\right) = (4, 3)\n",
        "  $$\n",
        "\n",
        "#### **3.4 Iterasi 4: Periksa Konvergensi**\n",
        "- Jika centroid baru sama dengan yang sebelumnya, maka algoritma selesai.\n",
        "- Jika masih berubah, ulangi **Assignment Step** dengan centroid baru.\n",
        "\n",
        "### **4. Hasil**\n",
        "Setelah beberapa iterasi, **centroid akan stabil**, dan setiap titik data akan memiliki **cluster finalnya**.\n",
        "\n",
        "- **Cluster 1:** $ \\{(1,2), (1,4), (1,0), (4,0)\\} $\n",
        "- **Cluster 2:** $ \\{(4,2), (4,4)\\} $\n",
        "\n",
        "Hasilnya, titik-titik dalam dataset telah dikelompokkan dengan baik berdasarkan pola kedekatannya.\n",
        "\n",
        "---\n",
        "### **5. Catatan**\n",
        "Anda ditugaskan untuk mengganti syntax di bawah ini\n",
        "- Ganti ```PASS``` menjadi sebuah fungsi atau perintah yang lengkap\n",
        "- Ganti ```pass``` menjadi sebuah variabel yang benar\n",
        "- Kurangi penggunaan AI untuk menjawan soal di nomor ini\n",
        "- Dilarang mengganti syntax yang sudah ada dengan struktur syntax lainnya\n"
      ]
    },
    {
      "cell_type": "code",
      "execution_count": null,
      "metadata": {
        "id": "Y4D_9ETpYNcD",
        "outputId": "fe04882f-c888-49ea-aa04-acd88c0905ab"
      },
      "outputs": [
        {
          "name": "stdout",
          "output_type": "stream",
          "text": [
            "Clusters:\n",
            "Cluster 0: [array([1, 2]), array([1, 0]), array([4, 2]), array([4, 0])]\n",
            "Cluster 1: [array([1, 4]), array([4, 4])]\n",
            "Centroids:\n",
            "[[2.5 1. ]\n",
            " [2.5 4. ]]\n"
          ]
        }
      ],
      "source": [
        "import numpy as np\n",
        "\n",
        "def euclidean_distance(point1, point2):\n",
        "    \"\"\"Menghitung Euclidean distance di antara dua titik.\"\"\"\n",
        "    return np.sqrt(np.sum((point1 - point2) ** 2))\n",
        "\n",
        "def kmeans(data, K, max_iterations=100):\n",
        "    # Part 1: Inisialisasi Centroid\n",
        "    np.random.seed(42)  # Untuk reproduktibilitas\n",
        "    centroids = data[np.random.choice(data.shape[0], K, replace=False)]  # Memilih Centroid secara acak\n",
        "\n",
        "    for iteration in range(max_iterations):\n",
        "        # Part 2: Assignment Step\n",
        "        clusters = [[] for _ in range(K)]\n",
        "        for point in data:\n",
        "            distances = [euclidean_distance(point, centroid) for centroid in centroids]  # Menghitung jarak ke semua centroid\n",
        "            closest_centroid_index = np.argmin(distances)  # Mencari index centroid terdekat\n",
        "            clusters[closest_centroid_index].append(point)  # Menambahkan point ke cluster\n",
        "\n",
        "        # Part 3: Update Step\n",
        "        new_centroids = []  # Inisialisasi list untuk menyimpan centroid baru\n",
        "        for i, cluster in enumerate(clusters):\n",
        "            if cluster:  # Jika cluster tidak kosong\n",
        "                new_centroid = np.mean(cluster, axis=0)  # Hitung rata-rata\n",
        "            else:  # Jika cluster kosong\n",
        "                new_centroid = centroids[i]  # Gunakan centroid lama\n",
        "            new_centroids.append(new_centroid)  # Tambahkan ke list\n",
        "        new_centroids = np.array(new_centroids)  # Konversi ke numpy array\n",
        "\n",
        "        # Part 4: Convergence Check\n",
        "        if np.all(new_centroids == centroids):  # Jika centroid tidak berubah\n",
        "            break\n",
        "\n",
        "        # Part 5: Update Centroid\n",
        "        centroids = new_centroids  # Update centroid\n",
        "\n",
        "    return clusters, centroids\n",
        "\n",
        "# Contoh penggunaan\n",
        "if __name__ == \"__main__\":\n",
        "    # Data sampel\n",
        "    data = np.array([[1, 2], [1, 4], [1, 0],\n",
        "                     [4, 2], [4, 4], [4, 0]])\n",
        "\n",
        "    K = 2  # Jumlah cluster\n",
        "    clusters, centroids = kmeans(data, K)\n",
        "\n",
        "    print(\"Clusters:\")\n",
        "    for i, cluster in enumerate(clusters):\n",
        "        print(f\"Cluster {i}: {cluster}\")\n",
        "    print(\"Centroids:\")\n",
        "    print(centroids)"
      ]
    },
    {
      "cell_type": "markdown",
      "metadata": {
        "id": "Vn6lfZBMdwil"
      },
      "source": [
        "## Bagian II"
      ]
    },
    {
      "cell_type": "markdown",
      "metadata": {
        "id": "r60TPIDTdwim"
      },
      "source": [
        "Anda merupakan seorang data analyst suatu perusahaan yang bergerak dalam industri hiburan digital dan memiliki platform yang menyajikan berbagai acara untuk penggunanya. Tahun ini, platform perusahaan Anda merilis sebuah acara baru yang awalnya mendapatkan respons yang baik namun kemudian mengalami penurunan jumlah permirsa. Sebagai seorang data analyst perusahaan tersebut, Anda diminta untuk memahami apa yang salah berdasarkan data. Untuk itu, dikumpulkan data perusahaan yang berkaitan dengan acara tersebut selama beberapa bulan terakhir untuk memahami faktor-faktor yang mempengaruhi jumlah pemirsa, sehingga perusahaan dapat mengambil tindakan yang diperlukan untuk meningkatkan jumlah pemirsa. Secara spesifik, data yang Anda miliki adalah sebagai berikut.\n",
        "- `Views_show`: Jumlah tampilan acara\n",
        "- `Visitors`: Jumlah pengunjung unik untuk acara tersebut\n",
        "- `Views_platform`: Jumlah tampilan di platform untuk acara tersebut\n",
        "- `Ad_impression`: Jumlah tayangan iklan untuk acara tersebut\n",
        "\n",
        "Tujuan utama adalah untuk membangun model guna memprediksi `View_show` acara tersebut berdasarkan `Visitors`, `Views_platform`, dan `Ad_impression` menggunakan analisis regresi linear. Model ini diharapkan dapat membantu menentukan faktor-faktor mana yang paling mempengaruhi jumlah pemirsa, sehingga perusahaan dapat memperbaiki strategi promosi dan penargetan audiens."
      ]
    },
    {
      "cell_type": "code",
      "execution_count": null,
      "metadata": {
        "id": "MhgaKggadwim"
      },
      "outputs": [],
      "source": [
        "# Libary\n",
        "import pandas as pd\n",
        "import matplotlib.pyplot as plt\n",
        "import seaborn as sns\n",
        "import statsmodels.api as sm\n",
        "import numpy as np"
      ]
    },
    {
      "cell_type": "code",
      "execution_count": null,
      "metadata": {
        "id": "WoTl-gkPYNcG",
        "outputId": "8c367dff-3798-495b-b917-167468bdc682"
      },
      "outputs": [
        {
          "name": "stderr",
          "output_type": "stream",
          "text": [
            "<>:2: SyntaxWarning: invalid escape sequence '\\L'\n",
            "<>:2: SyntaxWarning: invalid escape sequence '\\L'\n",
            "C:\\Users\\Andriansah\\AppData\\Local\\Temp\\ipykernel_16916\\370501833.py:2: SyntaxWarning: invalid escape sequence '\\L'\n",
            "  df = pd.read_csv('c:\\Lokal MSI\\All About Coolyeah\\Semester 4\\Komputasi Statistika II\\Praktikum Komstat II\\Kuis 1 Prak Komstat II Kamis 27 Maret 11.10\\mediacompany.csv')\n"
          ]
        },
        {
          "data": {
            "text/html": [
              "<div>\n",
              "<style scoped>\n",
              "    .dataframe tbody tr th:only-of-type {\n",
              "        vertical-align: middle;\n",
              "    }\n",
              "\n",
              "    .dataframe tbody tr th {\n",
              "        vertical-align: top;\n",
              "    }\n",
              "\n",
              "    .dataframe thead th {\n",
              "        text-align: right;\n",
              "    }\n",
              "</style>\n",
              "<table border=\"1\" class=\"dataframe\">\n",
              "  <thead>\n",
              "    <tr style=\"text-align: right;\">\n",
              "      <th></th>\n",
              "      <th>Views_show</th>\n",
              "      <th>Visitors</th>\n",
              "      <th>Views_platform</th>\n",
              "      <th>Ad_impression</th>\n",
              "    </tr>\n",
              "  </thead>\n",
              "  <tbody>\n",
              "    <tr>\n",
              "      <th>0</th>\n",
              "      <td>183738</td>\n",
              "      <td>1260228</td>\n",
              "      <td>1706478</td>\n",
              "      <td>1060860448</td>\n",
              "    </tr>\n",
              "    <tr>\n",
              "      <th>1</th>\n",
              "      <td>193763</td>\n",
              "      <td>1270561</td>\n",
              "      <td>1690727</td>\n",
              "      <td>1031846645</td>\n",
              "    </tr>\n",
              "    <tr>\n",
              "      <th>2</th>\n",
              "      <td>210479</td>\n",
              "      <td>1248183</td>\n",
              "      <td>1726157</td>\n",
              "      <td>1010867575</td>\n",
              "    </tr>\n",
              "    <tr>\n",
              "      <th>3</th>\n",
              "      <td>240061</td>\n",
              "      <td>1492913</td>\n",
              "      <td>1855353</td>\n",
              "      <td>1079194579</td>\n",
              "    </tr>\n",
              "    <tr>\n",
              "      <th>4</th>\n",
              "      <td>446314</td>\n",
              "      <td>1594712</td>\n",
              "      <td>2041418</td>\n",
              "      <td>1357736987</td>\n",
              "    </tr>\n",
              "  </tbody>\n",
              "</table>\n",
              "</div>"
            ],
            "text/plain": [
              "   Views_show  Visitors  Views_platform  Ad_impression\n",
              "0      183738   1260228         1706478     1060860448\n",
              "1      193763   1270561         1690727     1031846645\n",
              "2      210479   1248183         1726157     1010867575\n",
              "3      240061   1492913         1855353     1079194579\n",
              "4      446314   1594712         2041418     1357736987"
            ]
          },
          "execution_count": 2,
          "metadata": {},
          "output_type": "execute_result"
        }
      ],
      "source": [
        "# Import Data\n",
        "df = pd.read_csv('c:\\Lokal MSI\\All About Coolyeah\\Semester 4\\Komputasi Statistika II\\Praktikum Komstat II\\Kuis 1 Prak Komstat II Kamis 27 Maret 11.10\\mediacompany.csv')\n",
        "df.head()"
      ]
    },
    {
      "cell_type": "markdown",
      "metadata": {
        "id": "_fVUYsLGdwin"
      },
      "source": [
        "#### <a id='toc1_1_2_2_'></a>[**Teknis Pengerjaan**](#toc0_)\n",
        "\n",
        "Pada soal ini terdiri dari 2 kode soal dengan keterangan sebagai berikut.\n",
        "- **AWC**: Anda harus menjawab soal yang diberikan menggunakan code beserta interpretasi dari output yang Anda peroleh.\n",
        "- **AWOC**: Anda cukup menjelaskan menggunakan teori berdasarkan pertanyaan-pertanyaan yang diberikan tanpa harus melakukan eksekusi menggunakan code."
      ]
    },
    {
      "cell_type": "markdown",
      "metadata": {
        "id": "eZ24ISTmdwin"
      },
      "source": [
        "#### <a id='toc1_1_2_2_'></a>[**Tugas Anda**](#toc0_)"
      ]
    },
    {
      "cell_type": "markdown",
      "metadata": {
        "id": "bLQRCLV0dwin"
      },
      "source": [
        "**[AWC]** Lakukan pemodelan regresi linear menggunakan variabel-variabel di atas, kemudian interpretasikan insight yang Anda dapatkan dari model yang diperoleh\n",
        "\n",
        "*Notes: jika terdapat variabel yang tidak signifikan, pada studi kasus ini tetap dimasukkan dalam pemodelan*"
      ]
    },
    {
      "cell_type": "code",
      "execution_count": null,
      "metadata": {
        "id": "ypqQNxp9YNcH",
        "outputId": "0c670e30-d88c-4b7f-a0b5-fa3bd96abcd9"
      },
      "outputs": [
        {
          "name": "stdout",
          "output_type": "stream",
          "text": [
            "                            OLS Regression Results                            \n",
            "==============================================================================\n",
            "Dep. Variable:             Views_show   R-squared:                       0.651\n",
            "Model:                            OLS   Adj. R-squared:                  0.637\n",
            "Method:                 Least Squares   F-statistic:                     47.21\n",
            "Date:                Thu, 27 Mar 2025   Prob (F-statistic):           2.47e-17\n",
            "Time:                        11:06:51   Log-Likelihood:                -1027.0\n",
            "No. Observations:                  80   AIC:                             2062.\n",
            "Df Residuals:                      76   BIC:                             2071.\n",
            "Df Model:                           3                                         \n",
            "Covariance Type:            nonrobust                                         \n",
            "==================================================================================\n",
            "                     coef    std err          t      P>|t|      [0.025      0.975]\n",
            "----------------------------------------------------------------------------------\n",
            "const           -4.66e+05   8.13e+04     -5.734      0.000   -6.28e+05   -3.04e+05\n",
            "Visitors           0.0937      0.133      0.704      0.483      -0.171       0.359\n",
            "Views_platform     0.0418      0.114      0.365      0.716      -0.186       0.270\n",
            "Ad_impression      0.0003   4.49e-05      7.783      0.000       0.000       0.000\n",
            "==============================================================================\n",
            "Omnibus:                        7.484   Durbin-Watson:                   0.812\n",
            "Prob(Omnibus):                  0.024   Jarque-Bera (JB):                7.891\n",
            "Skew:                           0.752   Prob(JB):                       0.0193\n",
            "Kurtosis:                       2.672   Cond. No.                     1.15e+10\n",
            "==============================================================================\n",
            "\n",
            "Notes:\n",
            "[1] Standard Errors assume that the covariance matrix of the errors is correctly specified.\n",
            "[2] The condition number is large, 1.15e+10. This might indicate that there are\n",
            "strong multicollinearity or other numerical problems.\n"
          ]
        }
      ],
      "source": [
        "# Menentukan variabel indepenpeden dan dependen\n",
        "X = df.drop(columns=['Views_show']) # variabel independen\n",
        "Y = df['Views_show'] # variabel dependen\n",
        "\n",
        "# Menambahkan konstanta (intersep) ke dalam model\n",
        "X_const = sm.add_constant(X)\n",
        "\n",
        "# Model regresi linear\n",
        "model = sm.OLS(Y, X_const).fit()\n",
        "print(model.summary())"
      ]
    },
    {
      "cell_type": "markdown",
      "metadata": {
        "id": "OGFI_a_uYNcH"
      },
      "source": [
        "### **Interpretasi Model Regresi Linear**\n",
        "\n",
        "Berdasarkan output di atas diperoleh model regresi linear untuk memprediksi `View_show` acara tersebut berdasarkan `Visitors`, `Views_platform`, dan `Ad_impression` yaitu sebagai berikut.\n",
        "\n",
        "Views_show = -4.66×10^5 + 0.0937×Visitors + 0.0418×Views_platform + 0.0003×Ad_impression\n",
        "\n",
        "- Nilai konstanta (intercept) model regresi sebesar -4.66×10^5 yang berarti bahwa jika semua variabel independen bernilai nol, maka Views_show akan bernilai negatif yaitu sebesar -4.66×10^5 karena ada faktor lain yang tidak dimasukkan dalam model regresi yang menyebabkan prediksi Views_show sangat rendah saat semua variabel independen nol dan karena View_show tidak mungkin bernilai negatif maka nilai konstanta dapat diasumsikan bernilai 0 ketika semua semua variabel independen bernilai nol.\n",
        "- Nilai koefisien Visitors sebesar 0.0937 menunjukkan bahwa setiap bertambahnya satu satuan VisitorS akan meningkatkan Views_show sebesar 0.0937, namun karena memiliki p-value sebesar 0.483 > alpha = 0.05 yang berarti bahwa Visitors tidak memiliki dampak yang signifikan terhadap Views_show.\n",
        "- Nilai koefisien Views_platform sebesar 0.0418 menunjukkan bahwa setiap bertambahnya satu satuan Views_platform akan meningkatkan Views_show sebesar 0.0418, namun karena memiliki p-value sebesar 0.716 > alpha = 0.05 yang berarti bahwa Views_platform tidak memiliki dampak yang signifikan terhadap Views_show.\n",
        "- Nilai koefisien Ad_impression sebesar 0.0003 menunjukkan bahwa setiap bertambahnya satu satuan Ad_impression akan meningkatkan Views_show sebesar 0.0003, koefisien Ad_impression ini memiliki p-value sebesar 0.000 < alpha = 0.05 yang berarti bahwa Ad_impression memiliki dampak yang signifikan terhadap Views_show.\n",
        "- Nilai R^2 sebesar 0.651 menunjukkan bahwa 65.1% variabilitas dalam variabel dependen dapat dijelaskan oleh model regresi dan sisanya 34.9% dijelaskan oleh faktor lainnnya.\n"
      ]
    },
    {
      "cell_type": "markdown",
      "metadata": {
        "id": "mIlD2GQbdwin"
      },
      "source": [
        "Sebagai seseorang yang sudah mendalami analisis regresi sangat jauh, Anda sudah mempelajari dengan baik bahwa terdapat permasalahan-permasalahan yang mungkin terjadi pada suatu model regresi dan perlu dilakukan pengecekan serta penaganan untuk mendapatkan model yang baik."
      ]
    },
    {
      "cell_type": "markdown",
      "metadata": {
        "id": "wLFhZqxhdwio"
      },
      "source": [
        "#### <a id='toc1_1_2_2_'></a>[**Tugas Anda**](#toc0_)"
      ]
    },
    {
      "cell_type": "markdown",
      "metadata": {
        "id": "Bc-z_Y2ndwio"
      },
      "source": [
        "**Problem 1: Non-Linearitas**\n",
        "- **[AWC]** Visualisasikan hubungan antara variabel dependen dan masing-masing variabel independen. Apakah setiap variabel independen menunjukkan hubungan linear dengan variabel dependen?\n",
        "- **[AWOC]** Jika ditemukan pola Non-Linearitas, apa langkah-langkah yang dapat anda aplikasikan sebagai bentuk penanganan?"
      ]
    },
    {
      "cell_type": "code",
      "execution_count": null,
      "metadata": {
        "id": "DyeNM8hdYNcI",
        "outputId": "3304898f-8d90-44f2-ef8c-285e446bc602"
      },
      "outputs": [
        {
          "data": {
            "image/png": "[encoded data removed]",
            "text/plain": [
              "<Figure size 1500x500 with 3 Axes>"
            ]
          },
          "metadata": {},
          "output_type": "display_data"
        }
      ],
      "source": [
        "# Visualisasi hubungan antara variabel dependen dan masing-masing variabel independen\n",
        "fig, axes = plt.subplots(nrows=1, ncols=len(X.columns), figsize=(5 * len(X.columns), 5))\n",
        "\n",
        "for i, col in enumerate(X.columns):\n",
        "    ax = axes[i] if len(X.columns) > 1 else axes  # Menangani kasus 1 kolom\n",
        "    sns.scatterplot(x=X[col], y=Y, color=\"blue\", label=\"Data\", ax=ax)\n",
        "    sns.regplot(x=X[col], y=Y, scatter_kws={'color': 'blue'}, line_kws={'color': 'red'}, ax=ax) # garis regresi yang berwarna merah\n",
        "\n",
        "    ax.set_xlabel(f\"{col}\")\n",
        "    ax.set_ylabel(\"Views_show\")\n",
        "    ax.set_title(f\"Views_show vs {col}\")\n",
        "    ax.legend()\n",
        "    ax.grid(True)\n",
        "\n",
        "plt.tight_layout()\n",
        "plt.show()"
      ]
    },
    {
      "cell_type": "markdown",
      "metadata": {
        "id": "Djk7cLlvYNcI"
      },
      "source": [
        "### **Interpretasi Scatter Plot**\n",
        "Berdasarkan output di atas diperoleh scatterplot variabel dependen yaitu Views_show dengan masing-masing variabel independen dapat dijelaskan hubungan antara Views_show dengan masing-masing variabel independen yaitu sebagai berikut.\n",
        "\n",
        "### **Views_show vs Visitors**\n",
        "Terlihat bahwa terdapat pola data yang tidak linear yang ditunjukkan bahwa masih terdapat penyebaran data yang besar, ada beberapa titik yang jauh dari garis regresi yang menunjukkan bahwa adanya variabilitas yang tinggi dalam Views_show yang tidak sepenuhnya dapat dijelaskan oleh Visitors sehingga dapat disimpulkan bahwa terdapat hubungan yang lemah antara Visitors dengan Views_show.\n",
        "\n",
        "### **Views_show vs Views_platform**\n",
        "Terlihat bahwa terdapat pola data yang tidak linear yang ditunjukkan bahwa masih terdapat penyebaran data yang cukup besar, ada beberapa titik yang jauh dari garis regresi yang menunjukkan bahwa adanya variabilitas yang tinggi dalam Views_show yang tidak sepenuhnya dapat dijelaskan oleh Views_platform sehingga dapat disimpulkan bahwa terdapat hubungan yang lemah antara Views_platform dengan Views_show.\n",
        "\n",
        "### **Views_show vs Ad_impression**\n",
        "Terlihat bahwa terdapat pola data yang cukup linear dibandingkan variabel independen lainnya, penyebaran data yang lebih baik di sekitar garis regresi menunjukkan bahwa terdapat hubungan yang kuat antara Ad_impression dengan Views_show.\n"
      ]
    },
    {
      "cell_type": "markdown",
      "metadata": {
        "id": "gomjZ3qiYNcI"
      },
      "source": [
        "## **Penanganan Pola Non-Linearitas dalam Analisis Regresi**\n",
        "\n",
        "Jika ditemukan pola non-linearitas salah satu langkah yang dapat diterapkan adalah transformasi data pada variabel indenpenden yang menunjukkan pola non-linear terhadap variabel dependen yaitu Views_show dapat dijelaskan sebagai berikut.\n",
        "\n",
        "### **Transformasi Data pada Variabel Independen**\n",
        "Melakukan transformasi data pada variabel independen dapat membantu meningkatkan hubungan variabel independen dengan variabel dependen menjadi lebih linear. Adapun metode transformasi data yang dapat digunakan adalah sebagai berikut.\n",
        "\n",
        "- **Transformasi Logaritmik**: Transformasi logaritma menggunakan logaritma natural ataupun logaritma dengan basis bilangan 2 atau 10 dapat mengurangi skala data yang besar atau memiliki pola eksponensial. Jika Visitors menunjukkan pola eksponensial terhadap Views_show, maka dapat menggunakan transformasi logaritmik misal dengan logaritma natural nilai Visitors nantinya akan menjadi ln(Visitors).\n",
        "\n",
        "- **Transformasi Akar Kuadrat**: Transformasi dengan akar kuadrat ini dapat mengurangi heteroskedastisitas atau variabilitas yang meningkat pada variabel independen. Jika Views_platform memiliki variabilitas yang tinggi terhadap Views_show, maka dapat menggunakan transformasi akar kuadrat sehingga nilai Views_platform nantinya akan menjadi sqrt(Views_platform).\n",
        "\n",
        "- **Transformasi Pangkat**: Transformasi pangkat digunakan untuk meningkatkan atau menurunkan derajat variabel independen agar hubungan dengan variabel dependen menjadi lebih linear. Jika Visitors menunjukkan pola hubungan yang lemah terhadap Views_show, maka dapat dilakukan transformasi pangkat, misalnya dengan kuadrat sehingga nilai Visitors nantinya akan menjadi Visitors^2.\n",
        "\n",
        "\n",
        "Jenis transformasi data di atas dapat dipilih berdasarkan pola data yang terlihat pada scatter plot sehingga dapat meningkatkan hubungan antara variabel independen dengan variabel dependen menjadi lebih linear setelah dilakukan transformasi data."
      ]
    },
    {
      "cell_type": "markdown",
      "metadata": {
        "id": "hJQlRUV2dwio"
      },
      "source": [
        "**Problem 2: Autokorelasi**\n",
        "- **[AWC]** Berdasarkan model yang Anda peroleh, lakukan pengecekan autokorelasi pada model Anda.\n",
        "- **[AWC]** Jika ditemukan terdapat autokorelasi, lakukan penanganan menggunakan Generalized Least Squares.\n",
        "- **[AWC]** Lakukan kembali pengecekan autokorelasi dari pemodelan GLS yang telah anda lakukan.\n",
        "- **[AWC]** Bandingkan hasil pemodelan menggunakan OLS dan GLS serta tentukan model mana yang sebaiknya dipilih."
      ]
    },
    {
      "cell_type": "code",
      "execution_count": null,
      "metadata": {
        "id": "RwVaYPXlYNcI",
        "outputId": "264eab8c-c10c-4a1e-cfd2-e6c999fe100c"
      },
      "outputs": [
        {
          "name": "stdout",
          "output_type": "stream",
          "text": [
            "Durbin-Watson statistic (OLS): 0.812\n",
            "Berdasarkan hasil uji autokorelasi dapat disimpulkan bahwa terdapat autokorelasi positif.\n"
          ]
        }
      ],
      "source": [
        "# Uji Autokorelasi\n",
        "dw = sm.stats.durbin_watson(model.resid)\n",
        "print(f\"Durbin-Watson statistic (OLS): {round(dw,3)}\")\n",
        "if dw < 1.5:\n",
        "    print(\"Berdasarkan hasil uji autokorelasi dapat disimpulkan bahwa terdapat autokorelasi positif.\")\n",
        "elif dw > 2.5:\n",
        "    print(\"Berdasarkan hasil uji autokorelasi dapat disimpulkan bahwa terdapat autokorelasi negatif.\")\n",
        "else:\n",
        "    print(\"Berdasarkan hasil uji autokorelasi dapat disimpulkan bahwa tidak ada autokorelasi.\")"
      ]
    },
    {
      "cell_type": "markdown",
      "metadata": {
        "id": "O_PncDxxYNcI"
      },
      "source": [
        "### **Interpretasi**\n",
        "Diperoleh nilai Durbin-Watson statistic sebesar 0.812 < 1.5 menunjukkan bahwa terdapat autokorelasi positif dalam residual model regresi linear yang bearti bahwa error pada satu observasi cenderung berhubungan dengan error pada observasi sebelumnya."
      ]
    },
    {
      "cell_type": "code",
      "execution_count": null,
      "metadata": {
        "id": "FezioWUaYNcJ",
        "outputId": "1bcc70ac-b8ac-4324-cf61-39ea5f673f54"
      },
      "outputs": [
        {
          "name": "stdout",
          "output_type": "stream",
          "text": [
            "                            GLS Regression Results                            \n",
            "==============================================================================\n",
            "Dep. Variable:                      y   R-squared:                       0.770\n",
            "Model:                            GLS   Adj. R-squared:                  0.761\n",
            "Method:                 Least Squares   F-statistic:                     84.69\n",
            "Date:                Thu, 27 Mar 2025   Prob (F-statistic):           3.59e-24\n",
            "Time:                        11:06:52   Log-Likelihood:                -1004.2\n",
            "No. Observations:                  80   AIC:                             2016.\n",
            "Df Residuals:                      76   BIC:                             2026.\n",
            "Df Model:                           3                                         \n",
            "Covariance Type:            nonrobust                                         \n",
            "==================================================================================\n",
            "                     coef    std err          t      P>|t|      [0.025      0.975]\n",
            "----------------------------------------------------------------------------------\n",
            "const          -3.202e+05    3.7e+04     -8.656      0.000   -3.94e+05   -2.47e+05\n",
            "Visitors           0.1279      0.157      0.817      0.417      -0.184       0.440\n",
            "Views_platform     0.0811      0.129      0.628      0.532      -0.176       0.338\n",
            "Ad_impression      0.0005    5.4e-05      8.379      0.000       0.000       0.001\n",
            "==============================================================================\n",
            "Omnibus:                       11.797   Durbin-Watson:                   1.379\n",
            "Prob(Omnibus):                  0.003   Jarque-Bera (JB):               21.531\n",
            "Skew:                          -0.487   Prob(JB):                     2.11e-05\n",
            "Kurtosis:                       5.348   Cond. No.                     3.02e+09\n",
            "==============================================================================\n",
            "\n",
            "Notes:\n",
            "[1] Standard Errors assume that the covariance matrix of the errors is correctly specified.\n",
            "[2] The condition number is large, 3.02e+09. This might indicate that there are\n",
            "strong multicollinearity or other numerical problems.\n"
          ]
        }
      ],
      "source": [
        "from statsmodels.regression.linear_model import GLS\n",
        "\n",
        "# Estimasi Autokorelasi\n",
        "rho = np.corrcoef(model.resid[:-1], model.resid[1:])[0, 1]\n",
        "\n",
        "# Matriks transformasi\n",
        "T = len(model.resid)\n",
        "\n",
        "# Matriks Autokorelasi\n",
        "W = np.eye(T) - rho * np.eye(T, k=-1)\n",
        "\n",
        "# Transformasi data\n",
        "Y_gls = np.dot(W, Y)\n",
        "X_gls = np.dot(W, X)\n",
        "\n",
        "X_gls_df = pd.DataFrame(X_gls, columns=X.columns)\n",
        "X_gls_df = sm.add_constant(X_gls_df)\n",
        "\n",
        "gls_model = GLS(Y_gls, X_gls_df).fit()\n",
        "print(gls_model.summary())"
      ]
    },
    {
      "cell_type": "markdown",
      "metadata": {
        "id": "3pgz0LRaYNcJ"
      },
      "source": [
        "### **Interpretasi Model GLS**\n",
        "Berdasarkan output di atas diperoleh model Generalized Least Square untuk memprediksi `View_show` acara tersebut berdasarkan `Visitors`, `Views_platform`, dan `Ad_impression` yaitu sebagai berikut.\n",
        "\n",
        "Views_show = -3.202×10^5 + 0.1279×Visitors + 0.0811×Views_platform + 0.0005×Ad_impression\n",
        "\n",
        "- Nilai konstanta (intercept) model regresi sebesar -3.202×10^5 yang berarti bahwa jika semua variabel independen bernilai nol, maka Views_show akan bernilai negatif yaitu sebesar -3.202×10^5 karena ada faktor lain yang tidak dimasukkan dalam model regresi yang menyebabkan prediksi Views_show sangat rendah saat semua variabel independen nol dan karena View_show tidak mungkin bernilai negatif maka nilai konstanta dapat diasumsikan bernilai 0 ketika semua semua variabel independen bernilai nol.\n",
        "- Nilai koefisien Visitors sebesar 0.1279 menunjukkan bahwa setiap bertambahnya satu satuan VisitorS akan meningkatkan Views_show sebesar 0.1279, namun karena memiliki p-value sebesar 0.417 > alpha = 0.05 yang berarti bahwa Visitors tidak memiliki dampak yang signifikan terhadap Views_show.\n",
        "- Nilai koefisien Views_platform sebesar 0.0811 menunjukkan bahwa setiap bertambahnya satu satuan Views_platform akan meningkatkan Views_show sebesar 0.0811, namun karena memiliki p-value sebesar 0.532 > alpha = 0.05 yang berarti bahwa Views_platform tidak memiliki dampak yang signifikan terhadap Views_show.\n",
        "- Nilai koefisien Ad_impression sebesar 0.0005 menunjukkan bahwa setiap bertambahnya satu satuan Ad_impression akan meningkatkan Views_show sebesar 0.0005, koefisien Ad_impression ini memiliki p-value sebesar 0.000 < alpha = 0.05 yang berarti bahwa Ad_impression memiliki dampak yang signifikan terhadap Views_show.\n",
        "- Nilai R^2 sebesar 0.770 menunjukkan bahwa 77% variabilitas dalam variabel dependen dapat dijelaskan oleh model regresi dan sisanya 23% dijelaskan oleh faktor lainnnya.\n"
      ]
    },
    {
      "cell_type": "code",
      "execution_count": null,
      "metadata": {
        "id": "phRezjeKYNcJ",
        "outputId": "0dc89261-40f2-4192-cf13-e53f976b80f0"
      },
      "outputs": [
        {
          "name": "stdout",
          "output_type": "stream",
          "text": [
            "Durbin-Watson statistic (GLS): 1.379\n",
            "Berdasarkan hasil uji autokorelasi dapat disimpulkan bahwa terdapat autokorelasi positif.\n"
          ]
        }
      ],
      "source": [
        "# Uji Autokorelasi pada model GLS\n",
        "dw_gls = sm.stats.durbin_watson(gls_model.resid)\n",
        "print(f\"Durbin-Watson statistic (GLS): {round(dw_gls, 3)}\")\n",
        "if dw_gls < 1.5:\n",
        "    print(\"Berdasarkan hasil uji autokorelasi dapat disimpulkan bahwa terdapat autokorelasi positif.\")\n",
        "elif dw_gls > 2.5:\n",
        "    print(\"Berdasarkan hasil uji autokorelasi dapat disimpulkan bahwa terdapat autokorelasi negatif.\")\n",
        "else:\n",
        "    print(\"Berdasarkan hasil uji autokorelasi dapat disimpulkan bahwa tidak ada autokorelasi.\")"
      ]
    },
    {
      "cell_type": "markdown",
      "metadata": {
        "id": "mlHEJtLQYNcJ"
      },
      "source": [
        "### **Interpreatsi**\n",
        "Diperoleh nilai Durbin-Watson statistic sebesar 1.379 < 1.5 menunjukkan bahwa masih terdapat autokorelasi positif dalam residual model GLS yang bearti bahwa error pada satu observasi cenderung berhubungan dengan error pada observasi sebelumnya."
      ]
    },
    {
      "cell_type": "code",
      "execution_count": null,
      "metadata": {
        "id": "slur70CpYNcJ",
        "outputId": "dbfdf079-bc7d-47db-dc0e-3ca62e2cf4ce"
      },
      "outputs": [
        {
          "name": "stdout",
          "output_type": "stream",
          "text": [
            "           Metric          OLS          GLS\n",
            "0       R-squared     0.650798     0.769751\n",
            "1  Adj. R-squared     0.637014     0.760663\n",
            "2             AIC  2061.966194  2016.315560\n",
            "3             BIC  2071.494301  2025.843667\n",
            "4   Durbin-Watson     0.812273     1.378511\n"
          ]
        }
      ],
      "source": [
        "# Membandingkan metrik model OLS dan GLS\n",
        "comparison = pd.DataFrame({\n",
        "    \"Metric\": [\"R-squared\", \"Adj. R-squared\", \"AIC\", \"BIC\", \"Durbin-Watson\"],\n",
        "    \"OLS\": [\n",
        "        model.rsquared,\n",
        "        model.rsquared_adj,\n",
        "        model.aic,\n",
        "        model.bic,\n",
        "        dw\n",
        "    ],\n",
        "    \"GLS\": [\n",
        "        gls_model.rsquared,\n",
        "        gls_model.rsquared_adj,\n",
        "        gls_model.aic,\n",
        "        gls_model.bic,\n",
        "        dw_gls\n",
        "    ]\n",
        "})\n",
        "print(comparison)"
      ]
    },
    {
      "cell_type": "markdown",
      "metadata": {
        "id": "9hP7Gbl6YNcJ"
      },
      "source": [
        "### **Perbandingan Model Regresi Linear dengan GLS**\n",
        "Berdasarkana output di atas perbandingkan antara model OLS dan GLS dapat diperoleh kesimpulan sebagai berikut.\n",
        "- Nilai R-squared model GLS sebesar 76.98% dapat menjelaskan variabilitas variabel dependen yaitu Views_show lebih tinggi dibanding model OLS yang hanya 65.08%. Hal ini menunjukkan bahwa model GLS lebih baik dalam menjelaskan variabel dependen dibandingkan model OLS.\n",
        "- Model GLS memiliki nilai adjusted R² yang lebih tinggi dibandingkan model OLS yang berarti bahwa model GLS lebih mampu menjelaskan variabilitas dibandingkan model OLS dalam variabel dependen yaitu Views_show setelah mempertimbangkan jumlah variabel independen dalam model.\n",
        "- Nilai AIC model GLS sebesar 2016.315560 < model OLS sebesar 2061.966194 yang menunjukkan bahwa model GLS lebih optimal dengan keseimbangan antara akurasi dan kompleksitas.\n",
        "- Nilai BIC model GLS ebesar 2025.843667 < model OLS sebesar 2071.494301 yang menunjukkan bahwa bahwa model GLS ini lebih baik dibandingkan model OLS dalam hal keseimbangan antara goodness-of-fit dan jumlah parameter.\n",
        "- Nilai DW model GLS sebesar 1.378511 > model OLS sebesar 0.812273 yang berarti bahwa model GLS dapat meningkatkan DW menjadi mendekati 1.5 yang berarti mengurangi autokorelasi dalam residual.\n",
        "\n",
        "Oleh karena itu, dapat disimpulkan bahwa model yang sebaiknya dipilih adalah model GLS."
      ]
    },
    {
      "cell_type": "markdown",
      "metadata": {
        "id": "eLpRJiobdwio"
      },
      "source": [
        "**Problem 3: Heteroskedastisitas**\n",
        "- **[AWOC]** Jika heteroskedastisitas terdeteksi pada model Anda, jelaskan dampaknya terhadap hasil uji hipotesis dan interval kepercayaan.\n",
        "- **[AWC]** Berdasarkan model yang Anda peroleh, lakukan pengecekan apakah terdapat heteroskedastisitas?"
      ]
    },
    {
      "cell_type": "markdown",
      "metadata": {
        "id": "uP6BbXDZYNcJ"
      },
      "source": [
        "Heteroskedastisitas terjadi ketika varians dari residual tidak konstan di seluruh rentang nilai variabel independen. Dampaknya terhadap hasil uji hipotesis dan interval kepercayaan dapat dijelaskan sebagai berikut.\n",
        "1. **Hasil Uji Hipotesis**\n",
        "\t- Heteroskedastisitas dapat menyebabkan estimasi standar error menjadi tidak akurat. Akibatnya, nilai t-statistik dan p-value yang digunakan untuk menguji signifikansi koefisien regresi menjadi tidak valid.\n",
        "\t- Hal ini dapat menyebabkan kesimpulan yang salah, seperti menerima hipotesis nol (tidak ada hubungan) ketika sebenarnya ada hubungan (type II error) atau menolak hipotesis nol ketika sebenarnya tidak ada hubungan (type I error).\n",
        "\n",
        "2. **Interval Kepercayaan**\n",
        "\t- Interval kepercayaan untuk koefisien regresi menjadi tidak dapat diandalkan karena standar error yang salah. Interval kepercayaan dapat menjadi terlalu sempit atau terlalu lebar, sehingga tidak mencerminkan ketidakpastian sebenarnya dalam estimasi parameter.\n",
        "\n",
        "Secara keseluruhan, heteroskedastisitas dapat mengurangi validitas inferensi statistik dari model regresi. Oleh karena itu, penting untuk mendeteksi dan menangani heteroskedastisitas agar hasil analisis lebih akurat."
      ]
    },
    {
      "cell_type": "code",
      "execution_count": null,
      "metadata": {
        "id": "R0nJ-doWYNcK",
        "outputId": "3a159e66-4b2c-47cf-c5d0-c5dc83f804cd"
      },
      "outputs": [
        {
          "name": "stdout",
          "output_type": "stream",
          "text": [
            "   LM Statistic   p-value  F-Statistic  F p-value\n",
            "0       2.19378  0.533175     0.714284   0.546471\n"
          ]
        },
        {
          "data": {
            "image/png": "[encoded data removed]",
            "text/plain": [
              "<Figure size 640x480 with 1 Axes>"
            ]
          },
          "metadata": {},
          "output_type": "display_data"
        }
      ],
      "source": [
        "from statsmodels.stats.diagnostic import het_breuschpagan\n",
        "import pandas as pd\n",
        "\n",
        "# Uji Heteroskedastisitas dengan Breusch-Pagan\n",
        "bp_test = het_breuschpagan(model.resid, model.model.exog)\n",
        "labels = ['LM Statistic', 'p-value', 'F-Statistic', 'F p-value']\n",
        "bp_test_df = pd.DataFrame([bp_test], columns=labels)\n",
        "print(bp_test_df)\n",
        "\n",
        "# Fitted Values vs Residuals Plot\n",
        "plt.scatter(model.fittedvalues, model.resid)\n",
        "plt.axhline(y=0, color='red', linestyle='--')\n",
        "plt.xlabel(\"Fitted Values\")\n",
        "plt.ylabel(\"Residuals\")\n",
        "plt.title(\"Plot Fitted Values vs Residuals\")\n",
        "plt.show()"
      ]
    },
    {
      "cell_type": "markdown",
      "metadata": {
        "id": "LWW6BRIhYNcK"
      },
      "source": [
        "### **Interpretasi**\n",
        "Berdasarkan hasil uji heteroskedastisitias dengan Breusch-Pagan diperoleh p-value sebesar 0.533175 > alpha = 0.05, maka H0 tidak ditolak. Oleh karena itu, dapat disimpulkan bahwa tidak terdapat heteroskedastisitas pada model regresi sehingga varians residual dapat dianggap konstan.\n",
        "\n",
        "Berdasarkan Plot Fitted Values vs Residuals dapat dikatakan heterokedastisitas pada suatu model apabila titik residual pada plot membentuk pola tertentu. Pada plot di atas, terlihat bahwa titik residual menyebar secara acak atau tidak membentuk pola tertentu. Oleh karena itu, dapat disimpulkan secara eksploratif bahwa tidak terdapat heterokedastisitas pada model regresi."
      ]
    },
    {
      "cell_type": "markdown",
      "metadata": {
        "id": "jnSLabL8dwio"
      },
      "source": [
        "**Problem 4: Multikolinearitas**\n",
        "- **[AWC]** Lakukan pengecekan multikolinearitas, kemudian jelaskan hasil pengecekan yang Anda peroleh?\n",
        "- **[AWOC]** Jika pada suatu model terdeteksi terdapat multikolinearitas, langkah penanganan apa saja yang dapat Anda lakukan?\n",
        "- **[AWC]** Lakukan salah satu dari penanganan yang Anda jelaskan pada bagian sebelumnya jika Anda mendeteksi adanya multikolineritas pada data Anda."
      ]
    },
    {
      "cell_type": "code",
      "execution_count": null,
      "metadata": {
        "id": "k6Sqgm_lYNcK",
        "outputId": "3a00bc46-5818-46e8-a421-c6b395c9fc15"
      },
      "outputs": [
        {
          "name": "stdout",
          "output_type": "stream",
          "text": [
            "         Variabel         VIF\n",
            "0        Visitors  473.566905\n",
            "1  Views_platform  577.914816\n",
            "2   Ad_impression    1.710848\n"
          ]
        }
      ],
      "source": [
        "from statsmodels.stats.outliers_influence import variance_inflation_factor\n",
        "\n",
        "# Menghitung VIF untuk setiap variabel independen\n",
        "vif_data = pd.DataFrame()\n",
        "vif_data[\"Variabel\"] = X.columns\n",
        "vif_data[\"VIF\"] = [variance_inflation_factor(X.values, i) for i in range(X.shape[1])]\n",
        "\n",
        "print(vif_data)"
      ]
    },
    {
      "cell_type": "markdown",
      "metadata": {
        "id": "9aMYVg4AYNcK"
      },
      "source": [
        "### **Interpretasi**\n",
        "Variabel independen dapat dikatakan mengalami multikolinearitas jika nilai VIF > 10. Berdasarkan output di atas diperoleh hasil bahwa Visitors dan Views_platform memiliki nilai VIF > 10 yang berarti bahwa terdapat multikolinearitas yang sangat tinggi pada variabel Visitors dan Views_platform. Sedangkan variabel Ad_impression memiliki nilai VIF sebesar 1.710848 < 10 yang berarti bahwa tidak terdapat multikolinearitas pada variabel Ad_impression."
      ]
    },
    {
      "cell_type": "markdown",
      "metadata": {
        "id": "GnhLxdZdYNcK"
      },
      "source": [
        "### **Jika pada suatu model terdeteksi multikolinearitas dapat dilakukan penanganan yaitu sebagai berikut.**\n",
        "\n",
        "1. **Menghapus Variabel Independen yang Berkorelasi Tinggi**\n",
        "    - Identifikasi variabel independen yang memiliki korelasi tinggi dengan variabel lain menggunakan matriks korelasi atau nilai Variance Inflation Factor (VIF).\n",
        "    - Hapus salah satu variabel yang berkorelasi tinggi untuk mengurangi multikolinearitas.\n",
        "\n",
        "2. **Menggabungkan Variabel yang Berkorelasi Tinggi**\n",
        "    - Jika dua atau lebih variabel memiliki korelasi tinggi, pertimbangkan untuk menggabungkannya menjadi satu variabel baru, misalnya dengan menggunakan metode Principal Component Analysis (PCA).\n",
        "\n",
        "3. **Transformasi Variabel**\n",
        "    - Lakukan transformasi pada variabel independen, seperti logaritma, akar kuadrat, atau standar normalisasi, untuk mengurangi korelasi antar variabel.\n",
        "\n",
        "4. **Regularisasi**\n",
        "    - Gunakan metode regresi dengan regularisasi seperti Ridge Regression atau Lasso Regression. Metode ini menambahkan penalti pada koefisien regresi untuk mengurangi dampak multikolinearitas.\n",
        "\n",
        "5. **Meningkatkan Ukuran Sampel**\n",
        "    - Jika memungkinkan, tambahkan lebih banyak data ke dalam model. Dengan ukuran sampel yang lebih besar, efek multikolinearitas dapat berkurang.\n",
        "\n",
        "6. **Menggunakan Model Alternatif**\n",
        "    - Gunakan metode analisis alternatif seperti Partial Least Squares (PLS) Regression yang dirancang untuk menangani multikolinearitas."
      ]
    },
    {
      "cell_type": "markdown",
      "metadata": {
        "id": "eL7TtX4GYNcK"
      },
      "source": [
        "### **Jika pada suatu model terdeteksi multikolinearitas dapat dilakukan penanganan yaitu sebagai berikut.**\n",
        "\n",
        "1. **Menghapus Variabel Independen yang Berkorelasi Tinggi**\n",
        "    - Identifikasi variabel independen yang memiliki korelasi tinggi dengan variabel lain menggunakan matriks korelasi atau nilai Variance Inflation Factor (VIF).\n",
        "    - Hapus salah satu variabel yang berkorelasi tinggi untuk mengurangi multikolinearitas.\n",
        "\n",
        "2. **Menggabungkan Variabel yang Berkorelasi Tinggi**\n",
        "    - Jika dua atau lebih variabel memiliki korelasi tinggi, pertimbangkan untuk menggabungkannya menjadi satu variabel baru, misalnya dengan menggunakan metode Principal Component Analysis (PCA).\n",
        "\n",
        "3. **Penanganan dengan PCA**\n",
        "    \n",
        "    Principal Component Analysis (PCA) dapat digunakan untuk mengurangi dimensi data dengan menggabungkan variabel yang berkorelasi tinggi menjadi komponen utama dengan cara sebagai berikut.\n",
        "    - Standarisasi data untuk memastikan semua variabel memiliki skala yang sama.\n",
        "    - Terapkan PCA untuk mengidentifikasi komponen utama yang menjelaskan sebagian besar variabilitas dalam data.\n",
        "    - Pilih sejumlah komponen utama yang cukup untuk menjelaskan variabilitas yang signifikan.\n",
        "    - Gunakan komponen utama tersebut sebagai variabel independen dalam model regresi.\n",
        "\n",
        "4. **Transformasi Data**\n",
        "    - Melakukan transformasi data pada variabel independen, seperti logaritma, akar kuadrat, atau standar normalisasi, untuk mengurangi korelasi antar variabel.\n",
        "\n",
        "5. **Regularisasi**\n",
        "    - Gunakan metode regresi dengan regularisasi seperti Ridge Regression atau Lasso Regression. Metode ini menambahkan penalti pada koefisien regresi untuk mengurangi dampak multikolinearitas.\n",
        "\n",
        "6. **Meningkatkan Ukuran Sampel**\n",
        "    - Jika memungkinkan, tambahkan lebih banyak data ke dalam model. Dengan ukuran sampel yang lebih besar, efek multikolinearitas dapat berkurang."
      ]
    },
    {
      "cell_type": "code",
      "execution_count": null,
      "metadata": {
        "id": "HySA0vC2YNcP",
        "outputId": "5c26e3b8-3f7f-410e-9b60-b6030bfa645c"
      },
      "outputs": [
        {
          "name": "stdout",
          "output_type": "stream",
          "text": [
            "                            OLS Regression Results                            \n",
            "==============================================================================\n",
            "Dep. Variable:             Views_show   R-squared:                       0.650\n",
            "Model:                            OLS   Adj. R-squared:                  0.641\n",
            "Method:                 Least Squares   F-statistic:                     71.52\n",
            "Date:                Thu, 27 Mar 2025   Prob (F-statistic):           2.78e-18\n",
            "Time:                        11:06:53   Log-Likelihood:                -1027.1\n",
            "No. Observations:                  80   AIC:                             2060.\n",
            "Df Residuals:                      77   BIC:                             2067.\n",
            "Df Model:                           2                                         \n",
            "Covariance Type:            nonrobust                                         \n",
            "==============================================================================\n",
            "                 coef    std err          t      P>|t|      [0.025      0.975]\n",
            "------------------------------------------------------------------------------\n",
            "const       2.899e+05   1.04e+04     27.933      0.000    2.69e+05    3.11e+05\n",
            "x1          7.104e+04   6762.296     10.505      0.000    5.76e+04    8.45e+04\n",
            "x2          7.728e+04   1.35e+04      5.717      0.000    5.04e+04    1.04e+05\n",
            "==============================================================================\n",
            "Omnibus:                        7.306   Durbin-Watson:                   0.808\n",
            "Prob(Omnibus):                  0.026   Jarque-Bera (JB):                7.673\n",
            "Skew:                           0.740   Prob(JB):                       0.0216\n",
            "Kurtosis:                       2.665   Cond. No.                         2.00\n",
            "==============================================================================\n",
            "\n",
            "Notes:\n",
            "[1] Standard Errors assume that the covariance matrix of the errors is correctly specified.\n"
          ]
        }
      ],
      "source": [
        "from sklearn.decomposition import PCA\n",
        "from sklearn.preprocessing import StandardScaler\n",
        "import statsmodels.api as sm\n",
        "\n",
        "# Standarisasi data\n",
        "scaler = StandardScaler()\n",
        "X_scaled = scaler.fit_transform(X)\n",
        "\n",
        "# PCA (Principal Component Analysis)\n",
        "pca = PCA(n_components=X.shape[1])\n",
        "X_pca = pca.fit_transform(X_scaled)\n",
        "\n",
        "# Menampilkan varians yang dijelaskan oleh setiap komponen utama\n",
        "explained_variance = np.cumsum(pca.explained_variance_ratio_)\n",
        "n_components = np.argmax(explained_variance >= 0.95) + 1\n",
        "\n",
        "X_pca_selected = X_pca[:, :n_components]\n",
        "\n",
        "# Model regresi dengan komponen utama (PCR)\n",
        "X_pca_const = sm.add_constant(X_pca_selected)\n",
        "pcr_model = sm.OLS(Y, X_pca_const).fit()\n",
        "\n",
        "print(pcr_model.summary())"
      ]
    },
    {
      "cell_type": "code",
      "execution_count": null,
      "metadata": {
        "id": "4n0RhpP0YNcP",
        "outputId": "2da1b906-2fe7-4d38-b2cc-ac95ba7e358c"
      },
      "outputs": [
        {
          "name": "stdout",
          "output_type": "stream",
          "text": [
            "  Component  VIF\n",
            "0       PC1  1.0\n",
            "1       PC2  1.0\n"
          ]
        }
      ],
      "source": [
        "# Menghitung VIF untuk komponen utama yang dipilih\n",
        "vif_pcr = pd.DataFrame()\n",
        "vif_pcr[\"Component\"] = [f\"PC{i+1}\" for i in range(X_pca_selected.shape[1])]\n",
        "vif_pcr[\"VIF\"] = [variance_inflation_factor(X_pca_selected, i) for i in range(X_pca_selected.shape[1])]\n",
        "\n",
        "print(vif_pcr)"
      ]
    },
    {
      "cell_type": "markdown",
      "metadata": {
        "id": "1JhILadGYNcP"
      },
      "source": [
        "### **Interpretasi Model PCR**\n",
        "\n",
        "#### **Koefisien Model**\n",
        "    - Intercept (const): Nilai konstanta sebesar 2.899×10^5 menunjukkan bahwa jika semua komponen utama bernilai nol maka nilai prediksi `Views_show` adalah 2.899×10^5.\n",
        "    - PC1 (x1): Koefisien sebesar 7.104×10^4 menunjukkan bahwa setiap peningkatan satu unit pada komponen utama pertama (PC1) akan meningkatkan `Views_show` sebesar 7.104×10^4 dengan asumsi komponen lainnya tetap.\n",
        "    - PC2 (x2): Koefisien sebesar 7.728×10^4 menunjukkan bahwa setiap peningkatan satu unit pada komponen utama kedua (PC2) akan meningkatkan `Views_show` sebesar 7.728×10^4 dengan asumsi komponen lainnya tetap.\n",
        "\n",
        "#### **Signifikansi Koefisien**\n",
        "    - Nilai konstanta dan semua koefisien memiliki p-value < 0.05 yang berarti bahwa nilai konstanta dan komponen utama (PC1 dan PC2) secara signifikan memengaruhi `Views_show`.\n",
        "\n",
        "#### **Kesimpulan**\n",
        "\n",
        "    - Model PCR menunjukkan bahwa kedua komponen utama (PC1 dan PC2) memiliki pengaruh signifikan terhadap `Views_show`.\n",
        "    - Koefisien positif pada PC1 dan PC2 menunjukkan bahwa peningkatan pada komponen utama ini akan meningkatkan jumlah `Views_show`.\n"
      ]
    },
    {
      "cell_type": "markdown",
      "metadata": {
        "id": "XtPaC8c3YNcQ"
      },
      "source": [
        "### **Interpretasi Nilai VIF untuk Komponen Utama**\n",
        "Berdasarkan output di atas diperoleh nilai Variance Inflation Factor (VIF) untuk komponen utama (Principal Components) sebagai berikut.\n",
        "- PC1 memiliki nilai VIF sebesar 1.0.\n",
        "- PC2 memiliki nilai VIF sebesar 1.0.\n",
        "\n",
        "Nilai VIF sebesar 1.0 menunjukkan bahwa tidak ada multikolinearitas di antara komponen utama yang digunakan dalam model. Hal ini sesuai dengan tujuan Principal Component Analysis (PCA) yaitu menghilangkan korelasi antar variabel dengan mengubahnya menjadi komponen utama yang orthogonal (tidak saling berkorelasi). Oleh karena itu, dapat disimpulkan bahwa model regresi yang menggunakan komponen utama ini tidak mengalami masalah multikolinearitas, sehingga hasil estimasi parameter regresi lebih stabil."
      ]
    },
    {
      "cell_type": "markdown",
      "metadata": {
        "id": "j4TKwSjRdwio"
      },
      "source": [
        "## Bagian III"
      ]
    },
    {
      "cell_type": "markdown",
      "metadata": {
        "id": "r5Rv95P4l0Eq"
      },
      "source": [
        "Di era digitalisasi pendidikan saat ini, pemahaman mendalam mengenai pola pembelajaran pengguna menjadi sangat penting. Data yang dihasilkan dari interaksi pengguna terhadap platform pembelajaran online dapat dimanfaatkan untuk memahami profil belajar pengguna secara lebih mendalam. Dataset yang disediakan mencakup informasi mengenai durasi belajar, jumlah kursus yang diikuti baik pada tingkat pemula maupun lanjutan, serta skor rata-rata yang diperoleh pengguna pada berbagai bidang pembelajaran (Data Science, Backend, dan Frontend).\n",
        "\n",
        "Dataset ini memiliki target klasifikasi berupa profil pengguna (`PROFILE`) berdasarkan preferensi atau kemampuan mereka dalam bidang tertentu. Dalam konteks ini, tujuan utama adalah memahami karakteristik pengguna berdasarkan data historis mereka, sehingga nantinya dapat dikembangkan strategi personalisasi pendidikan yang lebih efektif.\n",
        "\n",
        "## Tugas yang Harus Dilakukan\n",
        "\n",
        "### 1. Exploratory Data Analysis (EDA)\n",
        "- Lakukan eksplorasi awal untuk memahami karakteristik dan distribusi data.\n",
        "- Identifikasi pola atau insight awal yang relevan.\n",
        "\n",
        "### 2. Preprocessing Data\n",
        "- Identifikasi dan tangani missing values (pengisian menggunakan metode yang tepat, misalnya mean, median, atau mode).\n",
        "- Lakukan encoding untuk variabel kategori (jika diperlukan).\n",
        "- Lakukan standarisasi atau normalisasi data jika diperlukan.\n",
        "\n",
        "### 3. Modeling\n",
        "Bangun model klasifikasi menggunakan metode berikut:\n",
        "- Linear Discriminant Analysis (**LDA**)\n",
        "- Quadratic Discriminant Analysis (**QDA**)\n",
        "- K-Nearest Neighbors (**KNN**)\n",
        "- **Naive Bayes**\n",
        "\n",
        "### 4. Evaluasi Model\n",
        "Gunakan Metrik evaluasi yang sesuai dengan performa model. Berikan alasan pemilihannya. Serta manakah model terbaik dari hasil analisis yang telah dilakukan?\n",
        "\n"
      ]
    },
    {
      "cell_type": "code",
      "execution_count": null,
      "metadata": {
        "id": "dEck37DfqIL-",
        "outputId": "a1b759b0-232a-4f9f-98e4-01fd46f069c9"
      },
      "outputs": [
        {
          "name": "stderr",
          "output_type": "stream",
          "text": [
            "<>:2: SyntaxWarning: invalid escape sequence '\\L'\n",
            "<>:2: SyntaxWarning: invalid escape sequence '\\L'\n",
            "C:\\Users\\Andriansah\\AppData\\Local\\Temp\\ipykernel_16916\\497970527.py:2: SyntaxWarning: invalid escape sequence '\\L'\n",
            "  df = pd.read_csv('c:\\Lokal MSI\\All About Coolyeah\\Semester 4\\Komputasi Statistika II\\Praktikum Komstat II\\Kuis 1 Prak Komstat II Kamis 27 Maret 11.10\\dataset-no-3.csv')\n"
          ]
        },
        {
          "data": {
            "text/html": [
              "<div>\n",
              "<style scoped>\n",
              "    .dataframe tbody tr th:only-of-type {\n",
              "        vertical-align: middle;\n",
              "    }\n",
              "\n",
              "    .dataframe tbody tr th {\n",
              "        vertical-align: top;\n",
              "    }\n",
              "\n",
              "    .dataframe thead th {\n",
              "        text-align: right;\n",
              "    }\n",
              "</style>\n",
              "<table border=\"1\" class=\"dataframe\">\n",
              "  <thead>\n",
              "    <tr style=\"text-align: right;\">\n",
              "      <th></th>\n",
              "      <th>Unnamed: 0</th>\n",
              "      <th>NAME</th>\n",
              "      <th>USER_ID</th>\n",
              "      <th>HOURS_DATASCIENCE</th>\n",
              "      <th>HOURS_BACKEND</th>\n",
              "      <th>HOURS_FRONTEND</th>\n",
              "      <th>NUM_COURSES_BEGINNER_DATASCIENCE</th>\n",
              "      <th>NUM_COURSES_BEGINNER_BACKEND</th>\n",
              "      <th>NUM_COURSES_BEGINNER_FRONTEND</th>\n",
              "      <th>NUM_COURSES_ADVANCED_DATASCIENCE</th>\n",
              "      <th>NUM_COURSES_ADVANCED_BACKEND</th>\n",
              "      <th>NUM_COURSES_ADVANCED_FRONTEND</th>\n",
              "      <th>AVG_SCORE_DATASCIENCE</th>\n",
              "      <th>AVG_SCORE_BACKEND</th>\n",
              "      <th>AVG_SCORE_FRONTEND</th>\n",
              "      <th>PROFILE</th>\n",
              "    </tr>\n",
              "  </thead>\n",
              "  <tbody>\n",
              "    <tr>\n",
              "      <th>0</th>\n",
              "      <td>28</td>\n",
              "      <td>Stormy Muto</td>\n",
              "      <td>58283940</td>\n",
              "      <td>7.0</td>\n",
              "      <td>39.0</td>\n",
              "      <td>29.0</td>\n",
              "      <td>2.0</td>\n",
              "      <td>4.0</td>\n",
              "      <td>0.0</td>\n",
              "      <td>2.0</td>\n",
              "      <td>5.0</td>\n",
              "      <td>0.0</td>\n",
              "      <td>84.0</td>\n",
              "      <td>74.0</td>\n",
              "      <td>NaN</td>\n",
              "      <td>beginner_front_end</td>\n",
              "    </tr>\n",
              "    <tr>\n",
              "      <th>1</th>\n",
              "      <td>81</td>\n",
              "      <td>Carlos Ferro</td>\n",
              "      <td>1357218</td>\n",
              "      <td>32.0</td>\n",
              "      <td>0.0</td>\n",
              "      <td>44.0</td>\n",
              "      <td>2.0</td>\n",
              "      <td>0.0</td>\n",
              "      <td>0.0</td>\n",
              "      <td>0.0</td>\n",
              "      <td>5.0</td>\n",
              "      <td>0.0</td>\n",
              "      <td>67.0</td>\n",
              "      <td>45.0</td>\n",
              "      <td>NaN</td>\n",
              "      <td>beginner_front_end</td>\n",
              "    </tr>\n",
              "    <tr>\n",
              "      <th>2</th>\n",
              "      <td>89</td>\n",
              "      <td>Robby Constantini</td>\n",
              "      <td>63212105</td>\n",
              "      <td>45.0</td>\n",
              "      <td>0.0</td>\n",
              "      <td>59.0</td>\n",
              "      <td>0.0</td>\n",
              "      <td>5.0</td>\n",
              "      <td>4.0</td>\n",
              "      <td>0.0</td>\n",
              "      <td>4.0</td>\n",
              "      <td>1.0</td>\n",
              "      <td>NaN</td>\n",
              "      <td>54.0</td>\n",
              "      <td>47.0</td>\n",
              "      <td>advanced_front_end</td>\n",
              "    </tr>\n",
              "    <tr>\n",
              "      <th>3</th>\n",
              "      <td>138</td>\n",
              "      <td>Paul Mckenny</td>\n",
              "      <td>23239851</td>\n",
              "      <td>36.0</td>\n",
              "      <td>19.0</td>\n",
              "      <td>28.0</td>\n",
              "      <td>0.0</td>\n",
              "      <td>5.0</td>\n",
              "      <td>7.0</td>\n",
              "      <td>0.0</td>\n",
              "      <td>5.0</td>\n",
              "      <td>3.0</td>\n",
              "      <td>NaN</td>\n",
              "      <td>71.0</td>\n",
              "      <td>89.0</td>\n",
              "      <td>beginner_data_science</td>\n",
              "    </tr>\n",
              "    <tr>\n",
              "      <th>4</th>\n",
              "      <td>143</td>\n",
              "      <td>Jean Webb</td>\n",
              "      <td>72234478</td>\n",
              "      <td>61.0</td>\n",
              "      <td>78.0</td>\n",
              "      <td>38.0</td>\n",
              "      <td>6.0</td>\n",
              "      <td>11.0</td>\n",
              "      <td>0.0</td>\n",
              "      <td>4.0</td>\n",
              "      <td>3.0</td>\n",
              "      <td>0.0</td>\n",
              "      <td>66.0</td>\n",
              "      <td>85.0</td>\n",
              "      <td>NaN</td>\n",
              "      <td>advanced_front_end</td>\n",
              "    </tr>\n",
              "  </tbody>\n",
              "</table>\n",
              "</div>"
            ],
            "text/plain": [
              "   Unnamed: 0               NAME   USER_ID  HOURS_DATASCIENCE  HOURS_BACKEND  \\\n",
              "0          28        Stormy Muto  58283940                7.0           39.0   \n",
              "1          81       Carlos Ferro   1357218               32.0            0.0   \n",
              "2          89  Robby Constantini  63212105               45.0            0.0   \n",
              "3         138       Paul Mckenny  23239851               36.0           19.0   \n",
              "4         143          Jean Webb  72234478               61.0           78.0   \n",
              "\n",
              "   HOURS_FRONTEND  NUM_COURSES_BEGINNER_DATASCIENCE  \\\n",
              "0            29.0                               2.0   \n",
              "1            44.0                               2.0   \n",
              "2            59.0                               0.0   \n",
              "3            28.0                               0.0   \n",
              "4            38.0                               6.0   \n",
              "\n",
              "   NUM_COURSES_BEGINNER_BACKEND  NUM_COURSES_BEGINNER_FRONTEND  \\\n",
              "0                           4.0                            0.0   \n",
              "1                           0.0                            0.0   \n",
              "2                           5.0                            4.0   \n",
              "3                           5.0                            7.0   \n",
              "4                          11.0                            0.0   \n",
              "\n",
              "   NUM_COURSES_ADVANCED_DATASCIENCE  NUM_COURSES_ADVANCED_BACKEND  \\\n",
              "0                               2.0                           5.0   \n",
              "1                               0.0                           5.0   \n",
              "2                               0.0                           4.0   \n",
              "3                               0.0                           5.0   \n",
              "4                               4.0                           3.0   \n",
              "\n",
              "   NUM_COURSES_ADVANCED_FRONTEND  AVG_SCORE_DATASCIENCE  AVG_SCORE_BACKEND  \\\n",
              "0                            0.0                   84.0               74.0   \n",
              "1                            0.0                   67.0               45.0   \n",
              "2                            1.0                    NaN               54.0   \n",
              "3                            3.0                    NaN               71.0   \n",
              "4                            0.0                   66.0               85.0   \n",
              "\n",
              "   AVG_SCORE_FRONTEND                PROFILE  \n",
              "0                 NaN     beginner_front_end  \n",
              "1                 NaN     beginner_front_end  \n",
              "2                47.0     advanced_front_end  \n",
              "3                89.0  beginner_data_science  \n",
              "4                 NaN     advanced_front_end  "
            ]
          },
          "execution_count": 13,
          "metadata": {},
          "output_type": "execute_result"
        }
      ],
      "source": [
        "# Import Data\n",
        "df = pd.read_csv('c:\\Lokal MSI\\All About Coolyeah\\Semester 4\\Komputasi Statistika II\\Praktikum Komstat II\\Kuis 1 Prak Komstat II Kamis 27 Maret 11.10\\dataset-no-3.csv')\n",
        "df.head()"
      ]
    },
    {
      "cell_type": "code",
      "execution_count": null,
      "metadata": {
        "id": "3eBzb76eYNcQ"
      },
      "outputs": [],
      "source": [
        "# Library\n",
        "import seaborn as sns\n",
        "import matplotlib.pyplot as plt"
      ]
    },
    {
      "cell_type": "markdown",
      "metadata": {
        "id": "VvTBKiK0YNcQ"
      },
      "source": [
        "## **1. Exploratory Data Analysis (EDA)**"
      ]
    },
    {
      "cell_type": "markdown",
      "metadata": {
        "id": "WmMVe1HnYNcR"
      },
      "source": [
        "### **Pie Chart Profil Pengguna**"
      ]
    },
    {
      "cell_type": "code",
      "execution_count": null,
      "metadata": {
        "id": "nJdScvoPYNcR",
        "outputId": "26bb1971-ee59-4e48-99da-2acccd475fb9"
      },
      "outputs": [
        {
          "data": {
            "image/png": "[encoded data removed]",
            "text/plain": [
              "<Figure size 800x800 with 1 Axes>"
            ]
          },
          "metadata": {},
          "output_type": "display_data"
        }
      ],
      "source": [
        "# Menghitung jumlah pengguna berdasarkan profil\n",
        "profile_counts = df['PROFILE'].value_counts()\n",
        "\n",
        "# Membuat pie chart dengan frekuensi dan persentase\n",
        "plt.figure(figsize=(8, 8))\n",
        "profile_counts.plot.pie(\n",
        "    autopct=lambda p: f'{p:.1f}%\\n({int(p * sum(profile_counts) / 100)})',\n",
        "    startangle=90,\n",
        "    colors=sns.color_palette('pastel')\n",
        ")\n",
        "plt.title('Pie Chart Profil Pengguna')\n",
        "plt.ylabel('')\n",
        "plt.show()"
      ]
    },
    {
      "cell_type": "markdown",
      "metadata": {
        "id": "bHtTSplnYNcR"
      },
      "source": [
        "### **Interpretasi**\n",
        "Diperoleh output di atas pie chart profil masing-masing pengguna kursus memiliki proporsi yang tidak jauh berbeda. Profil pengguna pada kursus yang paling banyak adalah Advanced Backend sedangkan profil pengguna paling sedikit adalah Advanced Data Science."
      ]
    },
    {
      "cell_type": "markdown",
      "metadata": {
        "id": "tHlA1nk5YNcR"
      },
      "source": [
        "### **Distribusi Jam Belajar yang Dihabiskan oleh Pengguna untuk Belajar atau Mengikuti Kursus Setiap Bidang**\n"
      ]
    },
    {
      "cell_type": "code",
      "execution_count": null,
      "metadata": {
        "id": "j1_k2gWqYNcR",
        "outputId": "27a79ca6-80fe-4766-eb2b-e5b5ee9cdaf7"
      },
      "outputs": [
        {
          "data": {
            "image/png": "[encoded data removed]",
            "text/plain": [
              "<Figure size 1500x500 with 3 Axes>"
            ]
          },
          "metadata": {},
          "output_type": "display_data"
        }
      ],
      "source": [
        "# Visualisasi dengan Boxplot untuk variabel numerik\n",
        "numerical_columns = ['HOURS_DATASCIENCE', 'HOURS_BACKEND', 'HOURS_FRONTEND']\n",
        "\n",
        "plt.figure(figsize=(15, 5))\n",
        "for i, col in enumerate(numerical_columns, 1):\n",
        "    plt.subplot(1, len(numerical_columns), i)\n",
        "    sns.boxplot(y=df[col], color='royalblue')\n",
        "    plt.title(f'Boxplot {col}')\n",
        "    plt.ylabel(col)\n",
        "\n",
        "plt.tight_layout()\n",
        "plt.show()"
      ]
    },
    {
      "cell_type": "markdown",
      "metadata": {
        "id": "YoSVx5_sYNcS"
      },
      "source": [
        "### **Interpretasi**\n",
        "Diperoleh output di atas boxplot jam yang dihabiskan oleh pengguna untuk belajar atau mengikuti kursus setiap bidang yaitu Data Science, Backend, dan Frontend secara keseluruhan memiliki banyak outlier jam belajar di atas 100 jam sehingga dapat disimpulkan bahwa jam yang dihabiskan oleh pengguna untuk belajar atau mengikuti kursus setiap bidang yaitu Data Science, Backend, dan Frontend tidak berdistribusi normal."
      ]
    },
    {
      "cell_type": "markdown",
      "metadata": {
        "id": "eg3_gOQlYNcS"
      },
      "source": [
        "### **Distribusi Skor Rata-rata yang Diperoleh Pengguna dalam Kursus Setiap Bidang**"
      ]
    },
    {
      "cell_type": "code",
      "execution_count": null,
      "metadata": {
        "id": "yFmTERmZYNcS",
        "outputId": "5f966b65-0309-4c45-f41c-6c7b663b1208"
      },
      "outputs": [
        {
          "data": {
            "image/png": "[encoded data removed]",
            "text/plain": [
              "<Figure size 1500x500 with 3 Axes>"
            ]
          },
          "metadata": {},
          "output_type": "display_data"
        }
      ],
      "source": [
        "# Kolom average score untuk setiap bidang\n",
        "average_score_columns = ['AVG_SCORE_DATASCIENCE', 'AVG_SCORE_BACKEND', 'AVG_SCORE_FRONTEND']\n",
        "\n",
        "# Membuat boxplot untuk setiap bidang\n",
        "plt.figure(figsize=(15, 5))\n",
        "for i, col in enumerate(average_score_columns, 1):\n",
        "    plt.subplot(1, len(average_score_columns), i)\n",
        "    sns.boxplot(y=df[col], color='salmon')\n",
        "    plt.title(f'Boxplot {col}')\n",
        "    plt.ylabel(col)\n",
        "\n",
        "plt.tight_layout()\n",
        "plt.show()"
      ]
    },
    {
      "cell_type": "markdown",
      "metadata": {
        "id": "gn1n3-1-YNcS"
      },
      "source": [
        "### **Interpretasi**\n",
        "Diperoleh output di atas boxplot skor rata-rata yang diperoleh pengguna dalam kursus untuk setiap bidang yaitu Data Science, Backend, dan Frontend secara keseluruhan memiliki banyak outlier skor rata-rata di bawah 30 sehingga dapat disimpulkan bahwa skor rata-rata yang diperoleh pengguna dalam kursus untuk setiap bidang yaitu Data Science, Backend, dan Frontend tidak berdistribusi normal."
      ]
    },
    {
      "cell_type": "markdown",
      "metadata": {
        "id": "VGvQYMjyYNcS"
      },
      "source": [
        "#### **Distribusi Jumlah Kursus yang Diikuti oleh Pengguna Setiap Bidang**"
      ]
    },
    {
      "cell_type": "code",
      "execution_count": null,
      "metadata": {
        "id": "c1fvBCSPYNcS",
        "outputId": "e8d85f88-bf13-4395-bd03-27f19176bfba"
      },
      "outputs": [
        {
          "data": {
            "image/png": "[encoded data removed]",
            "text/plain": [
              "<Figure size 1500x1000 with 6 Axes>"
            ]
          },
          "metadata": {},
          "output_type": "display_data"
        }
      ],
      "source": [
        "import matplotlib.pyplot as plt\n",
        "import seaborn as sns\n",
        "\n",
        "# Kolom jumlah kursus untuk setiap bidang\n",
        "course_columns = [\n",
        "    'NUM_COURSES_BEGINNER_DATASCIENCE',\n",
        "    'NUM_COURSES_BEGINNER_BACKEND',\n",
        "    'NUM_COURSES_BEGINNER_FRONTEND',\n",
        "    'NUM_COURSES_ADVANCED_DATASCIENCE',\n",
        "    'NUM_COURSES_ADVANCED_BACKEND',\n",
        "    'NUM_COURSES_ADVANCED_FRONTEND'\n",
        "]\n",
        "\n",
        "# Daftar warna berbeda untuk setiap boxplot\n",
        "colors = ['lightblue', 'lightcoral', 'lightgreen', 'gold', 'orchid', 'lightskyblue']\n",
        "\n",
        "# Membuat boxplot untuk setiap bidang\n",
        "plt.figure(figsize=(15, 10))\n",
        "\n",
        "for i, (col, color) in enumerate(zip(course_columns, colors), 1):\n",
        "    plt.subplot(2, 3, i)  # Grid 2 baris, 3 kolom\n",
        "    sns.boxplot(y=df[col], color=color)\n",
        "    plt.title(f'Boxplot {col}')\n",
        "    plt.ylabel(col)\n",
        "    plt.xticks([])\n",
        "\n",
        "plt.tight_layout()\n",
        "plt.show()"
      ]
    },
    {
      "cell_type": "markdown",
      "metadata": {
        "id": "xiVrtlnOYNcS"
      },
      "source": [
        "### **Interpretasi**\n",
        "Diperoleh output di atas boxplot jumlah kursus yang diikuti oleh pengguna setiap bidang terlihat bahwa pengguna di bidang Beginner Data Science, Beginner Backend, Advance Data Science, dan Advance Frontend memiliki outlier jumlah kursus lebih dari atau sama dengan 10 kursus. Pengguna di bidang Beginner Frontend memiliki 1 oulier jumlah kursus sebanyak 13 kursus. Sedangkan, pengguna di bidang Advanced Backend memiliki outlier jumlah kursus lebih dari atau sama dengan 11 kursus. Oleh karena itu, dapat disimpulkan bahwa secara keseluruhan jumlah kursus yang diikuti oleh pengguna setiap bidang tidak berdistribusi normal."
      ]
    },
    {
      "cell_type": "markdown",
      "metadata": {
        "id": "l7ifKzvgYNcS"
      },
      "source": [
        "## **2. Preprocessing Data**"
      ]
    },
    {
      "cell_type": "markdown",
      "metadata": {
        "id": "t4bLsC1EYNcT"
      },
      "source": [
        "### **Mengecek dan Menangani Missing Value**"
      ]
    },
    {
      "cell_type": "code",
      "execution_count": null,
      "metadata": {
        "id": "zoKbECV9YNcT",
        "outputId": "2b5b0160-be25-4edb-8fe5-0e12b9d00030"
      },
      "outputs": [
        {
          "name": "stdout",
          "output_type": "stream",
          "text": [
            "                                  Missing Values  Percentage\n",
            "AVG_SCORE_DATASCIENCE                        220       1.100\n",
            "AVG_SCORE_FRONTEND                           168       0.840\n",
            "AVG_SCORE_BACKEND                             84       0.420\n",
            "HOURS_BACKEND                                 53       0.265\n",
            "NUM_COURSES_BEGINNER_FRONTEND                 39       0.195\n",
            "NUM_COURSES_ADVANCED_FRONTEND                 37       0.185\n",
            "NUM_COURSES_BEGINNER_DATASCIENCE              26       0.130\n",
            "NUM_COURSES_BEGINNER_BACKEND                  18       0.090\n",
            "HOURS_FRONTEND                                16       0.080\n",
            "HOURS_DATASCIENCE                             14       0.070\n",
            "NUM_COURSES_ADVANCED_BACKEND                   8       0.040\n",
            "NUM_COURSES_ADVANCED_DATASCIENCE               2       0.010\n",
            "NAME                                           0       0.000\n",
            "Unnamed: 0                                     0       0.000\n",
            "USER_ID                                        0       0.000\n",
            "PROFILE                                        0       0.000\n"
          ]
        }
      ],
      "source": [
        "import pandas as pd\n",
        "\n",
        "missing_values = df.isnull().sum()\n",
        "missing_percentage = (missing_values / len(df)) * 100\n",
        "\n",
        "missing_data = pd.DataFrame({'Missing Values': missing_values, 'Percentage': missing_percentage})\n",
        "print(missing_data.sort_values(by='Percentage', ascending=False))"
      ]
    },
    {
      "cell_type": "code",
      "execution_count": null,
      "metadata": {
        "id": "6cQFHZR7YNcT",
        "outputId": "caced3ff-87a6-430e-91eb-5447a13fea20"
      },
      "outputs": [
        {
          "data": {
            "text/plain": [
              "Unnamed: 0                            0\n",
              "NAME                                  0\n",
              "USER_ID                               0\n",
              "HOURS_DATASCIENCE                     0\n",
              "HOURS_BACKEND                         0\n",
              "HOURS_FRONTEND                        0\n",
              "NUM_COURSES_BEGINNER_DATASCIENCE     26\n",
              "NUM_COURSES_BEGINNER_BACKEND         18\n",
              "NUM_COURSES_BEGINNER_FRONTEND        39\n",
              "NUM_COURSES_ADVANCED_DATASCIENCE      2\n",
              "NUM_COURSES_ADVANCED_BACKEND          8\n",
              "NUM_COURSES_ADVANCED_FRONTEND        37\n",
              "AVG_SCORE_DATASCIENCE               220\n",
              "AVG_SCORE_BACKEND                    84\n",
              "AVG_SCORE_FRONTEND                  168\n",
              "PROFILE                               0\n",
              "dtype: int64"
            ]
          },
          "execution_count": 20,
          "metadata": {},
          "output_type": "execute_result"
        }
      ],
      "source": [
        "df[numerical_columns] = df[numerical_columns].fillna(df[numerical_columns].median())\n",
        "df.isnull().sum()"
      ]
    },
    {
      "cell_type": "markdown",
      "metadata": {
        "id": "qrLgoMagYNcT"
      },
      "source": [
        "### **Standarisasi Data**"
      ]
    },
    {
      "cell_type": "code",
      "execution_count": null,
      "metadata": {
        "id": "IQxu5lORYNcT",
        "outputId": "8a8504d2-f547-4cd8-a691-0d8421547653"
      },
      "outputs": [
        {
          "data": {
            "text/html": [
              "<div>\n",
              "<style scoped>\n",
              "    .dataframe tbody tr th:only-of-type {\n",
              "        vertical-align: middle;\n",
              "    }\n",
              "\n",
              "    .dataframe tbody tr th {\n",
              "        vertical-align: top;\n",
              "    }\n",
              "\n",
              "    .dataframe thead th {\n",
              "        text-align: right;\n",
              "    }\n",
              "</style>\n",
              "<table border=\"1\" class=\"dataframe\">\n",
              "  <thead>\n",
              "    <tr style=\"text-align: right;\">\n",
              "      <th></th>\n",
              "      <th>Unnamed: 0</th>\n",
              "      <th>NAME</th>\n",
              "      <th>USER_ID</th>\n",
              "      <th>HOURS_DATASCIENCE</th>\n",
              "      <th>HOURS_BACKEND</th>\n",
              "      <th>HOURS_FRONTEND</th>\n",
              "      <th>NUM_COURSES_BEGINNER_DATASCIENCE</th>\n",
              "      <th>NUM_COURSES_BEGINNER_BACKEND</th>\n",
              "      <th>NUM_COURSES_BEGINNER_FRONTEND</th>\n",
              "      <th>NUM_COURSES_ADVANCED_DATASCIENCE</th>\n",
              "      <th>NUM_COURSES_ADVANCED_BACKEND</th>\n",
              "      <th>NUM_COURSES_ADVANCED_FRONTEND</th>\n",
              "      <th>AVG_SCORE_DATASCIENCE</th>\n",
              "      <th>AVG_SCORE_BACKEND</th>\n",
              "      <th>AVG_SCORE_FRONTEND</th>\n",
              "      <th>PROFILE_advanced_data_science</th>\n",
              "      <th>PROFILE_advanced_front_end</th>\n",
              "      <th>PROFILE_beginner_backend</th>\n",
              "      <th>PROFILE_beginner_data_science</th>\n",
              "      <th>PROFILE_beginner_front_end</th>\n",
              "    </tr>\n",
              "  </thead>\n",
              "  <tbody>\n",
              "    <tr>\n",
              "      <th>0</th>\n",
              "      <td>28</td>\n",
              "      <td>Stormy Muto</td>\n",
              "      <td>58283940</td>\n",
              "      <td>-1.365333</td>\n",
              "      <td>-0.203549</td>\n",
              "      <td>-0.385618</td>\n",
              "      <td>-0.849179</td>\n",
              "      <td>0.135590</td>\n",
              "      <td>-1.764960</td>\n",
              "      <td>-0.661751</td>\n",
              "      <td>0.303395</td>\n",
              "      <td>-1.695828</td>\n",
              "      <td>1.364471</td>\n",
              "      <td>0.476967</td>\n",
              "      <td>0.000000</td>\n",
              "      <td>False</td>\n",
              "      <td>False</td>\n",
              "      <td>False</td>\n",
              "      <td>False</td>\n",
              "      <td>True</td>\n",
              "    </tr>\n",
              "    <tr>\n",
              "      <th>1</th>\n",
              "      <td>81</td>\n",
              "      <td>Carlos Ferro</td>\n",
              "      <td>1357218</td>\n",
              "      <td>-0.248584</td>\n",
              "      <td>-1.947946</td>\n",
              "      <td>0.343187</td>\n",
              "      <td>-0.849179</td>\n",
              "      <td>-1.768388</td>\n",
              "      <td>-1.764960</td>\n",
              "      <td>-1.609044</td>\n",
              "      <td>0.303395</td>\n",
              "      <td>-1.695828</td>\n",
              "      <td>0.139093</td>\n",
              "      <td>-1.567540</td>\n",
              "      <td>0.000000</td>\n",
              "      <td>False</td>\n",
              "      <td>False</td>\n",
              "      <td>False</td>\n",
              "      <td>False</td>\n",
              "      <td>True</td>\n",
              "    </tr>\n",
              "    <tr>\n",
              "      <th>2</th>\n",
              "      <td>89</td>\n",
              "      <td>Robby Constantini</td>\n",
              "      <td>63212105</td>\n",
              "      <td>0.332126</td>\n",
              "      <td>-1.947946</td>\n",
              "      <td>1.071992</td>\n",
              "      <td>-1.849031</td>\n",
              "      <td>0.611585</td>\n",
              "      <td>-0.021055</td>\n",
              "      <td>-1.609044</td>\n",
              "      <td>-0.159336</td>\n",
              "      <td>-1.192291</td>\n",
              "      <td>0.000000</td>\n",
              "      <td>-0.933038</td>\n",
              "      <td>-1.399362</td>\n",
              "      <td>False</td>\n",
              "      <td>True</td>\n",
              "      <td>False</td>\n",
              "      <td>False</td>\n",
              "      <td>False</td>\n",
              "    </tr>\n",
              "    <tr>\n",
              "      <th>3</th>\n",
              "      <td>138</td>\n",
              "      <td>Paul Mckenny</td>\n",
              "      <td>23239851</td>\n",
              "      <td>-0.069904</td>\n",
              "      <td>-1.098112</td>\n",
              "      <td>-0.434205</td>\n",
              "      <td>-1.849031</td>\n",
              "      <td>0.611585</td>\n",
              "      <td>1.286874</td>\n",
              "      <td>-1.609044</td>\n",
              "      <td>0.303395</td>\n",
              "      <td>-0.185216</td>\n",
              "      <td>0.000000</td>\n",
              "      <td>0.265466</td>\n",
              "      <td>1.520212</td>\n",
              "      <td>False</td>\n",
              "      <td>False</td>\n",
              "      <td>False</td>\n",
              "      <td>True</td>\n",
              "      <td>False</td>\n",
              "    </tr>\n",
              "    <tr>\n",
              "      <th>4</th>\n",
              "      <td>143</td>\n",
              "      <td>Jean Webb</td>\n",
              "      <td>72234478</td>\n",
              "      <td>1.046845</td>\n",
              "      <td>1.540848</td>\n",
              "      <td>0.051665</td>\n",
              "      <td>1.150526</td>\n",
              "      <td>3.467552</td>\n",
              "      <td>-1.764960</td>\n",
              "      <td>0.285543</td>\n",
              "      <td>-0.622067</td>\n",
              "      <td>-1.695828</td>\n",
              "      <td>0.067012</td>\n",
              "      <td>1.252469</td>\n",
              "      <td>0.000000</td>\n",
              "      <td>False</td>\n",
              "      <td>True</td>\n",
              "      <td>False</td>\n",
              "      <td>False</td>\n",
              "      <td>False</td>\n",
              "    </tr>\n",
              "  </tbody>\n",
              "</table>\n",
              "</div>"
            ],
            "text/plain": [
              "   Unnamed: 0               NAME   USER_ID  HOURS_DATASCIENCE  HOURS_BACKEND  \\\n",
              "0          28        Stormy Muto  58283940          -1.365333      -0.203549   \n",
              "1          81       Carlos Ferro   1357218          -0.248584      -1.947946   \n",
              "2          89  Robby Constantini  63212105           0.332126      -1.947946   \n",
              "3         138       Paul Mckenny  23239851          -0.069904      -1.098112   \n",
              "4         143          Jean Webb  72234478           1.046845       1.540848   \n",
              "\n",
              "   HOURS_FRONTEND  NUM_COURSES_BEGINNER_DATASCIENCE  \\\n",
              "0       -0.385618                         -0.849179   \n",
              "1        0.343187                         -0.849179   \n",
              "2        1.071992                         -1.849031   \n",
              "3       -0.434205                         -1.849031   \n",
              "4        0.051665                          1.150526   \n",
              "\n",
              "   NUM_COURSES_BEGINNER_BACKEND  NUM_COURSES_BEGINNER_FRONTEND  \\\n",
              "0                      0.135590                      -1.764960   \n",
              "1                     -1.768388                      -1.764960   \n",
              "2                      0.611585                      -0.021055   \n",
              "3                      0.611585                       1.286874   \n",
              "4                      3.467552                      -1.764960   \n",
              "\n",
              "   NUM_COURSES_ADVANCED_DATASCIENCE  NUM_COURSES_ADVANCED_BACKEND  \\\n",
              "0                         -0.661751                      0.303395   \n",
              "1                         -1.609044                      0.303395   \n",
              "2                         -1.609044                     -0.159336   \n",
              "3                         -1.609044                      0.303395   \n",
              "4                          0.285543                     -0.622067   \n",
              "\n",
              "   NUM_COURSES_ADVANCED_FRONTEND  AVG_SCORE_DATASCIENCE  AVG_SCORE_BACKEND  \\\n",
              "0                      -1.695828               1.364471           0.476967   \n",
              "1                      -1.695828               0.139093          -1.567540   \n",
              "2                      -1.192291               0.000000          -0.933038   \n",
              "3                      -0.185216               0.000000           0.265466   \n",
              "4                      -1.695828               0.067012           1.252469   \n",
              "\n",
              "   AVG_SCORE_FRONTEND  PROFILE_advanced_data_science  \\\n",
              "0            0.000000                          False   \n",
              "1            0.000000                          False   \n",
              "2           -1.399362                          False   \n",
              "3            1.520212                          False   \n",
              "4            0.000000                          False   \n",
              "\n",
              "   PROFILE_advanced_front_end  PROFILE_beginner_backend  \\\n",
              "0                       False                     False   \n",
              "1                       False                     False   \n",
              "2                        True                     False   \n",
              "3                       False                     False   \n",
              "4                        True                     False   \n",
              "\n",
              "   PROFILE_beginner_data_science  PROFILE_beginner_front_end  \n",
              "0                          False                        True  \n",
              "1                          False                        True  \n",
              "2                          False                       False  \n",
              "3                           True                       False  \n",
              "4                          False                       False  "
            ]
          },
          "execution_count": 21,
          "metadata": {},
          "output_type": "execute_result"
        }
      ],
      "source": [
        "from sklearn.preprocessing import StandardScaler\n",
        "\n",
        "# Mengatasi Missing Values\n",
        "df.fillna(df.mean(numeric_only=True), inplace=True)\n",
        "df.fillna(df.mode().iloc[0], inplace=True)\n",
        "\n",
        "# Encoding Variabel Kategori\n",
        "df_encoded = pd.get_dummies(df, columns=['PROFILE'], drop_first=True)\n",
        "\n",
        "# Standarisasi Data Numerik\n",
        "numerical_columns = ['HOURS_DATASCIENCE', 'HOURS_BACKEND', 'HOURS_FRONTEND',\n",
        "                     'NUM_COURSES_BEGINNER_DATASCIENCE', 'NUM_COURSES_BEGINNER_BACKEND',\n",
        "                     'NUM_COURSES_BEGINNER_FRONTEND', 'NUM_COURSES_ADVANCED_DATASCIENCE',\n",
        "                     'NUM_COURSES_ADVANCED_BACKEND', 'NUM_COURSES_ADVANCED_FRONTEND',\n",
        "                     'AVG_SCORE_DATASCIENCE', 'AVG_SCORE_BACKEND', 'AVG_SCORE_FRONTEND']\n",
        "\n",
        "scaler = StandardScaler()\n",
        "df_encoded[numerical_columns] = scaler.fit_transform(df_encoded[numerical_columns])\n",
        "\n",
        "# Menampilkan data setelah preprocessing\n",
        "df_encoded.head()"
      ]
    },
    {
      "cell_type": "markdown",
      "metadata": {
        "id": "Mk3wMHZMYNcT"
      },
      "source": [
        "### **Encoding untuk Variabel Kategorik (Profile)**"
      ]
    },
    {
      "cell_type": "code",
      "execution_count": null,
      "metadata": {
        "id": "pxyi0rQgYNcT",
        "outputId": "1d422883-bb5d-446c-a696-0f580e412707"
      },
      "outputs": [
        {
          "data": {
            "text/html": [
              "<div>\n",
              "<style scoped>\n",
              "    .dataframe tbody tr th:only-of-type {\n",
              "        vertical-align: middle;\n",
              "    }\n",
              "\n",
              "    .dataframe tbody tr th {\n",
              "        vertical-align: top;\n",
              "    }\n",
              "\n",
              "    .dataframe thead th {\n",
              "        text-align: right;\n",
              "    }\n",
              "</style>\n",
              "<table border=\"1\" class=\"dataframe\">\n",
              "  <thead>\n",
              "    <tr style=\"text-align: right;\">\n",
              "      <th></th>\n",
              "      <th>Unnamed: 0</th>\n",
              "      <th>NAME</th>\n",
              "      <th>USER_ID</th>\n",
              "      <th>HOURS_DATASCIENCE</th>\n",
              "      <th>HOURS_BACKEND</th>\n",
              "      <th>HOURS_FRONTEND</th>\n",
              "      <th>NUM_COURSES_BEGINNER_DATASCIENCE</th>\n",
              "      <th>NUM_COURSES_BEGINNER_BACKEND</th>\n",
              "      <th>NUM_COURSES_BEGINNER_FRONTEND</th>\n",
              "      <th>NUM_COURSES_ADVANCED_DATASCIENCE</th>\n",
              "      <th>NUM_COURSES_ADVANCED_BACKEND</th>\n",
              "      <th>NUM_COURSES_ADVANCED_FRONTEND</th>\n",
              "      <th>AVG_SCORE_DATASCIENCE</th>\n",
              "      <th>AVG_SCORE_BACKEND</th>\n",
              "      <th>AVG_SCORE_FRONTEND</th>\n",
              "      <th>PROFILE</th>\n",
              "      <th>PROFILE_encoded</th>\n",
              "    </tr>\n",
              "  </thead>\n",
              "  <tbody>\n",
              "    <tr>\n",
              "      <th>0</th>\n",
              "      <td>28</td>\n",
              "      <td>Stormy Muto</td>\n",
              "      <td>58283940</td>\n",
              "      <td>7.0</td>\n",
              "      <td>39.0</td>\n",
              "      <td>29.0</td>\n",
              "      <td>2.0</td>\n",
              "      <td>4.0</td>\n",
              "      <td>0.0</td>\n",
              "      <td>2.0</td>\n",
              "      <td>5.0</td>\n",
              "      <td>0.0</td>\n",
              "      <td>84.000000</td>\n",
              "      <td>74.0</td>\n",
              "      <td>67.130748</td>\n",
              "      <td>beginner_front_end</td>\n",
              "      <td>5</td>\n",
              "    </tr>\n",
              "    <tr>\n",
              "      <th>1</th>\n",
              "      <td>81</td>\n",
              "      <td>Carlos Ferro</td>\n",
              "      <td>1357218</td>\n",
              "      <td>32.0</td>\n",
              "      <td>0.0</td>\n",
              "      <td>44.0</td>\n",
              "      <td>2.0</td>\n",
              "      <td>0.0</td>\n",
              "      <td>0.0</td>\n",
              "      <td>0.0</td>\n",
              "      <td>5.0</td>\n",
              "      <td>0.0</td>\n",
              "      <td>67.000000</td>\n",
              "      <td>45.0</td>\n",
              "      <td>67.130748</td>\n",
              "      <td>beginner_front_end</td>\n",
              "      <td>5</td>\n",
              "    </tr>\n",
              "    <tr>\n",
              "      <th>2</th>\n",
              "      <td>89</td>\n",
              "      <td>Robby Constantini</td>\n",
              "      <td>63212105</td>\n",
              "      <td>45.0</td>\n",
              "      <td>0.0</td>\n",
              "      <td>59.0</td>\n",
              "      <td>0.0</td>\n",
              "      <td>5.0</td>\n",
              "      <td>4.0</td>\n",
              "      <td>0.0</td>\n",
              "      <td>4.0</td>\n",
              "      <td>1.0</td>\n",
              "      <td>65.070324</td>\n",
              "      <td>54.0</td>\n",
              "      <td>47.000000</td>\n",
              "      <td>advanced_front_end</td>\n",
              "      <td>2</td>\n",
              "    </tr>\n",
              "    <tr>\n",
              "      <th>3</th>\n",
              "      <td>138</td>\n",
              "      <td>Paul Mckenny</td>\n",
              "      <td>23239851</td>\n",
              "      <td>36.0</td>\n",
              "      <td>19.0</td>\n",
              "      <td>28.0</td>\n",
              "      <td>0.0</td>\n",
              "      <td>5.0</td>\n",
              "      <td>7.0</td>\n",
              "      <td>0.0</td>\n",
              "      <td>5.0</td>\n",
              "      <td>3.0</td>\n",
              "      <td>65.070324</td>\n",
              "      <td>71.0</td>\n",
              "      <td>89.000000</td>\n",
              "      <td>beginner_data_science</td>\n",
              "      <td>4</td>\n",
              "    </tr>\n",
              "    <tr>\n",
              "      <th>4</th>\n",
              "      <td>143</td>\n",
              "      <td>Jean Webb</td>\n",
              "      <td>72234478</td>\n",
              "      <td>61.0</td>\n",
              "      <td>78.0</td>\n",
              "      <td>38.0</td>\n",
              "      <td>6.0</td>\n",
              "      <td>11.0</td>\n",
              "      <td>0.0</td>\n",
              "      <td>4.0</td>\n",
              "      <td>3.0</td>\n",
              "      <td>0.0</td>\n",
              "      <td>66.000000</td>\n",
              "      <td>85.0</td>\n",
              "      <td>67.130748</td>\n",
              "      <td>advanced_front_end</td>\n",
              "      <td>2</td>\n",
              "    </tr>\n",
              "  </tbody>\n",
              "</table>\n",
              "</div>"
            ],
            "text/plain": [
              "   Unnamed: 0               NAME   USER_ID  HOURS_DATASCIENCE  HOURS_BACKEND  \\\n",
              "0          28        Stormy Muto  58283940                7.0           39.0   \n",
              "1          81       Carlos Ferro   1357218               32.0            0.0   \n",
              "2          89  Robby Constantini  63212105               45.0            0.0   \n",
              "3         138       Paul Mckenny  23239851               36.0           19.0   \n",
              "4         143          Jean Webb  72234478               61.0           78.0   \n",
              "\n",
              "   HOURS_FRONTEND  NUM_COURSES_BEGINNER_DATASCIENCE  \\\n",
              "0            29.0                               2.0   \n",
              "1            44.0                               2.0   \n",
              "2            59.0                               0.0   \n",
              "3            28.0                               0.0   \n",
              "4            38.0                               6.0   \n",
              "\n",
              "   NUM_COURSES_BEGINNER_BACKEND  NUM_COURSES_BEGINNER_FRONTEND  \\\n",
              "0                           4.0                            0.0   \n",
              "1                           0.0                            0.0   \n",
              "2                           5.0                            4.0   \n",
              "3                           5.0                            7.0   \n",
              "4                          11.0                            0.0   \n",
              "\n",
              "   NUM_COURSES_ADVANCED_DATASCIENCE  NUM_COURSES_ADVANCED_BACKEND  \\\n",
              "0                               2.0                           5.0   \n",
              "1                               0.0                           5.0   \n",
              "2                               0.0                           4.0   \n",
              "3                               0.0                           5.0   \n",
              "4                               4.0                           3.0   \n",
              "\n",
              "   NUM_COURSES_ADVANCED_FRONTEND  AVG_SCORE_DATASCIENCE  AVG_SCORE_BACKEND  \\\n",
              "0                            0.0              84.000000               74.0   \n",
              "1                            0.0              67.000000               45.0   \n",
              "2                            1.0              65.070324               54.0   \n",
              "3                            3.0              65.070324               71.0   \n",
              "4                            0.0              66.000000               85.0   \n",
              "\n",
              "   AVG_SCORE_FRONTEND                PROFILE  PROFILE_encoded  \n",
              "0           67.130748     beginner_front_end                5  \n",
              "1           67.130748     beginner_front_end                5  \n",
              "2           47.000000     advanced_front_end                2  \n",
              "3           89.000000  beginner_data_science                4  \n",
              "4           67.130748     advanced_front_end                2  "
            ]
          },
          "execution_count": 22,
          "metadata": {},
          "output_type": "execute_result"
        }
      ],
      "source": [
        "from sklearn.preprocessing import LabelEncoder\n",
        "\n",
        "le = LabelEncoder()\n",
        "df['PROFILE_encoded'] = le.fit_transform(df['PROFILE'])\n",
        "df.head()"
      ]
    },
    {
      "cell_type": "code",
      "execution_count": null,
      "metadata": {
        "id": "2IUvKBBeYNcT",
        "outputId": "cbac0c0d-4fd4-4625-ca26-4825d11b62d0"
      },
      "outputs": [
        {
          "name": "stdout",
          "output_type": "stream",
          "text": [
            "{'advanced_backend': np.int64(0), 'advanced_data_science': np.int64(1), 'advanced_front_end': np.int64(2), 'beginner_backend': np.int64(3), 'beginner_data_science': np.int64(4), 'beginner_front_end': np.int64(5)}\n"
          ]
        }
      ],
      "source": [
        "profile_mapping = dict(zip(le.classes_, le.transform(le.classes_)))\n",
        "print(profile_mapping)"
      ]
    },
    {
      "cell_type": "markdown",
      "metadata": {
        "id": "uroIDuCAYNcU"
      },
      "source": [
        "### **Hasil Encoding untuk Variabel Kategorik (Profile)**\n",
        "- Advanced Back End: 0\n",
        "- Advanced Data Science: 1\n",
        "- Advanced Front End: 2\n",
        "- Beginner Back End: 3\n",
        "- Beginner Data Science: 4\n",
        "- Beginner Front End: 5"
      ]
    },
    {
      "cell_type": "markdown",
      "metadata": {
        "id": "xbdwcvVcYNcU"
      },
      "source": [
        "## **3. Modelling**"
      ]
    },
    {
      "cell_type": "code",
      "execution_count": null,
      "metadata": {
        "id": "iD4kxPzOYNcU"
      },
      "outputs": [],
      "source": [
        "y = df['PROFILE_encoded']\n",
        "X = df.drop(['PROFILE', 'PROFILE_encoded', 'Unnamed: 0', 'NAME', 'USER_ID'], axis=1)\n",
        "\n",
        "# Splitting data\n",
        "from sklearn.model_selection import train_test_split\n",
        "X_train, X_test, y_train, y_test = train_test_split(X, y, test_size=0.8, random_state=42)"
      ]
    },
    {
      "cell_type": "markdown",
      "metadata": {
        "id": "a1PwHUGSYNcU"
      },
      "source": [
        "### **Linear Discriminant Analysis (LDA)**"
      ]
    },
    {
      "cell_type": "code",
      "execution_count": null,
      "metadata": {
        "id": "YZ1Obr3TYNcU",
        "outputId": "71b7b63e-ddfa-49f8-f17c-7f4950415e4c"
      },
      "outputs": [
        {
          "name": "stdout",
          "output_type": "stream",
          "text": [
            "Requirement already satisfied: pingouin in c:\\users\\andriansah\\appdata\\local\\programs\\python\\python313\\lib\\site-packages (0.5.5)\n",
            "Requirement already satisfied: matplotlib in c:\\users\\andriansah\\appdata\\local\\programs\\python\\python313\\lib\\site-packages (from pingouin) (3.10.0)\n",
            "Requirement already satisfied: numpy in c:\\users\\andriansah\\appdata\\local\\programs\\python\\python313\\lib\\site-packages (from pingouin) (2.2.3)\n",
            "Requirement already satisfied: pandas>=1.5 in c:\\users\\andriansah\\appdata\\local\\programs\\python\\python313\\lib\\site-packages (from pingouin) (2.2.3)\n",
            "Requirement already satisfied: pandas-flavor in c:\\users\\andriansah\\appdata\\local\\programs\\python\\python313\\lib\\site-packages (from pingouin) (0.6.0)\n",
            "Requirement already satisfied: scikit-learn>=1.2 in c:\\users\\andriansah\\appdata\\local\\programs\\python\\python313\\lib\\site-packages (from pingouin) (1.6.1)\n",
            "Requirement already satisfied: scipy in c:\\users\\andriansah\\appdata\\local\\programs\\python\\python313\\lib\\site-packages (from pingouin) (1.15.2)\n",
            "Requirement already satisfied: seaborn in c:\\users\\andriansah\\appdata\\local\\programs\\python\\python313\\lib\\site-packages (from pingouin) (0.13.2)\n",
            "Requirement already satisfied: statsmodels in c:\\users\\andriansah\\appdata\\local\\programs\\python\\python313\\lib\\site-packages (from pingouin) (0.14.4)\n",
            "Requirement already satisfied: tabulate in c:\\users\\andriansah\\appdata\\local\\programs\\python\\python313\\lib\\site-packages (from pingouin) (0.9.0)\n",
            "Requirement already satisfied: python-dateutil>=2.8.2 in c:\\users\\andriansah\\appdata\\roaming\\python\\python313\\site-packages (from pandas>=1.5->pingouin) (2.9.0.post0)\n",
            "Requirement already satisfied: pytz>=2020.1 in c:\\users\\andriansah\\appdata\\local\\programs\\python\\python313\\lib\\site-packages (from pandas>=1.5->pingouin) (2025.1)\n",
            "Requirement already satisfied: tzdata>=2022.7 in c:\\users\\andriansah\\appdata\\local\\programs\\python\\python313\\lib\\site-packages (from pandas>=1.5->pingouin) (2025.1)\n",
            "Requirement already satisfied: joblib>=1.2.0 in c:\\users\\andriansah\\appdata\\local\\programs\\python\\python313\\lib\\site-packages (from scikit-learn>=1.2->pingouin) (1.4.2)\n",
            "Requirement already satisfied: threadpoolctl>=3.1.0 in c:\\users\\andriansah\\appdata\\local\\programs\\python\\python313\\lib\\site-packages (from scikit-learn>=1.2->pingouin) (3.5.0)\n",
            "Requirement already satisfied: contourpy>=1.0.1 in c:\\users\\andriansah\\appdata\\local\\programs\\python\\python313\\lib\\site-packages (from matplotlib->pingouin) (1.3.1)\n",
            "Requirement already satisfied: cycler>=0.10 in c:\\users\\andriansah\\appdata\\local\\programs\\python\\python313\\lib\\site-packages (from matplotlib->pingouin) (0.12.1)\n",
            "Requirement already satisfied: fonttools>=4.22.0 in c:\\users\\andriansah\\appdata\\local\\programs\\python\\python313\\lib\\site-packages (from matplotlib->pingouin) (4.56.0)\n",
            "Requirement already satisfied: kiwisolver>=1.3.1 in c:\\users\\andriansah\\appdata\\local\\programs\\python\\python313\\lib\\site-packages (from matplotlib->pingouin) (1.4.8)\n",
            "Requirement already satisfied: packaging>=20.0 in c:\\users\\andriansah\\appdata\\roaming\\python\\python313\\site-packages (from matplotlib->pingouin) (24.2)\n",
            "Requirement already satisfied: pillow>=8 in c:\\users\\andriansah\\appdata\\local\\programs\\python\\python313\\lib\\site-packages (from matplotlib->pingouin) (11.1.0)\n",
            "Requirement already satisfied: pyparsing>=2.3.1 in c:\\users\\andriansah\\appdata\\local\\programs\\python\\python313\\lib\\site-packages (from matplotlib->pingouin) (3.2.1)\n",
            "Requirement already satisfied: xarray in c:\\users\\andriansah\\appdata\\local\\programs\\python\\python313\\lib\\site-packages (from pandas-flavor->pingouin) (2025.3.0)\n",
            "Requirement already satisfied: patsy>=0.5.6 in c:\\users\\andriansah\\appdata\\local\\programs\\python\\python313\\lib\\site-packages (from statsmodels->pingouin) (1.0.1)\n",
            "Requirement already satisfied: six>=1.5 in c:\\users\\andriansah\\appdata\\roaming\\python\\python313\\site-packages (from python-dateutil>=2.8.2->pandas>=1.5->pingouin) (1.17.0)\n",
            "Note: you may need to restart the kernel to use updated packages.\n"
          ]
        },
        {
          "name": "stderr",
          "output_type": "stream",
          "text": [
            "\n",
            "[notice] A new release of pip is available: 24.3.1 -> 25.0.1\n",
            "[notice] To update, run: python.exe -m pip install --upgrade pip\n"
          ]
        }
      ],
      "source": [
        "pip install pingouin"
      ]
    },
    {
      "cell_type": "markdown",
      "metadata": {
        "id": "J0U_-rPmYNcU"
      },
      "source": [
        "### **Normalitas Multivariat antar Kelas**"
      ]
    },
    {
      "cell_type": "code",
      "execution_count": null,
      "metadata": {
        "id": "-E34I4HIYNcU",
        "outputId": "3c2ed2b2-3be7-42c8-ed16-e168d43e4730"
      },
      "outputs": [
        {
          "name": "stdout",
          "output_type": "stream",
          "text": [
            "                Kategori  HZ Score        P-Value Normal\n",
            "0      Advanced Back End  1.083571  4.399745e-210  Tidak\n",
            "1  Advanced Data Science  1.029383   6.591293e-32  Tidak\n",
            "2     Advanced Front End  1.049140   2.637050e-79  Tidak\n",
            "3      Beginner Back End  1.058735  1.184045e-109  Tidak\n",
            "4  Beginner Data Science  1.022299   4.041746e-20  Tidak\n",
            "5     Beginner Front End  1.065669  1.262793e-134  Tidak\n"
          ]
        }
      ],
      "source": [
        "from pingouin import multivariate_normality\n",
        "\n",
        "norm_class_0 = multivariate_normality(X[y == 0], alpha=0.05)\n",
        "norm_class_1 = multivariate_normality(X[y == 1], alpha=0.05)\n",
        "norm_class_2 = multivariate_normality(X[y == 2], alpha=0.05)\n",
        "norm_class_3 = multivariate_normality(X[y == 3], alpha=0.05)\n",
        "norm_class_4 = multivariate_normality(X[y == 4], alpha=0.05)\n",
        "norm_class_5 = multivariate_normality(X[y == 5], alpha=0.05)\n",
        "\n",
        "# Buat dataframe untuk hasil uji normalitas\n",
        "norm_results = {\n",
        "    \"Kategori\": [\n",
        "        \"Advanced Back End\", \"Advanced Data Science\", \"Advanced Front End\",\n",
        "        \"Beginner Back End\", \"Beginner Data Science\", \"Beginner Front End\"\n",
        "    ],\n",
        "    \"HZ Score\": [\n",
        "        norm_class_0.hz, norm_class_1.hz, norm_class_2.hz,\n",
        "        norm_class_3.hz, norm_class_4.hz, norm_class_5.hz\n",
        "    ],\n",
        "    \"P-Value\": [\n",
        "        norm_class_0.pval, norm_class_1.pval, norm_class_2.pval,\n",
        "        norm_class_3.pval, norm_class_4.pval, norm_class_5.pval\n",
        "    ],\n",
        "    \"Normal\": [\n",
        "        \"Ya\" if norm_class_0.normal else \"Tidak\",\n",
        "        \"Ya\" if norm_class_1.normal else \"Tidak\",\n",
        "        \"Ya\" if norm_class_2.normal else \"Tidak\",\n",
        "        \"Ya\" if norm_class_3.normal else \"Tidak\",\n",
        "        \"Ya\" if norm_class_4.normal else \"Tidak\",\n",
        "        \"Ya\" if norm_class_5.normal else \"Tidak\"\n",
        "    ]\n",
        "}\n",
        "\n",
        "df_norm_results = pd.DataFrame(norm_results)\n",
        "\n",
        "print(df_norm_results)"
      ]
    },
    {
      "cell_type": "markdown",
      "metadata": {
        "id": "4vUOFb4EYNcU"
      },
      "source": [
        "### **Interpretasi**\n",
        "Diperoleh output di atas secara keseluruhan nilai p-value < 0.05 maka dapat disimpulkan bahwa seluruh kelas tidak berdistribusi normal multivariat sehingga asumsi normalitas multivariat tidak terpenuhi."
      ]
    },
    {
      "cell_type": "markdown",
      "metadata": {
        "id": "s-EU3cHvYNcU"
      },
      "source": [
        "### **Homogenitas Variansi antar Kelas**"
      ]
    },
    {
      "cell_type": "code",
      "execution_count": null,
      "metadata": {
        "id": "7hSHR6LYYNcU",
        "outputId": "bcd70cae-05c1-49aa-fbab-e230565641b2"
      },
      "outputs": [
        {
          "name": "stdout",
          "output_type": "stream",
          "text": [
            "     Kelas  Log Determinant\n",
            "0  Kelas 0        32.782065\n",
            "1  Kelas 1        32.587324\n",
            "2  Kelas 2        31.178172\n",
            "3  Kelas 3        33.964697\n",
            "4  Kelas 4        33.132664\n",
            "5  Kelas 5        32.621776\n"
          ]
        }
      ],
      "source": [
        "def log_determinant_per_class(data, labels):\n",
        "    unique_classes = np.unique(labels)\n",
        "    log_det_results = {}\n",
        "\n",
        "    for cls in unique_classes:\n",
        "        cov_matrix = np.cov(data[labels == cls].T)\n",
        "        log_det = np.log(np.linalg.det(cov_matrix)) if np.linalg.det(cov_matrix) > 0 else np.nan\n",
        "        log_det_results[f\"Kelas {cls}\"] = log_det\n",
        "\n",
        "    return log_det_results\n",
        "\n",
        "log_determinants = log_determinant_per_class(X.values, y.values)\n",
        "log_det_df = pd.DataFrame(log_determinants.items(), columns=[\"Kelas\", \"Log Determinant\"])\n",
        "print(log_det_df)"
      ]
    },
    {
      "cell_type": "markdown",
      "metadata": {
        "id": "wmj79hejYNcV"
      },
      "source": [
        "### **Interpretasi**\n",
        "Diperoleh output di atas secara keseluruhan log determinant dari 6 kelas di atas menunjukkan bahwa variansi antar kelas masih relatif homogen atau terdapat perbedaan tetapi tidak terlalu besar sehingga asumsi homogenitas variansi ini tidak terpenuhi."
      ]
    },
    {
      "cell_type": "markdown",
      "metadata": {
        "id": "JGmGJbRkYNcV"
      },
      "source": [
        "### **Model LDA**"
      ]
    },
    {
      "cell_type": "code",
      "execution_count": null,
      "metadata": {
        "id": "wVFYwRHiYNcV",
        "outputId": "8d00e0e4-8da4-472a-83e2-bcf123f92fef"
      },
      "outputs": [
        {
          "name": "stdout",
          "output_type": "stream",
          "text": [
            "{'Mean': [array([[33.19847328, 49.25648855, 29.62290076,  4.96030534,  2.97099237,\n",
            "         5.02290076,  4.96793893,  3.08854962,  5.06621043, 71.9025048 ,\n",
            "        71.28199024, 70.81321182],\n",
            "       [49.92211838, 50.19314642, 31.35514019,  4.97928132,  3.05874633,\n",
            "         4.98761417,  3.14485981,  4.97975078,  2.98032372, 58.58654609,\n",
            "        58.26827809, 71.2856577 ],\n",
            "       [32.74202899, 52.20144928, 48.59275362,  3.12275161,  5.17101449,\n",
            "         3.20296854,  3.20289855,  4.88115942,  2.88908887, 59.49150818,\n",
            "        70.79019498, 57.66654382],\n",
            "       [32.33627019, 51.04552129, 29.95154185,  3.10822116,  3.03041871,\n",
            "         3.02062892,  3.07048458,  5.02987421,  3.07396157, 70.59646916,\n",
            "        71.41581891, 71.01137403],\n",
            "       [31.07994186, 30.86773256, 49.99709302,  2.96860061,  3.05668605,\n",
            "         5.06845434,  3.03488372,  3.08044235,  3.02379045, 58.95119468,\n",
            "        71.70878161, 71.69350399],\n",
            "       [48.73757764, 30.68478261, 29.62732919,  3.11490683,  5.04192547,\n",
            "         3.09036208,  3.13043478,  5.02329193,  3.10771402, 72.26040875,\n",
            "        60.36490683, 59.39758694]])], 'Covariance': [array([[ 4.33191408e+02,  2.71344376e+01, -1.95660863e+00,\n",
            "         4.70007747e+00,  4.29107703e+00,  4.59159518e-01,\n",
            "         4.48712769e+00, -4.67029817e-03, -3.44686410e+00,\n",
            "        -9.29570584e+01, -2.45371508e+01,  1.59918542e+01],\n",
            "       [ 2.71344376e+01,  4.16194380e+02, -2.26187299e+00,\n",
            "         8.56328135e+00, -6.96486575e-01, -3.61387066e+00,\n",
            "         3.49342210e+00, -8.03041889e-01,  8.86172669e-01,\n",
            "         2.11002888e+00, -1.51024605e+01, -9.35002656e+00],\n",
            "       [-1.95660863e+00, -2.26187299e+00,  3.34742351e+02,\n",
            "        -6.14262123e-01, -5.18968724e+00, -1.60623524e+00,\n",
            "         4.49294187e+00,  3.04105202e-01,  2.14692980e-01,\n",
            "        -7.65535022e+00, -4.45227545e+00,  2.36255205e+01],\n",
            "       [ 4.70007747e+00,  8.56328135e+00, -6.14262123e-01,\n",
            "         3.15069603e+00,  1.76069341e-01,  5.34642973e-01,\n",
            "        -6.60702510e-02, -3.73634757e-01,  1.61352415e-01,\n",
            "         2.62129917e-01,  1.38766977e+00,  1.58237241e+00],\n",
            "       [ 4.29107703e+00, -6.96486575e-01, -5.18968724e+00,\n",
            "         1.76069341e-01,  3.50902588e+00,  2.39923770e-01,\n",
            "         9.79819890e-02, -1.86277003e-01, -5.21861644e-01,\n",
            "         1.72830801e+00,  2.40901733e+00,  1.09079934e-01],\n",
            "       [ 4.59159518e-01, -3.61387066e+00, -1.60623524e+00,\n",
            "         5.34642973e-01,  2.39923770e-01,  4.59766778e+00,\n",
            "        -5.97013650e-01, -1.45202787e-01,  3.70590664e-01,\n",
            "        -2.85819743e-01,  1.77117096e+00, -1.08848636e+00],\n",
            "       [ 4.48712769e+00,  3.49342210e+00,  4.49294187e+00,\n",
            "        -6.60702510e-02,  9.79819890e-02, -5.97013650e-01,\n",
            "         3.95606799e+00, -1.06571259e-01,  4.95240559e-02,\n",
            "         9.11236373e-01,  2.03754464e+00,  2.36020763e+00],\n",
            "       [-4.67029817e-03, -8.03041889e-01,  3.04105202e-01,\n",
            "        -3.73634757e-01, -1.86277003e-01, -1.45202787e-01,\n",
            "        -1.06571259e-01,  3.84267098e+00, -2.44248691e-01,\n",
            "        -4.59518919e-01, -3.83665925e+00, -1.40003216e+00],\n",
            "       [-3.44686410e+00,  8.86172669e-01,  2.14692980e-01,\n",
            "         1.61352415e-01, -5.21861644e-01,  3.70590664e-01,\n",
            "         4.95240559e-02, -2.44248691e-01,  3.45238799e+00,\n",
            "         1.88729264e-01,  4.13817968e+00,  2.34840078e+00],\n",
            "       [-9.29570584e+01,  2.11002888e+00, -7.65535022e+00,\n",
            "         2.62129917e-01,  1.72830801e+00, -2.85819743e-01,\n",
            "         9.11236373e-01, -4.59518919e-01,  1.88729264e-01,\n",
            "         1.59279175e+02,  1.23867482e+01,  1.23582897e+01],\n",
            "       [-2.45371508e+01, -1.51024605e+01, -4.45227545e+00,\n",
            "         1.38766977e+00,  2.40901733e+00,  1.77117096e+00,\n",
            "         2.03754464e+00, -3.83665925e+00,  4.13817968e+00,\n",
            "         1.23867482e+01,  1.67278335e+02,  3.83884933e+01],\n",
            "       [ 1.59918542e+01, -9.35002656e+00,  2.36255205e+01,\n",
            "         1.58237241e+00,  1.09079934e-01, -1.08848636e+00,\n",
            "         2.36020763e+00, -1.40003216e+00,  2.34840078e+00,\n",
            "         1.23582897e+01,  3.83884933e+01,  1.73340464e+02]])], 'Prior Probability': [array([0.16375, 0.1605 , 0.1725 , 0.17025, 0.172  , 0.161  ])]}\n"
          ]
        }
      ],
      "source": [
        "from sklearn.discriminant_analysis import LinearDiscriminantAnalysis\n",
        "\n",
        "lda = LinearDiscriminantAnalysis(store_covariance=True)\n",
        "lda.fit(X_train, y_train)\n",
        "\n",
        "lda_means = lda.means_\n",
        "lda_covariance = lda.covariance_\n",
        "lda_priors = lda.priors_\n",
        "\n",
        "lda_summary = {\n",
        "    \"Mean\": [lda_means],\n",
        "    \"Covariance\": [lda_covariance],\n",
        "    \"Prior Probability\": [lda_priors],\n",
        "}\n",
        "print(lda_summary)"
      ]
    },
    {
      "cell_type": "markdown",
      "metadata": {
        "id": "Atrb5yfgYNcV"
      },
      "source": [
        "### **Quadratic Discriminant Analysis (QDA)**"
      ]
    },
    {
      "cell_type": "code",
      "execution_count": null,
      "metadata": {
        "id": "nANXrcfiYNcV",
        "outputId": "525f0c7d-8948-4b4d-e15c-060597b5af85"
      },
      "outputs": [
        {
          "name": "stdout",
          "output_type": "stream",
          "text": [
            "{'Mean': [array([[33.19847328, 49.25648855, 29.62290076,  4.96030534,  2.97099237,\n",
            "         5.02290076,  4.96793893,  3.08854962,  5.06621043, 71.9025048 ,\n",
            "        71.28199024, 70.81321182],\n",
            "       [49.92211838, 50.19314642, 31.35514019,  4.97928132,  3.05874633,\n",
            "         4.98761417,  3.14485981,  4.97975078,  2.98032372, 58.58654609,\n",
            "        58.26827809, 71.2856577 ],\n",
            "       [32.74202899, 52.20144928, 48.59275362,  3.12275161,  5.17101449,\n",
            "         3.20296854,  3.20289855,  4.88115942,  2.88908887, 59.49150818,\n",
            "        70.79019498, 57.66654382],\n",
            "       [32.33627019, 51.04552129, 29.95154185,  3.10822116,  3.03041871,\n",
            "         3.02062892,  3.07048458,  5.02987421,  3.07396157, 70.59646916,\n",
            "        71.41581891, 71.01137403],\n",
            "       [31.07994186, 30.86773256, 49.99709302,  2.96860061,  3.05668605,\n",
            "         5.06845434,  3.03488372,  3.08044235,  3.02379045, 58.95119468,\n",
            "        71.70878161, 71.69350399],\n",
            "       [48.73757764, 30.68478261, 29.62732919,  3.11490683,  5.04192547,\n",
            "         3.09036208,  3.13043478,  5.02329193,  3.10771402, 72.26040875,\n",
            "        60.36490683, 59.39758694]])], 'Covariance': [[array([[ 4.76682261e+02, -3.11962439e+01, -9.31972127e+01,\n",
            "        -9.12513715e+00,  4.46133016e-01, -1.37002708e+01,\n",
            "        -8.62206737e+00,  1.34028877e+01,  2.24856990e+00,\n",
            "        -9.17931318e+01, -6.23502143e+01, -5.88176702e+01],\n",
            "       [-3.11962439e+01,  3.36301086e+02,  1.82791059e+02,\n",
            "        -9.31702033e+00, -6.10416929e+00,  5.93754231e+00,\n",
            "         2.56481079e+00, -6.91877116e+00, -7.71963426e+00,\n",
            "        -6.48356439e+01, -1.03695369e+02, -5.54266015e+01],\n",
            "       [-9.31972127e+01,  1.82791059e+02,  2.86947793e+02,\n",
            "        -6.35749936e+00, -1.51806803e+01,  6.33586619e+00,\n",
            "        -1.69865303e+00,  7.26127180e+00,  6.03565606e+00,\n",
            "         1.60467989e+01, -1.95358547e+01,  4.86353362e+01],\n",
            "       [-9.12513715e+00, -9.31702033e+00, -6.35749936e+00,\n",
            "         3.98924761e+00,  1.38722600e+00,  2.48103275e+00,\n",
            "        -1.53491374e+00,  3.75079954e-01, -2.28254631e-01,\n",
            "         3.91760475e+00, -7.87050459e+00,  2.51118201e+00],\n",
            "       [ 4.46133016e-01, -6.10416929e+00, -1.51806803e+01,\n",
            "         1.38722600e+00,  2.68264351e+00,  2.88127086e-01,\n",
            "        -8.18974251e-01, -5.40240913e-01, -7.09085630e-01,\n",
            "        -5.69069077e+00, -1.56078441e+00, -4.56565936e+00],\n",
            "       [-1.37002708e+01,  5.93754231e+00,  6.33586619e+00,\n",
            "         2.48103275e+00,  2.88127086e-01,  4.96430656e+00,\n",
            "        -2.00079371e+00,  6.09589841e-01,  2.48069522e+00,\n",
            "         4.52527944e+00, -4.05126338e+00, -7.08460080e+00],\n",
            "       [-8.62206737e+00,  2.56481079e+00, -1.69865303e+00,\n",
            "        -1.53491374e+00, -8.18974251e-01, -2.00079371e+00,\n",
            "         4.12588183e+00, -9.87982352e-01, -4.39611758e-01,\n",
            "        -7.54110162e-01, -9.97609266e-01, -3.92515795e+00],\n",
            "       [ 1.34028877e+01, -6.91877116e+00,  7.26127180e+00,\n",
            "         3.75079954e-01, -5.40240913e-01,  6.09589841e-01,\n",
            "        -9.87982352e-01,  4.05942526e+00,  1.60864878e+00,\n",
            "        -9.14251473e+00, -1.12762423e+00, -3.43896257e+00],\n",
            "       [ 2.24856990e+00, -7.71963426e+00,  6.03565606e+00,\n",
            "        -2.28254631e-01, -7.09085630e-01,  2.48069522e+00,\n",
            "        -4.39611758e-01,  1.60864878e+00,  5.86971342e+00,\n",
            "         7.60447768e+00,  8.61007570e+00, -6.44777940e+00],\n",
            "       [-9.17931318e+01, -6.48356439e+01,  1.60467989e+01,\n",
            "         3.91760475e+00, -5.69069077e+00,  4.52527944e+00,\n",
            "        -7.54110162e-01, -9.14251473e+00,  7.60447768e+00,\n",
            "         1.37207668e+02,  4.70542829e+01,  5.60845624e+01],\n",
            "       [-6.23502143e+01, -1.03695369e+02, -1.95358547e+01,\n",
            "        -7.87050459e+00, -1.56078441e+00, -4.05126338e+00,\n",
            "        -9.97609266e-01, -1.12762423e+00,  8.61007570e+00,\n",
            "         4.70542829e+01,  1.35826379e+02,  1.56982640e+01],\n",
            "       [-5.88176702e+01, -5.54266015e+01,  4.86353362e+01,\n",
            "         2.51118201e+00, -4.56565936e+00, -7.08460080e+00,\n",
            "        -3.92515795e+00, -3.43896257e+00, -6.44777940e+00,\n",
            "         5.60845624e+01,  1.56982640e+01,  1.70065753e+02]]), array([[ 2.88711554e+02, -8.62657452e+01,  4.83475148e+01,\n",
            "         8.78170641e+00, -2.60870216e+00,  3.64957989e+00,\n",
            "         9.65560529e+00, -3.42123629e+00,  5.03640855e+00,\n",
            "        -5.32226156e+01, -2.63391382e+01,  2.10269019e+01],\n",
            "       [-8.62657452e+01,  3.98137363e+02, -7.75133189e+01,\n",
            "         6.29700073e+00, -4.72549411e+00,  4.77105472e+00,\n",
            "         1.53760334e+01,  1.32270061e+01,  5.09733810e+00,\n",
            "         5.41320716e+01, -3.76579136e+01,  6.42301598e+01],\n",
            "       [ 4.83475148e+01, -7.75133189e+01,  3.63009404e+02,\n",
            "        -1.99552107e+01,  6.75423777e+00, -1.00070423e+01,\n",
            "         3.44613411e+00, -1.68789129e+01,  5.18294538e+00,\n",
            "         1.25088453e-01, -7.16563920e+01,  2.59864404e+01],\n",
            "       [ 8.78170641e+00,  6.29700073e+00, -1.99552107e+01,\n",
            "         3.67771924e+00, -1.00143089e+00,  1.70964672e+00,\n",
            "         2.43875278e-01, -5.27721284e-01, -5.78583732e-01,\n",
            "        -2.34126744e-01,  6.05663978e+00,  7.49450119e+00],\n",
            "       [-2.60870216e+00, -4.72549411e+00,  6.75423777e+00,\n",
            "        -1.00143089e+00,  2.06442403e+00, -1.85188727e+00,\n",
            "         5.95220891e-01,  3.79170918e-01, -1.23454116e+00,\n",
            "         3.20708797e-01, -6.20779034e-03, -7.66780428e+00],\n",
            "       [ 3.64957989e+00,  4.77105472e+00, -1.00070423e+01,\n",
            "         1.70964672e+00, -1.85188727e+00,  3.71576795e+00,\n",
            "        -1.25732403e+00, -7.38236053e-01,  1.17661680e+00,\n",
            "        -4.38174243e+00,  9.04953894e+00,  7.83506416e+00],\n",
            "       [ 9.65560529e+00,  1.53760334e+01,  3.44613411e+00,\n",
            "         2.43875278e-01,  5.95220891e-01, -1.25732403e+00,\n",
            "         4.22079257e+00,  8.89053319e-01,  6.07172737e-01,\n",
            "        -5.41326116e+00, -4.07278232e+00,  1.95008239e+00],\n",
            "       [-3.42123629e+00,  1.32270061e+01, -1.68789129e+01,\n",
            "        -5.27721284e-01,  3.79170918e-01, -7.38236053e-01,\n",
            "         8.89053319e-01,  5.23671881e+00, -7.11756975e-02,\n",
            "        -1.08181782e+00,  2.67261997e-01, -1.82508010e+01],\n",
            "       [ 5.03640855e+00,  5.09733810e+00,  5.18294538e+00,\n",
            "        -5.78583732e-01, -1.23454116e+00,  1.17661680e+00,\n",
            "         6.07172737e-01, -7.11756975e-02,  3.09966731e+00,\n",
            "        -6.85877175e+00,  1.43974858e+00,  1.10228198e+01],\n",
            "       [-5.32226156e+01,  5.41320716e+01,  1.25088453e-01,\n",
            "        -2.34126744e-01,  3.20708797e-01, -4.38174243e+00,\n",
            "        -5.41326116e+00, -1.08181782e+00, -6.85877175e+00,\n",
            "         9.67847808e+01, -3.42612937e+01,  1.81482493e+01],\n",
            "       [-2.63391382e+01, -3.76579136e+01, -7.16563920e+01,\n",
            "         6.05663978e+00, -6.20779034e-03,  9.04953894e+00,\n",
            "        -4.07278232e+00,  2.67261997e-01,  1.43974858e+00,\n",
            "        -3.42612937e+01,  1.83185756e+02,  5.23942744e+01],\n",
            "       [ 2.10269019e+01,  6.42301598e+01,  2.59864404e+01,\n",
            "         7.49450119e+00, -7.66780428e+00,  7.83506416e+00,\n",
            "         1.95008239e+00, -1.82508010e+01,  1.10228198e+01,\n",
            "         1.81482493e+01,  5.23942744e+01,  2.08055423e+02]]), array([[ 4.69631468e+02, -1.35766534e+02, -1.22019579e+02,\n",
            "         7.29981804e+00,  1.17858354e+01, -1.86593633e+00,\n",
            "        -1.35251677e+00, -1.62106729e+01, -1.44310527e+01,\n",
            "        -3.09244542e+01, -5.76061220e+00, -3.86746516e+01],\n",
            "       [-1.35766534e+02,  6.00912915e+02,  2.81329568e+01,\n",
            "         1.67451038e+01,  1.10395196e+01, -5.88152640e+00,\n",
            "         2.85062367e+01, -2.01230938e+00, -3.98818715e-02,\n",
            "         1.31332263e+02,  8.58659347e+00,  7.98566951e+01],\n",
            "       [-1.22019579e+02,  2.81329568e+01,  2.50404302e+02,\n",
            "         3.09263052e+00, -1.82350434e+01, -1.53850263e+00,\n",
            "        -7.97965966e+00,  7.36952946e+00,  6.25904120e-01,\n",
            "         5.58038779e+01, -6.29683263e+01,  1.44756234e-01],\n",
            "       [ 7.29981804e+00,  1.67451038e+01,  3.09263052e+00,\n",
            "         2.31363014e+00,  2.34996411e-01,  8.08595916e-02,\n",
            "         1.32310116e-02, -5.28345708e-01,  2.33676244e-02,\n",
            "         3.21551262e+00,  3.70947479e+00, -5.11936258e+00],\n",
            "       [ 1.17858354e+01,  1.10395196e+01, -1.82350434e+01,\n",
            "         2.34996411e-01,  4.20002945e+00, -2.30767173e-01,\n",
            "         1.51532362e+00, -1.60664269e+00, -1.49983136e+00,\n",
            "         5.19293427e+00,  4.97386288e+00, -4.15554130e+00],\n",
            "       [-1.86593633e+00, -5.88152640e+00, -1.53850263e+00,\n",
            "         8.08595916e-02, -2.30767173e-01,  3.42768291e+00,\n",
            "         4.05782880e-01,  1.76480590e-01,  4.20128672e-01,\n",
            "         8.48728652e+00, -5.38169760e+00, -1.58451688e+01],\n",
            "       [-1.35251677e+00,  2.85062367e+01, -7.97965966e+00,\n",
            "         1.32310116e-02,  1.51532362e+00,  4.05782880e-01,\n",
            "         3.53787257e+00,  6.73103216e-03, -9.41910431e-02,\n",
            "         1.52725209e+01, -2.90836260e+00,  1.30483855e+01],\n",
            "       [-1.62106729e+01, -2.01230938e+00,  7.36952946e+00,\n",
            "        -5.28345708e-01, -1.60664269e+00,  1.76480590e-01,\n",
            "         6.73103216e-03,  1.73621926e+00,  1.04050114e+00,\n",
            "        -2.49157667e+00, -1.19076712e+00,  4.40399000e+00],\n",
            "       [-1.44310527e+01, -3.98818715e-02,  6.25904120e-01,\n",
            "         2.33676244e-02, -1.49983136e+00,  4.20128672e-01,\n",
            "        -9.41910431e-02,  1.04050114e+00,  2.24100626e+00,\n",
            "        -5.86688321e+00,  5.79783325e+00,  5.05840575e+00],\n",
            "       [-3.09244542e+01,  1.31332263e+02,  5.58038779e+01,\n",
            "         3.21551262e+00,  5.19293427e+00,  8.48728652e+00,\n",
            "         1.52725209e+01, -2.49157667e+00, -5.86688321e+00,\n",
            "         2.23927442e+02, -5.82406800e+01,  5.13095278e+01],\n",
            "       [-5.76061220e+00,  8.58659347e+00, -6.29683263e+01,\n",
            "         3.70947479e+00,  4.97386288e+00, -5.38169760e+00,\n",
            "        -2.90836260e+00, -1.19076712e+00,  5.79783325e+00,\n",
            "        -5.82406800e+01,  1.17287092e+02,  8.25063717e+00],\n",
            "       [-3.86746516e+01,  7.98566951e+01,  1.44756234e-01,\n",
            "        -5.11936258e+00, -4.15554130e+00, -1.58451688e+01,\n",
            "         1.30483855e+01,  4.40399000e+00,  5.05840575e+00,\n",
            "         5.13095278e+01,  8.25063717e+00,  2.46393136e+02]]), array([[ 4.90732344e+02,  3.52153788e+02,  3.47824955e+01,\n",
            "         1.96307383e+01, -2.40892545e+01, -1.17788137e+01,\n",
            "         1.14159692e+01,  5.42463006e+00, -5.40462380e+00,\n",
            "        -1.74158643e+02, -1.37674095e+01,  3.16002883e+01],\n",
            "       [ 3.52153788e+02,  4.69737631e+02, -1.50112497e+02,\n",
            "         1.92100336e+01, -2.08215826e+01, -7.45556526e+00,\n",
            "        -4.79586033e+00, -4.53325702e+00, -1.14184361e+00,\n",
            "        -1.44968590e+02,  1.23211230e+00, -1.15485892e+01],\n",
            "       [ 3.47824955e+01, -1.50112497e+02,  3.83007942e+02,\n",
            "         1.71598925e+00,  4.53341024e+00, -6.14221412e+00,\n",
            "         1.50725382e+01,  7.05935765e+00, -3.26559618e+00,\n",
            "        -7.88248749e+00,  8.58137931e+01,  1.09731601e+02],\n",
            "       [ 1.96307383e+01,  1.92100336e+01,  1.71598925e+00,\n",
            "         2.94634162e+00, -2.84977153e-01, -1.34502375e+00,\n",
            "         7.02514059e-01,  1.81233051e-01, -3.85016218e-01,\n",
            "        -7.55043849e+00,  1.22158836e+00,  5.59544721e+00],\n",
            "       [-2.40892545e+01, -2.08215826e+01,  4.53341024e+00,\n",
            "        -2.84977153e-01,  4.14688427e+00,  1.22430055e+00,\n",
            "        -9.50257709e-01,  6.69940582e-01, -3.28152613e-01,\n",
            "         1.39568979e+01, -1.20594646e-01, -2.37407878e+00],\n",
            "       [-1.17788137e+01, -7.45556526e+00, -6.14221412e+00,\n",
            "        -1.34502375e+00,  1.22430055e+00,  3.76442518e+00,\n",
            "        -3.63291886e-01, -8.96947328e-01,  1.66484324e-01,\n",
            "         4.29025659e+00,  1.94752486e+00, -1.11635384e+01],\n",
            "       [ 1.14159692e+01, -4.79586033e+00,  1.50725382e+01,\n",
            "         7.02514059e-01, -9.50257709e-01, -3.63291886e-01,\n",
            "         4.23325991e+00, -1.19673279e+00,  5.56155155e-01,\n",
            "        -2.38215501e+00,  1.05796346e+01,  8.40693462e+00],\n",
            "       [ 5.42463006e+00, -4.53325702e+00,  7.05935765e+00,\n",
            "         1.81233051e-01,  6.69940582e-01, -8.96947328e-01,\n",
            "        -1.19673279e+00,  5.09826783e+00, -3.51796598e+00,\n",
            "        -1.21243909e+00, -1.26374061e+01,  3.07150579e+00],\n",
            "       [-5.40462380e+00, -1.14184361e+00, -3.26559618e+00,\n",
            "        -3.85016218e-01, -3.28152613e-01,  1.66484324e-01,\n",
            "         5.56155155e-01, -3.51796598e+00,  4.36825002e+00,\n",
            "        -4.52984555e+00,  9.31241299e+00,  2.92296325e+00],\n",
            "       [-1.74158643e+02, -1.44968590e+02, -7.88248749e+00,\n",
            "        -7.55043849e+00,  1.39568979e+01,  4.29025659e+00,\n",
            "        -2.38215501e+00, -1.21243909e+00, -4.52984555e+00,\n",
            "         1.56192421e+02,  1.90456080e+01, -2.47830904e+01],\n",
            "       [-1.37674095e+01,  1.23211230e+00,  8.58137931e+01,\n",
            "         1.22158836e+00, -1.20594646e-01,  1.94752486e+00,\n",
            "         1.05796346e+01, -1.26374061e+01,  9.31241299e+00,\n",
            "         1.90456080e+01,  1.62857566e+02,  7.05486829e+01],\n",
            "       [ 3.16002883e+01, -1.15485892e+01,  1.09731601e+02,\n",
            "         5.59544721e+00, -2.37407878e+00, -1.11635384e+01,\n",
            "         8.40693462e+00,  3.07150579e+00,  2.92296325e+00,\n",
            "        -2.47830904e+01,  7.05486829e+01,  1.33137214e+02]]), array([[ 3.44190107e+02,  2.19844650e+02,  9.68299271e+01,\n",
            "         2.34669557e+00,  1.56140935e+01, -1.33255436e+01,\n",
            "         5.67697437e+00,  8.09070097e+00, -6.02700665e-01,\n",
            "         1.41926342e+01,  4.21645644e+01,  2.97542887e+01],\n",
            "       [ 2.19844650e+02,  3.19660791e+02,  8.32237780e+01,\n",
            "         1.24171089e+01,  1.59958638e+01, -1.06366308e+00,\n",
            "        -7.36510274e+00, -2.36890022e+00,  2.66668894e+00,\n",
            "        -6.00419909e+01,  1.65423239e+01,  4.05073361e+01],\n",
            "       [ 9.68299271e+01,  8.32237780e+01,  4.02139730e+02,\n",
            "         1.40768172e+01, -6.57334298e+00, -1.59467134e+00,\n",
            "         6.71916997e+00, -1.12076082e+01,  7.68778854e-01,\n",
            "        -3.94582725e+01,  9.08447079e+01, -9.27703464e+01],\n",
            "       [ 2.34669557e+00,  1.24171089e+01,  1.40768172e+01,\n",
            "         3.25079737e+00,  3.40499541e-01, -2.86863059e-01,\n",
            "        -4.16222740e-01, -1.86034447e+00,  8.05836630e-01,\n",
            "        -1.30761087e+00,  8.76532581e-01, -9.81382871e-01],\n",
            "       [ 1.56140935e+01,  1.59958638e+01, -6.57334298e+00,\n",
            "         3.40499541e-01,  3.30537008e+00, -3.51775429e-01,\n",
            "        -9.99069090e-01,  5.30141319e-01,  5.97848215e-02,\n",
            "         4.55380785e+00,  2.78990999e-01,  1.09775271e+01],\n",
            "       [-1.33255436e+01, -1.06366308e+00, -1.59467134e+00,\n",
            "        -2.86863059e-01, -3.51775429e-01,  6.11293671e+00,\n",
            "        -1.34861430e+00, -5.39360715e-01, -1.49660661e+00,\n",
            "        -5.77884529e-01,  1.50136998e+01,  3.57257396e+00],\n",
            "       [ 5.67697437e+00, -7.36510274e+00,  6.71916997e+00,\n",
            "        -4.16222740e-01, -9.99069090e-01, -1.34861430e+00,\n",
            "         4.39179446e+00,  8.45806963e-01, -1.19374039e+00,\n",
            "         2.70031510e+00,  2.97908441e+00, -1.62916777e+01],\n",
            "       [ 8.09070097e+00, -2.36890022e+00, -1.12076082e+01,\n",
            "        -1.86034447e+00,  5.30141319e-01, -5.39360715e-01,\n",
            "         8.45806963e-01,  3.01216189e+00, -1.05826614e+00,\n",
            "         3.63942300e+00, -4.54348406e-01,  1.67112162e+00],\n",
            "       [-6.02700665e-01,  2.66668894e+00,  7.68778854e-01,\n",
            "         8.05836630e-01,  5.97848215e-02, -1.49660661e+00,\n",
            "        -1.19374039e+00, -1.05826614e+00,  1.85115852e+00,\n",
            "         2.75788525e+00, -3.33637302e+00,  5.06162790e+00],\n",
            "       [ 1.41926342e+01, -6.00419909e+01, -3.94582725e+01,\n",
            "        -1.30761087e+00,  4.55380785e+00, -5.77884529e-01,\n",
            "         2.70031510e+00,  3.63942300e+00,  2.75788525e+00,\n",
            "         1.89646949e+02,  6.08638702e+01,  2.70295132e+01],\n",
            "       [ 4.21645644e+01,  1.65423239e+01,  9.08447079e+01,\n",
            "         8.76532581e-01,  2.78990999e-01,  1.50136998e+01,\n",
            "         2.97908441e+00, -4.54348406e-01, -3.33637302e+00,\n",
            "         6.08638702e+01,  2.11915021e+02,  4.54628193e+01],\n",
            "       [ 2.97542887e+01,  4.05073361e+01, -9.27703464e+01,\n",
            "        -9.81382871e-01,  1.09775271e+01,  3.57257396e+00,\n",
            "        -1.62916777e+01,  1.67112162e+00,  5.06162790e+00,\n",
            "         2.70295132e+01,  4.54628193e+01,  1.38694438e+02]]), array([[ 5.32221852e+02, -1.75300578e+02,  2.49315997e+01,\n",
            "        -1.32438685e+00,  2.50047985e+01,  4.18461996e+01,\n",
            "         1.03686524e+01, -7.26137428e+00, -6.92716044e+00,\n",
            "        -2.29697267e+02, -8.72851178e+01,  1.14577561e+02],\n",
            "       [-1.75300578e+02,  3.67920701e+02, -8.30305633e+01,\n",
            "         4.94451958e+00, -3.13357901e-01, -1.79533263e+01,\n",
            "        -1.38095206e+01, -1.66294205e+00,  6.68406645e+00,\n",
            "         1.01840635e+02,  2.08819224e+01, -1.82456304e+02],\n",
            "       [ 2.49315997e+01, -8.30305633e+01,  3.25618288e+02,\n",
            "         2.36948311e+00, -1.80861258e+00,  3.38754242e+00,\n",
            "         1.16738792e+01,  7.94493011e+00, -8.00872276e+00,\n",
            "        -7.33703518e+01, -5.67331607e+01,  5.45151878e+01],\n",
            "       [-1.32438685e+00,  4.94451958e+00,  2.36948311e+00,\n",
            "         2.80792674e+00,  3.68425374e-01,  7.40391502e-01,\n",
            "         5.94631145e-01,  1.82389421e-01,  1.33384344e+00,\n",
            "         3.81589432e+00,  4.39657371e+00,  4.35067015e-01],\n",
            "       [ 2.50047985e+01, -3.13357901e-01, -1.80861258e+00,\n",
            "         3.68425374e-01,  4.62498913e+00,  2.37397144e+00,\n",
            "         1.29778890e+00, -5.40635897e-01,  5.95788058e-01,\n",
            "        -8.97001369e+00,  1.10795451e+01,  8.20109476e+00],\n",
            "       [ 4.18461996e+01, -1.79533263e+01,  3.38754242e+00,\n",
            "         7.40391502e-01,  2.37397144e+00,  5.66273286e+00,\n",
            "         9.64792055e-01,  5.48361236e-01, -4.17935676e-01,\n",
            "        -1.50267854e+01, -6.21661490e+00,  1.75914098e+01],\n",
            "       [ 1.03686524e+01, -1.38095206e+01,  1.16738792e+01,\n",
            "         5.94631145e-01,  1.29778890e+00,  9.64792055e-01,\n",
            "         3.24579079e+00, -1.89667996e-01,  9.38128089e-01,\n",
            "        -4.89888653e+00,  6.49509771e+00,  1.12647130e+01],\n",
            "       [-7.26137428e+00, -1.66294205e+00,  7.94493011e+00,\n",
            "         1.82389421e-01, -5.40635897e-01,  5.48361236e-01,\n",
            "        -1.89667996e-01,  4.08499319e+00,  6.51497617e-01,\n",
            "         7.58234135e+00, -7.86076766e+00,  3.22967765e+00],\n",
            "       [-6.92716044e+00,  6.68406645e+00, -8.00872276e+00,\n",
            "         1.33384344e+00,  5.95788058e-01, -4.17935676e-01,\n",
            "         9.38128089e-01,  6.51497617e-01,  3.41782801e+00,\n",
            "         8.40742097e+00,  3.05410684e+00, -3.74085784e+00],\n",
            "       [-2.29697267e+02,  1.01840635e+02, -7.33703518e+01,\n",
            "         3.81589432e+00, -8.97001369e+00, -1.50267854e+01,\n",
            "        -4.89888653e+00,  7.58234135e+00,  8.40742097e+00,\n",
            "         1.47059927e+02,  4.05883628e+01, -5.59070164e+01],\n",
            "       [-8.72851178e+01,  2.08819224e+01, -5.67331607e+01,\n",
            "         4.39657371e+00,  1.10795451e+01, -6.21661490e+00,\n",
            "         6.49509771e+00, -7.86076766e+00,  3.05410684e+00,\n",
            "         4.05883628e+01,  1.95522935e+02,  3.85876027e+01],\n",
            "       [ 1.14577561e+02, -1.82456304e+02,  5.45151878e+01,\n",
            "         4.35067015e-01,  8.20109476e+00,  1.75914098e+01,\n",
            "         1.12647130e+01,  3.22967765e+00, -3.74085784e+00,\n",
            "        -5.59070164e+01,  3.85876027e+01,  1.44936348e+02]])]], 'Prior Probability': [array([0.16375, 0.1605 , 0.1725 , 0.17025, 0.172  , 0.161  ])]}\n"
          ]
        }
      ],
      "source": [
        "from sklearn.discriminant_analysis import QuadraticDiscriminantAnalysis\n",
        "\n",
        "qda = QuadraticDiscriminantAnalysis(store_covariance=True)\n",
        "qda.fit(X_train, y_train)\n",
        "\n",
        "qda_means = qda.means_  # Mean tiap kelas\n",
        "qda_covariance = qda.covariance_  # Kovarians dalam kelas\n",
        "qda_priors = qda.priors_  # Probabilitas prior dari setiap kelas\n",
        "\n",
        "qda_summary = {\n",
        "    \"Mean\": [qda_means],\n",
        "    \"Covariance\": [qda_covariance],\n",
        "    \"Prior Probability\": [qda_priors],\n",
        "}\n",
        "print(qda_summary)"
      ]
    },
    {
      "cell_type": "markdown",
      "metadata": {
        "id": "i6aIvg7QYNcV"
      },
      "source": [
        "### **K-Nearest Neighbors (KNN)**"
      ]
    },
    {
      "cell_type": "code",
      "execution_count": null,
      "metadata": {
        "id": "SUNdsbmkYNcV",
        "outputId": "987d0747-6d94-46f9-b9c3-5e9ee954c8b7"
      },
      "outputs": [
        {
          "ename": "NameError",
          "evalue": "name 'accuracy_score' is not defined",
          "output_type": "error",
          "traceback": [
            "\u001b[1;31m---------------------------------------------------------------------------\u001b[0m",
            "\u001b[1;31mNameError\u001b[0m                                 Traceback (most recent call last)",
            "Cell \u001b[1;32mIn[31], line 12\u001b[0m\n\u001b[0;32m     10\u001b[0m     knn\u001b[38;5;241m.\u001b[39mfit(X_train, y_train)\n\u001b[0;32m     11\u001b[0m     y_pred \u001b[38;5;241m=\u001b[39m knn\u001b[38;5;241m.\u001b[39mpredict(X_test)\n\u001b[1;32m---> 12\u001b[0m     accuracies\u001b[38;5;241m.\u001b[39mappend(\u001b[43maccuracy_score\u001b[49m(y_test, y_pred))\n\u001b[0;32m     14\u001b[0m \u001b[38;5;66;03m# Plot hasilnya\u001b[39;00m\n\u001b[0;32m     15\u001b[0m plt\u001b[38;5;241m.\u001b[39mfigure(figsize\u001b[38;5;241m=\u001b[39m(\u001b[38;5;241m10\u001b[39m, \u001b[38;5;241m6\u001b[39m))\n",
            "\u001b[1;31mNameError\u001b[0m: name 'accuracy_score' is not defined"
          ]
        }
      ],
      "source": [
        "# Mencari k terbaik\n",
        "from sklearn.neighbors import KNeighborsClassifier\n",
        "\n",
        "# Simpan hasil akurasi\n",
        "k_values = range(1, 51, 2)\n",
        "accuracies = []\n",
        "\n",
        "for k in k_values:\n",
        "    knn = KNeighborsClassifier(n_neighbors=k)\n",
        "    knn.fit(X_train, y_train)\n",
        "    y_pred = knn.predict(X_test)\n",
        "    accuracies.append(accuracy_score(y_test, y_pred))\n",
        "\n",
        "# Plot hasilnya\n",
        "plt.figure(figsize=(10, 6))\n",
        "plt.plot(k_values, accuracies, marker='o', linestyle='dashed', color='b')\n",
        "plt.xlabel('Number of Neighbors (k)')\n",
        "plt.ylabel('Accuracy')\n",
        "plt.title('Elbow Method for Optimal k')\n",
        "plt.xticks(k_values)\n",
        "plt.grid(True)\n",
        "plt.show()"
      ]
    },
    {
      "cell_type": "markdown",
      "metadata": {
        "id": "ERlF-oDsYNcV"
      },
      "source": [
        "### **Pemilihan k Terbaik**\n",
        "Diperoleh output di atas menunjukkan bahwa k = 7 memiliki akurasi paling tinggi sehingga akan dipilih k = 7 pada model KNN."
      ]
    },
    {
      "cell_type": "code",
      "execution_count": null,
      "metadata": {
        "id": "9bmDi0tnYNcW",
        "outputId": "58748f21-594a-49c0-bc8a-24d71dcc261e"
      },
      "outputs": [
        {
          "name": "stdout",
          "output_type": "stream",
          "text": [
            "[1 1 4 ... 3 0 2]\n"
          ]
        }
      ],
      "source": [
        "from sklearn.neighbors import KNeighborsClassifier\n",
        "from sklearn.metrics import classification_report, confusion_matrix, accuracy_score\n",
        "\n",
        "# Inisialisasi model KNN dengan k=7\n",
        "knn = KNeighborsClassifier(n_neighbors=7)\n",
        "\n",
        "# Melatih model dengan data training\n",
        "knn.fit(X_train, y_train)\n",
        "\n",
        "# Melakukan prediksi pada data testing\n",
        "y_pred_knn = knn.predict(X_test)\n",
        "print(y_pred_knn)"
      ]
    },
    {
      "cell_type": "markdown",
      "metadata": {
        "id": "lPqbNIzdYNcW"
      },
      "source": [
        "### **Naive Bayes**"
      ]
    },
    {
      "cell_type": "code",
      "execution_count": null,
      "metadata": {
        "id": "EJh-_K-vYNcW",
        "outputId": "4ea5993d-f7ca-409e-9b25-3e7b5680f2ab"
      },
      "outputs": [
        {
          "name": "stdout",
          "output_type": "stream",
          "text": [
            "[1 1 4 ... 3 0 2]\n"
          ]
        }
      ],
      "source": [
        "from sklearn.naive_bayes import GaussianNB\n",
        "from sklearn.metrics import classification_report, confusion_matrix, accuracy_score\n",
        "\n",
        "# Inisialisasi model Naive Bayes\n",
        "nb = GaussianNB()\n",
        "\n",
        "# Melatih model dengan data training\n",
        "nb.fit(X_train, y_train)\n",
        "\n",
        "# Melakukan prediksi pada data testing\n",
        "y_pred_nb = nb.predict(X_test)\n",
        "print(y_pred_nb)"
      ]
    },
    {
      "cell_type": "markdown",
      "metadata": {
        "id": "OYReFRyWYNcW"
      },
      "source": [
        "## **4. Evaluasi Model**"
      ]
    },
    {
      "cell_type": "code",
      "execution_count": null,
      "metadata": {
        "id": "3KtsXWj3YNcW",
        "outputId": "2ba13f01-6b45-45da-89fc-52b1642c213d"
      },
      "outputs": [
        {
          "name": "stdout",
          "output_type": "stream",
          "text": [
            "             Accuracy  Precision    Recall  F1-score\n",
            "LDA          0.691875   0.692972  0.691875  0.691471\n",
            "QDA          0.976313   0.976335  0.976313  0.976317\n",
            "KNN          0.704500   0.704467  0.704500  0.703840\n",
            "Naive Bayes  0.712063   0.710258  0.712063  0.710270\n"
          ]
        }
      ],
      "source": [
        "from sklearn.metrics import accuracy_score, classification_report, confusion_matrix, roc_curve, auc\n",
        "import seaborn as sns\n",
        "import matplotlib.pyplot as plt\n",
        "\n",
        "# List model dan prediksinya\n",
        "models = {\n",
        "    \"LDA\": lda,\n",
        "    \"QDA\": qda,\n",
        "    \"KNN\": knn,\n",
        "    \"Naive Bayes\": nb\n",
        "}\n",
        "\n",
        "results = {}\n",
        "\n",
        "for i, (name, model) in enumerate(models.items()):\n",
        "    # Prediksi\n",
        "    y_pred = model.predict(X_test)\n",
        "\n",
        "    # Evaluasi Metrik\n",
        "    acc = accuracy_score(y_test, y_pred)\n",
        "    report = classification_report(y_test, y_pred, output_dict=True)\n",
        "    cm = confusion_matrix(y_test, y_pred)\n",
        "\n",
        "    # Simpan hasil\n",
        "    results[name] = {\n",
        "        \"Accuracy\": acc,\n",
        "        \"Precision\": report[\"weighted avg\"][\"precision\"],\n",
        "        \"Recall\": report[\"weighted avg\"][\"recall\"],\n",
        "        \"F1-score\": report[\"weighted avg\"][\"f1-score\"]\n",
        "    }\n",
        "\n",
        "# Tampilkan hasil evaluasi model\n",
        "import pandas as pd\n",
        "df_results = pd.DataFrame(results).T\n",
        "print(df_results)"
      ]
    },
    {
      "cell_type": "markdown",
      "metadata": {
        "id": "U6ulb9XYYNcW"
      },
      "source": [
        "## **Interpretasi Evaluasi Model**  \n",
        "Diperoleh output di atas tabel evaluasi model yang berisi metrik **Accuracy, Precision, Recall, dan F1-score** dapat dianalisis performa empat model **LDA (Linear Discriminant Analysis), QDA (Quadratic Discriminant Analysis), KNN (K-Nearest Neighbors), dan Naive Bayes** yaitu sebagai berikut.\n",
        "\n",
        "### **1. QDA memiliki performa terbaik**  \n",
        "- **Akurasi: 0.9763 (97.63%)** \\> Model ini memiliki tingkat prediksi benar tertinggi dibanding model lain.  \n",
        "- **Precision: 0.9763** \\> Saat model memprediksi kelas tertentu, 97.63% dari prediksinya benar.  \n",
        "- **Recall: 0.9763** \\> Model mampu menangkap 97.63% dari total kasus aktual di setiap kelas.  \n",
        "- **F1-score: 0.9763** \\> Kombinasi Precision & Recall yang sangat tinggi menunjukkan bahwa model ini seimbang dan andal.\n",
        "\n",
        "QDA unggul secara keseluruhan yang menunjukkan bahwa hubungan antara fitur dan kelas lebih baik ditangkap oleh model non-linear dibanding model linear seperti LDA.\n",
        "\n",
        "### **2. Naive Bayes dan KNN lebih baik dari LDA**  \n",
        "- **Naive Bayes** memiliki akurasi **0.7121 (71.21%)**, sedikit lebih tinggi dibanding **KNN (70.45%)** dan **LDA (69.19%)**.  \n",
        "- **KNN & Naive Bayes memiliki Precision, Recall, dan F1-score yang hampir seimbang** menunjukkan performa cukup stabil.  \n",
        "\n",
        "Naive Bayes bisa lebih baik jika asumsi independensi antar fitur terpenuhi, sedangkan KNN bisa lebih baik jika ada cukup banyak data untuk menangkap pola yang kompleks.\n",
        "\n",
        "### **3. LDA memiliki performa terendah**  \n",
        "- **Akurasi: 0.6919 (69.19%)** \\> Paling rendah dibanding model lain.  \n",
        "- **Precision & Recall: 0.6929 dan 0.6919** \\> Hanya sedikit lebih baik dari tebak-tebakan acak (jika distribusi kelas seimbang).  \n",
        "- **F1-score: 0.6915** \\> Menunjukkan keseimbangan Precision dan Recall yang cukup rendah dibanding model lain.  \n",
        "\n",
        "LDA memiliki kelemahan karena mengasumsikan data terdistribusi normal dan hubungan antar kelas linear. Jika data tidak memenuhi asumsi ini, performanya cenderung lebih rendah dibanding model non-linear seperti QDA atau metode berbasis probabilitas seperti Naive Bayes.\n",
        "\n",
        "### **Kesimpulan**  \n",
        "1. **QDA adalah pilihan terbaik** karena memiliki performa jauh lebih tinggi di semua metrik.  \n",
        "2. **Naive Bayes & KNN lebih baik dari LDA** dan bisa menjadi alternatif tergantung pada karakteristik data.  \n",
        "3. **LDA kurang cocok untuk dataset ini** karena data tidak memenuhi asumsi linearitas yang diperlukan oleh model ini.  \n"
      ]
    }
  ],
  "metadata": {
    "colab": {
      "provenance": []
    },
    "kernelspec": {
      "display_name": "Python 3",
      "language": "python",
      "name": "python3"
    },
    "language_info": {
      "codemirror_mode": {
        "name": "ipython",
        "version": 3
      },
      "file_extension": ".py",
      "mimetype": "text/x-python",
      "name": "python",
      "nbconvert_exporter": "python",
      "pygments_lexer": "ipython3",
      "version": "3.13.2"
    }
  },
  "nbformat": 4,
  "nbformat_minor": 0
}
