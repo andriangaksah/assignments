{
  "nbformat": 4,
  "nbformat_minor": 0,
  "metadata": {
    "colab": {
      "provenance": []
    },
    "kernelspec": {
      "name": "ir",
      "display_name": "R"
    },
    "language_info": {
      "name": "R"
    }
  },
  "cells": [
    {
      "cell_type": "markdown",
      "source": [
        "## **Import Semua Packages/Library yang Digunakan**"
      ],
      "metadata": {
        "id": "ucc5fhl3K80t"
      }
    },
    {
      "cell_type": "markdown",
      "source": [
        "# **Laporan UTS Praktikum Metode Peramalan**\n",
        "- **Nama Lengkap:** Andriansah\n",
        "- **NIF:** 22320\n",
        "- **Program Studi:** Statistika"
      ],
      "metadata": {
        "id": "pT7Z56wiKPdM"
      }
    },
    {
      "cell_type": "code",
      "execution_count": null,
      "metadata": {
        "id": "c8FTDslgi56H",
        "colab": {
          "base_uri": "https://localhost:8080/",
          "height": 109
        },
        "outputId": "aec5cad6-ec19-4524-b572-6bf3bd52cafc"
      },
      "outputs": [
        {
          "output_type": "error",
          "ename": "ERROR",
          "evalue": "Error in library(opencsv): there is no package called ‘opencsv’\n",
          "traceback": [
            "Error in library(opencsv): there is no package called ‘opencsv’\nTraceback:\n",
            "1. stop(packageNotFoundError(package, lib.loc, sys.call()))"
          ]
        }
      ],
      "source": [
        "library(googledrive)\n",
        "library(ggplot2)"
      ]
    },
    {
      "cell_type": "markdown",
      "source": [
        "## **Persiapan Data**\n"
      ],
      "metadata": {
        "id": "A29MtiDCuMlD"
      }
    },
    {
      "cell_type": "code",
      "source": [
        "# URL file CSV di Google Drive\n",
        "file_url <- \"https://drive.google.com/file/d/1huQ6J4uqQUsr8o4dpbfZPPlbtwSf9Ptk/view?usp=drive_link\"\n",
        "\n",
        "# Ekstrak ID file dari URL\n",
        "file_id <- gsub(\".*?/d/(.*?)/.*\", \"\\\\1\", file_url)\n",
        "\n",
        "# Download file CSV dari Google Drive ke Colab\n",
        "drive_download(as_id(file_id), path = \"file.csv\", overwrite = TRUE)\n",
        "\n",
        "# Membaca file CSV\n",
        "data <- read.csv(\"file.csv\")\n",
        "\n",
        "# Tampilkan beberapa baris pertama dari data\n",
        "head(data)"
      ],
      "metadata": {
        "id": "bWlfoA7ZudMC"
      },
      "execution_count": null,
      "outputs": []
    },
    {
      "cell_type": "markdown",
      "source": [
        "## **Jawaban Bagian ...**"
      ],
      "metadata": {
        "id": "Fzk-HGubLbn4"
      }
    },
    {
      "cell_type": "markdown",
      "source": [
        "Berikan penjelasan Anda di sini...\n",
        "\n",
        "1.   Berikan penjelasan Anda di sini...\n",
        "2.   Berikan penjelasan Anda di sini...\n"
      ],
      "metadata": {
        "id": "Z5ahBUm5MLW9"
      }
    },
    {
      "cell_type": "markdown",
      "source": [
        "Template jawaban untuk uji stasioner:\n",
        "*   **Hipotesis**\\\n",
        "$H_0:$ Data tidak stasioner\\\n",
        "$H_1:$ Data stasioner\n",
        "\n",
        "*   **Tingkat Signifikansi**\\\n",
        "$\\alpha = 5\\%$\n",
        "\n",
        "*   **Statistik Uji**\\\n",
        "P-Value = $...$\n",
        "\n",
        "*   **Daerah Kritik**\\\n",
        "$H_0$ ditolak jika P-Value $< \\alpha$\n",
        "\n",
        "*   **Kesimpulan**\\\n",
        "Karena P-Value = $... > 5\\%$, maka $H_0$ tidak ditolak. Sehingga dapat disimpulkan bahwa ...."
      ],
      "metadata": {
        "id": "OOJNphDCNE9S"
      }
    },
    {
      "cell_type": "code",
      "source": [
        "# Tuliskan syntax Anda di sini..."
      ],
      "metadata": {
        "id": "3i_u8TCGMK4E"
      },
      "execution_count": null,
      "outputs": []
    },
    {
      "cell_type": "code",
      "source": [
        "# Anda juga diperbolehkan menambah code cell baru"
      ],
      "metadata": {
        "id": "ZjqUeZ-JQGdb"
      },
      "execution_count": null,
      "outputs": []
    },
    {
      "cell_type": "code",
      "source": [
        "# Posisi code cell dan text cell dibebaskan, yang penting rapi"
      ],
      "metadata": {
        "id": "oMOV8d56jArn"
      },
      "execution_count": null,
      "outputs": []
    },
    {
      "cell_type": "markdown",
      "source": [
        "**Interpretasi:**\\\n",
        "Berikan interpretasi Anda di sini..."
      ],
      "metadata": {
        "id": "QeZ4V1WSQOFT"
      }
    },
    {
      "cell_type": "markdown",
      "source": [
        "## **Kritik dan Saran**"
      ],
      "metadata": {
        "id": "Tigy74s1vewl"
      }
    },
    {
      "cell_type": "markdown",
      "source": [
        "Berikan kritik dan saran Anda untuk asisten praktikum selama setengah semester di sini ..."
      ],
      "metadata": {
        "id": "YvLjrUz8vnTl"
      }
    }
  ]
}
